{
 "cells": [
  {
   "cell_type": "markdown",
   "metadata": {},
   "source": [
    "## __APPSTAT_03. <br>Общее понятие вероятностного пространства__\n",
    "***"
   ]
  },
  {
   "cell_type": "code",
   "execution_count": 48,
   "metadata": {},
   "outputs": [],
   "source": [
    "import random\n",
    "import numpy as np"
   ]
  },
  {
   "cell_type": "markdown",
   "metadata": {},
   "source": [
    "### __Применение метода Монте-Карло для оценки площади__"
   ]
  },
  {
   "cell_type": "markdown",
   "metadata": {},
   "source": [
    "При рассмотрении геометрической интерпретации вероятности мы исходим из того, что вероятность является функцией геометрической меры пространства благоприятных исходов. Например, вероятность регистрации частицы тем выше, чем больше размеры чувствительной площадки детектора. Пойдем в обратном направлении - посмотрим на геометрическую меру как на функцию от вероятности благоприятных исходов: достоверно зная долю частиц, достигших детектора, от общего числа выпущенных, попробуем оценить размеры чувствительной площадки.\n",
    "\n",
    "__Пример__. _Оценить методом Монте-Карло площадь единичного круга_.\n",
    "\n",
    "Пусть имеем круг единичного радиуса $r=1$ с центром в начале координат. Тогда квадрат, описанный вокруг круга, имеет сторону $2r$, а площадь $4r^2=4$. Случайным образом будем многократно бросать точки в квадрат (точка не может пролететь мимо квадрата) и счетчиком фиксировать особые события: когда точки попадают в подмножество квадрата - в наш круг единичного радиуса.\n",
    "\n",
    "Реализуем в коде следующим образом. Площадь квадрата __`region`__ 4. Всего выпустим __`total`__ $10^6$ точек, координаты которых случайные значения из равномерного распределения $[-1, 1]$. Если координаты точки удовлетворяют уравнению круга $(x-x_0)^2+(y-y_0)^2 \\leq r^2$, где $r=1$ и для простоты $(x_0,y_0)=(0,0)$, то счетчик __`valid`__ увеличивается на единицу. Для детерминированности результата зафиксируем также произвольный __`seed`__ генератора псевдослучайных чисел. "
   ]
  },
  {
   "cell_type": "code",
   "execution_count": 38,
   "metadata": {},
   "outputs": [],
   "source": [
    "region = 4\n",
    "total = 1e6\n",
    "valid = 0\n",
    "random.seed(42)\n",
    "\n",
    "for _ in range(int(total)):\n",
    "    x = random.uniform(-1, 1)\n",
    "    y = random.uniform(-1, 1)\n",
    "    if x**2 + y**2 <= 1:\n",
    "        valid += 1"
   ]
  },
  {
   "cell_type": "markdown",
   "metadata": {},
   "source": [
    "Итоговое значение счетчика __`valid`__ разделим на количество выпущенных точек __`total`__, получив долю благоприятных исходов, и умножим это отношение на геометрическую меру пространства всевозможных исходов - на площадь квадрата __`region`__:"
   ]
  },
  {
   "cell_type": "code",
   "execution_count": 39,
   "metadata": {},
   "outputs": [
    {
     "data": {
      "text/plain": [
       "3.140244"
      ]
     },
     "execution_count": 39,
     "metadata": {},
     "output_type": "execute_result"
    }
   ],
   "source": [
    "pi_exp = valid / total * region\n",
    "pi_exp  # 3.140244"
   ]
  },
  {
   "cell_type": "markdown",
   "metadata": {},
   "source": [
    "Так как счетчик __`valid`__ благоприятных исходов \"откалиброван\" уравнением круга, то получившееся значение и есть искомая оценка площади единичного круга. Точная площадь круга единичного радиуса $\\pi r^2=\\pi$ (в той мере, насколько $\\pi$ можно назвать _точным_). Отклонение составило:"
   ]
  },
  {
   "cell_type": "code",
   "execution_count": 40,
   "metadata": {},
   "outputs": [
    {
     "data": {
      "text/plain": [
       "0.0013486535897930807"
      ]
     },
     "execution_count": 40,
     "metadata": {},
     "output_type": "execute_result"
    }
   ],
   "source": [
    "delta = abs(pi_exp - np.pi)\n",
    "delta  # 0.0013486535897930807"
   ]
  },
  {
   "cell_type": "markdown",
   "metadata": {},
   "source": [
    "Примечательно, что при таком стохастическом подходе _больше точек - точнее результат_ не работает! Покажем это при том же __`seed`__. На этот раз будем бросать точки не заранее определенное число раз, а пока значение площади единичного круга не попадет в однумиллиардную эпсилон-окрестность табличного значения числа $\\pi$."
   ]
  },
  {
   "cell_type": "code",
   "execution_count": 41,
   "metadata": {},
   "outputs": [],
   "source": [
    "random.seed(42)\n",
    "epsilon = 1e-9\n",
    "valid = total = 0\n",
    "area = 0\n",
    "        \n",
    "while abs(area - np.pi) >= epsilon:\n",
    "    x = random.uniform(-1, 1)\n",
    "    y = random.uniform(-1, 1)\n",
    "    total += 1\n",
    "    if x**2 + y**2 <= 1:\n",
    "        valid += 1\n",
    "        area = valid / total * region"
   ]
  },
  {
   "cell_type": "markdown",
   "metadata": {},
   "source": [
    "Точек для такой сходимости потребовалось:"
   ]
  },
  {
   "cell_type": "code",
   "execution_count": 42,
   "metadata": {},
   "outputs": [
    {
     "data": {
      "text/plain": [
       "66430"
      ]
     },
     "execution_count": 42,
     "metadata": {},
     "output_type": "execute_result"
    }
   ],
   "source": [
    "total  # 66430"
   ]
  },
  {
   "cell_type": "markdown",
   "metadata": {},
   "source": [
    "Оценка площади единичного круга:"
   ]
  },
  {
   "cell_type": "code",
   "execution_count": 43,
   "metadata": {},
   "outputs": [
    {
     "data": {
      "text/plain": [
       "3.141592653921421"
      ]
     },
     "execution_count": 43,
     "metadata": {},
     "output_type": "execute_result"
    }
   ],
   "source": [
    "area  # 3.141592653921421"
   ]
  },
  {
   "cell_type": "markdown",
   "metadata": {},
   "source": [
    "Мы проделали в 15 раз меньше работы:"
   ]
  },
  {
   "cell_type": "code",
   "execution_count": 44,
   "metadata": {},
   "outputs": [
    {
     "data": {
      "text/plain": [
       "15"
      ]
     },
     "execution_count": 44,
     "metadata": {},
     "output_type": "execute_result"
    }
   ],
   "source": [
    "round(1e6 / total)  # 15"
   ]
  },
  {
   "cell_type": "markdown",
   "metadata": {},
   "source": [
    "Но получили абсолютную точность выше более чем в 4 млн раз:"
   ]
  },
  {
   "cell_type": "code",
   "execution_count": 47,
   "metadata": {},
   "outputs": [
    {
     "data": {
      "text/plain": [
       "4066766"
      ]
     },
     "execution_count": 47,
     "metadata": {},
     "output_type": "execute_result"
    }
   ],
   "source": [
    "round(delta / abs(area - np.pi))  # 4_066_766"
   ]
  },
  {
   "cell_type": "code",
   "execution_count": null,
   "metadata": {},
   "outputs": [],
   "source": []
  }
 ],
 "metadata": {
  "kernelspec": {
   "display_name": "Python 3.10.4 64-bit",
   "language": "python",
   "name": "python3"
  },
  "language_info": {
   "codemirror_mode": {
    "name": "ipython",
    "version": 3
   },
   "file_extension": ".py",
   "mimetype": "text/x-python",
   "name": "python",
   "nbconvert_exporter": "python",
   "pygments_lexer": "ipython3",
   "version": "3.10.4"
  },
  "orig_nbformat": 4,
  "vscode": {
   "interpreter": {
    "hash": "2b7d1ed637790b5ec3de7c97104df404492ef6fce05ce8fb6d683ce6cc683c52"
   }
  }
 },
 "nbformat": 4,
 "nbformat_minor": 2
}
