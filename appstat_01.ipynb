{
 "cells": [
  {
   "cell_type": "markdown",
   "metadata": {},
   "source": [
    "## __APPSTAT_01. <br>Простейшая теория вероятностей__\n",
    "***"
   ]
  },
  {
   "cell_type": "code",
   "execution_count": 186,
   "metadata": {},
   "outputs": [],
   "source": [
    "from math import comb, perm, factorial, ceil\n",
    "from itertools import product, permutations, combinations, combinations_with_replacement, chain\n",
    "from operator import mul\n",
    "from collections import defaultdict\n",
    "from random import sample\n",
    "from fractions import Fraction\n",
    "from sympy import FiniteSet, PowerSet, Rational, Symbol, Eq, Sum, oo\n",
    "from sympy.stats import Die, Coin, Binomial, density, P\n",
    "from scipy.stats import binom\n",
    "import matplotlib.pyplot as plt\n",
    "from matplotlib_venn import venn3\n",
    "import seaborn as sns "
   ]
  },
  {
   "cell_type": "markdown",
   "metadata": {},
   "source": [
    "### __Базовые операции над множествами в python__\n",
    "__Задача__. _На [диаграмме Венна](https://ru.wikipedia.org/wiki/%D0%94%D0%B8%D0%B0%D0%B3%D1%80%D0%B0%D0%BC%D0%BC%D0%B0_%D0%92%D0%B5%D0%BD%D0%BD%D0%B0) для 3 множеств занумеруйте сегменты, соотнесите их с соответствующими множествами и с помощью [операций над множествами в python](https://docs.python.org/3/library/stdtypes.html#set-types-set-frozenset) определите, какие из приведенных равенств являются верными_."
   ]
  },
  {
   "cell_type": "markdown",
   "metadata": {},
   "source": [
    "$\n",
    "(A \\cup B) \\setminus C = (A \\setminus C) \\cup (B \\setminus C)\n",
    "\\\\ (A \\cap B) \\cup C = (A \\cap C) \\cup (B \\cap C)\n",
    "\\\\ (A \\cap B) \\setminus C = (A \\setminus C) \\cap B\n",
    "\\\\ (A \\cap B) \\cup C = (A \\cup C) \\cap (B \\cup C)\n",
    "$\n",
    "\n",
    "__Решение__. На диаграмме Венна для 3 множеств произвольно занумеруем сегменты:"
   ]
  },
  {
   "cell_type": "code",
   "execution_count": 207,
   "metadata": {},
   "outputs": [
    {
     "data": {
      "image/png": "[encoded data removed]",
      "text/plain": [
       "<Figure size 576x576 with 1 Axes>"
      ]
     },
     "metadata": {},
     "output_type": "display_data"
    }
   ],
   "source": [
    "plt.figure(figsize=(8, 8))\n",
    "venn3(subsets=(range(1, 8)), set_labels=('A', 'B', 'C'), alpha=.6)\n",
    "plt.show()"
   ]
  },
  {
   "cell_type": "markdown",
   "metadata": {},
   "source": [
    "Выпишем получившиеся множествa. Порядок обхода элементов, разумеется, значения не имеет, поскольку множество это неупорядоченная коллекция."
   ]
  },
  {
   "cell_type": "code",
   "execution_count": 3,
   "metadata": {},
   "outputs": [],
   "source": [
    "A = {1, 3, 7, 5}\n",
    "B = {3, 2, 6, 7}\n",
    "C = {5, 7, 6, 4}"
   ]
  },
  {
   "cell_type": "markdown",
   "metadata": {},
   "source": [
    "Символ объединения $\\cup$ (union) читается как _cup_, \"кружка\". $\\textbf |$ (сложение, логическое _или_) это _pipe_, \"труба\". Символ пересечения $\\cap$ (intersection) читается как _cap_, \"крышка\", \"колпачок\". $\\&$ (умножение, логическое _и_) это амперсанд. Бэкслэш $\\backslash$ (difference, разность) в контексте множеств можно называть вычитанием, минусом, _setminus_.\n",
    "<br>С помощью операций над множествами протестируем истинность заданных логических высказываний:"
   ]
  },
  {
   "cell_type": "code",
   "execution_count": 4,
   "metadata": {},
   "outputs": [
    {
     "data": {
      "text/plain": [
       "True"
      ]
     },
     "execution_count": 4,
     "metadata": {},
     "output_type": "execute_result"
    }
   ],
   "source": [
    "(A | B) - C == (A - C) | (B - C)  # True"
   ]
  },
  {
   "cell_type": "code",
   "execution_count": 5,
   "metadata": {},
   "outputs": [
    {
     "data": {
      "text/plain": [
       "False"
      ]
     },
     "execution_count": 5,
     "metadata": {},
     "output_type": "execute_result"
    }
   ],
   "source": [
    "(A & B) | C == (A & C) | (B & C)  # False"
   ]
  },
  {
   "cell_type": "code",
   "execution_count": 6,
   "metadata": {},
   "outputs": [
    {
     "data": {
      "text/plain": [
       "True"
      ]
     },
     "execution_count": 6,
     "metadata": {},
     "output_type": "execute_result"
    }
   ],
   "source": [
    "(A & B) - C == (A - C) & B  # True"
   ]
  },
  {
   "cell_type": "code",
   "execution_count": 7,
   "metadata": {},
   "outputs": [
    {
     "data": {
      "text/plain": [
       "True"
      ]
     },
     "execution_count": 7,
     "metadata": {},
     "output_type": "execute_result"
    }
   ],
   "source": [
    "(A & B) | C == (A | C) & (B | C)  # True"
   ]
  },
  {
   "cell_type": "markdown",
   "metadata": {},
   "source": [
    "Это значительно проще, чем рисовать круги и заштриховывать области, не так ли? Инициализация - в смысле исходного моделирования и оживления объектов - может быть до известной степени творческой, если не нарушает свойств и поведения моделируемых объектов. "
   ]
  },
  {
   "cell_type": "markdown",
   "metadata": {},
   "source": [
    "### __Моделирование простейших вероятностных пространств__"
   ]
  },
  {
   "cell_type": "markdown",
   "metadata": {},
   "source": [
    "[Прямое (декартово) произведение](https://ru.wikipedia.org/wiki/%D0%9F%D1%80%D1%8F%D0%BC%D0%BE%D0%B5_%D0%BF%D1%80%D0%BE%D0%B8%D0%B7%D0%B2%D0%B5%D0%B4%D0%B5%D0%BD%D0%B8%D0%B5)"
   ]
  },
  {
   "cell_type": "code",
   "execution_count": 8,
   "metadata": {},
   "outputs": [
    {
     "data": {
      "text/plain": [
       "{(1, 1),\n",
       " (1, 2),\n",
       " (1, 3),\n",
       " (1, 4),\n",
       " (2, 1),\n",
       " (2, 2),\n",
       " (2, 3),\n",
       " (2, 4),\n",
       " (3, 1),\n",
       " (3, 2),\n",
       " (3, 3),\n",
       " (3, 4),\n",
       " (4, 1),\n",
       " (4, 2),\n",
       " (4, 3),\n",
       " (4, 4)}"
      ]
     },
     "execution_count": 8,
     "metadata": {},
     "output_type": "execute_result"
    }
   ],
   "source": [
    "# пространство элементарных исходов эксперимента 2-кратного подбрасывания\n",
    "# правильного тетраэдра, в вершинах которого написаны числа 1, 2, 3, 4\n",
    "omega = set(product(range(1, 5), range(1, 5)))  # заменяет конструкцию \"цикл в цикле\"\n",
    "omega"
   ]
  },
  {
   "cell_type": "code",
   "execution_count": 9,
   "metadata": {},
   "outputs": [
    {
     "data": {
      "text/plain": [
       "{(1, 1),\n",
       " (1, 2),\n",
       " (1, 3),\n",
       " (1, 4),\n",
       " (2, 1),\n",
       " (2, 2),\n",
       " (2, 3),\n",
       " (2, 4),\n",
       " (3, 1),\n",
       " (3, 2),\n",
       " (3, 3),\n",
       " (3, 4),\n",
       " (4, 1),\n",
       " (4, 2),\n",
       " (4, 3),\n",
       " (4, 4)}"
      ]
     },
     "execution_count": 9,
     "metadata": {},
     "output_type": "execute_result"
    }
   ],
   "source": [
    "# то же средствами sympy\n",
    "tetrahedron = FiniteSet(*range(1, 5))\n",
    "set(tetrahedron**2)"
   ]
  },
  {
   "cell_type": "code",
   "execution_count": 10,
   "metadata": {},
   "outputs": [
    {
     "data": {
      "text/plain": [
       "{(1, 1),\n",
       " (1, 2),\n",
       " (1, 3),\n",
       " (1, 4),\n",
       " (2, 2),\n",
       " (2, 3),\n",
       " (2, 4),\n",
       " (3, 3),\n",
       " (3, 4),\n",
       " (4, 4)}"
      ]
     },
     "execution_count": 10,
     "metadata": {},
     "output_type": "execute_result"
    }
   ],
   "source": [
    "# если важен только состав элементов\n",
    "set(combinations_with_replacement(range(1, 5), 2))"
   ]
  },
  {
   "cell_type": "markdown",
   "metadata": {},
   "source": [
    "__Пример__. Пусть случайный эксперимент состоит в подбрасывании двух тетраэдров. Ответим на несколько вопросов.\n",
    "\n",
    "_Из скольки равновозможных элементарных исходов состоит пространство элементарных исходов данного эксперимента?_\n",
    "<br>Воспользуемся пространством элементарных исходов __`omega`__, созданным выше:"
   ]
  },
  {
   "cell_type": "code",
   "execution_count": 11,
   "metadata": {},
   "outputs": [
    {
     "data": {
      "text/plain": [
       "16"
      ]
     },
     "execution_count": 11,
     "metadata": {},
     "output_type": "execute_result"
    }
   ],
   "source": [
    "len(omega)  # 4 * 4 = 16"
   ]
  },
  {
   "cell_type": "markdown",
   "metadata": {},
   "source": [
    "_Из скольки элементарных исходов состоит событие $A$ - \"сумма выпавших чисел равна 7\"_?\n",
    "<br>Выделим из __`omega`__ исходы, благоприятствующие событию $A$:"
   ]
  },
  {
   "cell_type": "code",
   "execution_count": 12,
   "metadata": {},
   "outputs": [
    {
     "data": {
      "text/plain": [
       "[(3, 4), (4, 3)]"
      ]
     },
     "execution_count": 12,
     "metadata": {},
     "output_type": "execute_result"
    }
   ],
   "source": [
    "# с помощью list comprehension и условия\n",
    "valid = [pair for pair in omega if sum(pair) == 7]\n",
    "valid  # [(3, 4), (4, 3)]"
   ]
  },
  {
   "cell_type": "code",
   "execution_count": 13,
   "metadata": {},
   "outputs": [
    {
     "data": {
      "text/plain": [
       "2"
      ]
     },
     "execution_count": 13,
     "metadata": {},
     "output_type": "execute_result"
    }
   ],
   "source": [
    "len(valid)  # событие A состоит из 2 элементарных исходов"
   ]
  },
  {
   "cell_type": "code",
   "execution_count": 14,
   "metadata": {},
   "outputs": [
    {
     "data": {
      "text/plain": [
       "2"
      ]
     },
     "execution_count": 14,
     "metadata": {},
     "output_type": "execute_result"
    }
   ],
   "source": [
    "# то же с помощью filter и анонимной функции\n",
    "valid = list(filter(lambda pair: sum(pair) == 7, omega))\n",
    "valid  # [(3, 4), (4, 3)]\n",
    "len(valid)  # 2"
   ]
  },
  {
   "cell_type": "markdown",
   "metadata": {},
   "source": [
    "_Из скольки элементарных исходов состоит событие $B$ - \"произведение выпавших чисел кратно трем\"_?\n",
    "<br>Выделим из __`omega`__ исходы, благоприятствующие событию $B$:"
   ]
  },
  {
   "cell_type": "code",
   "execution_count": 15,
   "metadata": {},
   "outputs": [
    {
     "data": {
      "text/plain": [
       "[(3, 4), (3, 1), (4, 3), (2, 3), (3, 3), (3, 2), (1, 3)]"
      ]
     },
     "execution_count": 15,
     "metadata": {},
     "output_type": "execute_result"
    }
   ],
   "source": [
    "# с помощью list comprehension и условия\n",
    "valid = [pair for pair in omega if not mul(*pair) % 3]\n",
    "valid  # [(3, 4), (3, 1), (4, 3), (2, 3), (3, 3), (3, 2), (1, 3)]"
   ]
  },
  {
   "cell_type": "code",
   "execution_count": 16,
   "metadata": {},
   "outputs": [
    {
     "data": {
      "text/plain": [
       "7"
      ]
     },
     "execution_count": 16,
     "metadata": {},
     "output_type": "execute_result"
    }
   ],
   "source": [
    "len(valid)  # событие B состоит из 7 элементарных исходов"
   ]
  },
  {
   "cell_type": "markdown",
   "metadata": {},
   "source": [
    "C помощью __`filter`__ решим, взяв во внимание, что на тетраэдре нет чисел, кратных трем, больше 3, а значит, пара, произведение которой кратно трем, должно содержать тройку."
   ]
  },
  {
   "cell_type": "code",
   "execution_count": 17,
   "metadata": {},
   "outputs": [
    {
     "data": {
      "text/plain": [
       "7"
      ]
     },
     "execution_count": 17,
     "metadata": {},
     "output_type": "execute_result"
    }
   ],
   "source": [
    "# с помощью filter и анонимной функции\n",
    "valid = list(filter(lambda pair: 3 in pair, omega))\n",
    "valid  # [(3, 4), (3, 1), (4, 3), (2, 3), (3, 3), (3, 2), (1, 3)]\n",
    "len(valid)  # 7"
   ]
  },
  {
   "cell_type": "markdown",
   "metadata": {},
   "source": [
    "__Пример__. _Пусть случайный эксперимент заключается в двукратной стрельбе по мишени, а вероятности элементарных исходов $\\omega_1$ — \"попал оба раза\", $\\omega_2$ — \"первый раз попал, а второй промахнулся\", $\\omega_3$ — \"первый раз промахнулся, а второй попал\" и $\\omega_4$ — \"оба раза промахнулся\" определены следующим образом: $p_1=\\frac{9}{16}$, $p_2=p_3=\\frac{3}{16}$, $p_4=\\frac{1}{16}$._\n",
    "<br>_Чему равна вероятность события $A$ — \"стрелок хотя бы один раз попал по мишени\"?_"
   ]
  },
  {
   "cell_type": "code",
   "execution_count": 18,
   "metadata": {},
   "outputs": [],
   "source": [
    "# вероятности элементарных исходов\n",
    "p = [9/16, 3/16, 3/16, 1/16]"
   ]
  },
  {
   "cell_type": "markdown",
   "metadata": {},
   "source": [
    "Во-первых, проверим, возможно ли такое вероятностное пространство:"
   ]
  },
  {
   "cell_type": "code",
   "execution_count": 19,
   "metadata": {},
   "outputs": [
    {
     "data": {
      "text/plain": [
       "True"
      ]
     },
     "execution_count": 19,
     "metadata": {},
     "output_type": "execute_result"
    }
   ],
   "source": [
    "sum(p) == 1  # True: да, возможно"
   ]
  },
  {
   "cell_type": "markdown",
   "metadata": {},
   "source": [
    "Событию $A$ благоприятствуют исходы, когда стрелок попал ровно один раз - исходы $\\omega_2$ и $\\omega_3$, и когда стрелок попал оба раза - исход $\\omega_1$. По правилу суммы:"
   ]
  },
  {
   "cell_type": "code",
   "execution_count": 20,
   "metadata": {},
   "outputs": [
    {
     "data": {
      "text/plain": [
       "0.9375"
      ]
     },
     "execution_count": 20,
     "metadata": {},
     "output_type": "execute_result"
    }
   ],
   "source": [
    "pA = sum(p[:3])\n",
    "pA  # 0.9375"
   ]
  },
  {
   "cell_type": "markdown",
   "metadata": {},
   "source": [
    "Либо через вычитание из вероятности достоверного события, единицы, вероятности противоположного события $\\omega_4$: "
   ]
  },
  {
   "cell_type": "code",
   "execution_count": 21,
   "metadata": {},
   "outputs": [
    {
     "data": {
      "text/plain": [
       "0.9375"
      ]
     },
     "execution_count": 21,
     "metadata": {},
     "output_type": "execute_result"
    }
   ],
   "source": [
    "pA = 1 - p[-1]\n",
    "pA  # 0.9375"
   ]
  },
  {
   "cell_type": "markdown",
   "metadata": {},
   "source": [
    "[Булеан](https://ru.wikipedia.org/wiki/%D0%91%D1%83%D0%BB%D0%B5%D0%B0%D0%BD)"
   ]
  },
  {
   "cell_type": "code",
   "execution_count": 22,
   "metadata": {},
   "outputs": [],
   "source": [
    "# итератор средствами стандартной библиотеки\n",
    "def powerset(iterable):\n",
    "    \"powerset([1,2,3]) --> () (1,) (2,) (3,) (1,2) (1,3) (2,3) (1,2,3)\"\n",
    "    s = list(iterable)\n",
    "    return chain.from_iterable(combinations(s, r) for r in range(len(s)+1))"
   ]
  },
  {
   "cell_type": "code",
   "execution_count": 23,
   "metadata": {},
   "outputs": [
    {
     "data": {
      "text/latex": [
       "$\\displaystyle \\left\\{\\emptyset, \\left\\{1\\right\\}, \\left\\{2\\right\\}, \\left\\{3\\right\\}, \\left\\{1, 2\\right\\}, \\left\\{1, 3\\right\\}, \\left\\{2, 3\\right\\}, \\left\\{1, 2, 3\\right\\}\\right\\}$"
      ],
      "text/plain": [
       "FiniteSet(EmptySet, {1}, {2}, {3}, {1, 2}, {1, 3}, {2, 3}, {1, 2, 3})"
      ]
     },
     "execution_count": 23,
     "metadata": {},
     "output_type": "execute_result"
    }
   ],
   "source": [
    "# то же средствами sympy\n",
    "PowerSet(FiniteSet(*range(1, 4))).rewrite(FiniteSet)"
   ]
  },
  {
   "cell_type": "code",
   "execution_count": 24,
   "metadata": {},
   "outputs": [
    {
     "data": {
      "text/plain": [
       "{H: 1/2, T: 1/2}"
      ]
     },
     "execution_count": 24,
     "metadata": {},
     "output_type": "execute_result"
    }
   ],
   "source": [
    "# fair/честные/правильные монеты готовым классом sympy\n",
    "# H - heads/орел, T - tails/решка\n",
    "C1, C2 = Coin('C1'), Coin('C2')\n",
    "density(C1).dict  # {T: 1/2, H: 1/2}, словарь \"исход: вероятность исхода\""
   ]
  },
  {
   "cell_type": "code",
   "execution_count": 25,
   "metadata": {},
   "outputs": [
    {
     "data": {
      "text/plain": [
       "{2*H: 1/4, H + T: 1/2, 2*T: 1/4}"
      ]
     },
     "execution_count": 25,
     "metadata": {},
     "output_type": "execute_result"
    }
   ],
   "source": [
    "# симуляция 2-кратного подбрасывания правильной монеты готовым классом sympy\n",
    "density(C1+C2).dict  # {2*H: 1/4, H + T: 1/2, 2*T: 1/4}"
   ]
  },
  {
   "cell_type": "code",
   "execution_count": 26,
   "metadata": {},
   "outputs": [
    {
     "data": {
      "text/plain": [
       "{H: 3/4, T: 1/4}"
      ]
     },
     "execution_count": 26,
     "metadata": {},
     "output_type": "execute_result"
    }
   ],
   "source": [
    "# unfair coin/нечестная/неправильная монета готовым классом sympy\n",
    "C3 = Coin('C3', Rational(3, 4))\n",
    "density(C3).dict  # {T: 1/4, H: 3/4}"
   ]
  },
  {
   "cell_type": "code",
   "execution_count": 27,
   "metadata": {},
   "outputs": [
    {
     "data": {
      "text/plain": [
       "{5*Решка: 1/32,\n",
       " Орел + 4*Решка: 5/32,\n",
       " 2*Орел + 3*Решка: 5/16,\n",
       " 3*Орел + 2*Решка: 5/16,\n",
       " 4*Орел + Решка: 5/32,\n",
       " 5*Орел: 1/32}"
      ]
     },
     "execution_count": 27,
     "metadata": {},
     "output_type": "execute_result"
    }
   ],
   "source": [
    "# симуляция 5-кратного подбрасывания правильной монеты биномиальным распределением\n",
    "n = Symbol('n', positive=True, integer=True)\n",
    "X = Binomial('X', n, Rational(1, 2), 'Орел', 'Решка')\n",
    "density(X).dict.subs(n, 5).doit()\n",
    "# {5*Решка: 1/32,\n",
    "#  Орел + 4*Решка: 5/32,\n",
    "#  2*Орел + 3*Решка: 5/16,\n",
    "#  3*Орел + 2*Решка: 5/16,\n",
    "#  4*Орел + Решка: 5/32,\n",
    "#  5*Орел: 1/32}"
   ]
  },
  {
   "cell_type": "markdown",
   "metadata": {},
   "source": [
    "__Пример__. Пусть бросается две правильные (\"честные\") шестигранные игральные кости (_fair dice_). Ответим на несколько вопросов.\n",
    "\n",
    "_Какова вероятность события $A$ - \"сумма выпавших очков равна 8\"?_\n",
    "<br>Создадим игральные кости как объекты класса __`sympy.stats.Die`__:"
   ]
  },
  {
   "cell_type": "code",
   "execution_count": 28,
   "metadata": {},
   "outputs": [
    {
     "data": {
      "text/plain": [
       "{1: 1/6, 2: 1/6, 3: 1/6, 4: 1/6, 5: 1/6, 6: 1/6}"
      ]
     },
     "execution_count": 28,
     "metadata": {},
     "output_type": "execute_result"
    }
   ],
   "source": [
    "D1, D2 = Die('D1', 6), Die('D2', 6)\n",
    "density(D1).dict  # {1: 1/6, 2: 1/6, 3: 1/6, 4: 1/6, 5: 1/6, 6: 1/6}"
   ]
  },
  {
   "cell_type": "code",
   "execution_count": 29,
   "metadata": {},
   "outputs": [
    {
     "data": {
      "text/plain": [
       "{2: 1/36,\n",
       " 3: 1/18,\n",
       " 4: 1/12,\n",
       " 5: 1/9,\n",
       " 6: 5/36,\n",
       " 7: 1/6,\n",
       " 8: 5/36,\n",
       " 9: 1/9,\n",
       " 10: 1/12,\n",
       " 11: 1/18,\n",
       " 12: 1/36}"
      ]
     },
     "execution_count": 29,
     "metadata": {},
     "output_type": "execute_result"
    }
   ],
   "source": [
    "# распределение вероятностей дискретной случайной величины - \n",
    "# суммы выпавших очков:\n",
    "# {2: 1/36, 3: 1/18, 4: 1/12, 5: 1/9, 6: 5/36, 7: 1/6,\n",
    "#  8: 5/36, 9: 1/9, 10: 1/12, 11: 1/18, 12: 1/36}\n",
    "dA = density(D1+D2).dict\n",
    "dA"
   ]
  },
  {
   "cell_type": "code",
   "execution_count": 30,
   "metadata": {},
   "outputs": [
    {
     "data": {
      "text/latex": [
       "$\\displaystyle \\frac{5}{36}$"
      ],
      "text/plain": [
       "5/36"
      ]
     },
     "execution_count": 30,
     "metadata": {},
     "output_type": "execute_result"
    }
   ],
   "source": [
    "# вероятность события A - \"сумма выпавших очков равна 8\"\n",
    "dA[8]  # 5/36, обращение по ключу"
   ]
  },
  {
   "cell_type": "markdown",
   "metadata": {},
   "source": [
    "Дополнительно:"
   ]
  },
  {
   "cell_type": "code",
   "execution_count": 31,
   "metadata": {},
   "outputs": [
    {
     "data": {
      "text/latex": [
       "$\\displaystyle \\frac{5}{18}$"
      ],
      "text/plain": [
       "5/18"
      ]
     },
     "execution_count": 31,
     "metadata": {},
     "output_type": "execute_result"
    }
   ],
   "source": [
    "# вероятность события \"сумма выпавших очков больше 8\"\n",
    "P(D1+D2 > 8)  # 5/18"
   ]
  },
  {
   "cell_type": "markdown",
   "metadata": {},
   "source": [
    "_Какова вероятность события $B$ - \"произведение выпавших очков равно 8\"?_"
   ]
  },
  {
   "cell_type": "code",
   "execution_count": 32,
   "metadata": {},
   "outputs": [
    {
     "data": {
      "text/plain": [
       "{1: 1/36,\n",
       " 2: 1/18,\n",
       " 3: 1/18,\n",
       " 4: 1/12,\n",
       " 5: 1/18,\n",
       " 6: 1/9,\n",
       " 8: 1/18,\n",
       " 10: 1/18,\n",
       " 12: 1/9,\n",
       " 9: 1/36,\n",
       " 15: 1/18,\n",
       " 18: 1/18,\n",
       " 16: 1/36,\n",
       " 20: 1/18,\n",
       " 24: 1/18,\n",
       " 25: 1/36,\n",
       " 30: 1/18,\n",
       " 36: 1/36}"
      ]
     },
     "execution_count": 32,
     "metadata": {},
     "output_type": "execute_result"
    }
   ],
   "source": [
    "# распределение вероятностей дискретной случайной величины - \n",
    "# произведения выпавших очков:\n",
    "# {1: 1/36, 2: 1/18, 3: 1/18, 4: 1/12, 5: 1/18, 6: 1/9, \n",
    "#  8: 1/18, 10: 1/18, 12: 1/9, 9: 1/36, 15: 1/18, 18: 1/18, \n",
    "#  16: 1/36, 20: 1/18, 24: 1/18, 25: 1/36, 30: 1/18, 36: 1/36}\n",
    "dB = density(D1*D2).dict\n",
    "dB"
   ]
  },
  {
   "cell_type": "code",
   "execution_count": 33,
   "metadata": {},
   "outputs": [
    {
     "data": {
      "text/latex": [
       "$\\displaystyle \\frac{1}{18}$"
      ],
      "text/plain": [
       "1/18"
      ]
     },
     "execution_count": 33,
     "metadata": {},
     "output_type": "execute_result"
    }
   ],
   "source": [
    "# вероятность события B - \"произведение выпавших очков равно 8\"\n",
    "dB[8]  # 1/18, обращение по ключу"
   ]
  },
  {
   "cell_type": "markdown",
   "metadata": {},
   "source": [
    "Дополнительно:"
   ]
  },
  {
   "cell_type": "code",
   "execution_count": 34,
   "metadata": {},
   "outputs": [
    {
     "data": {
      "text/latex": [
       "$\\displaystyle \\frac{1}{4}$"
      ],
      "text/plain": [
       "1/4"
      ]
     },
     "execution_count": 34,
     "metadata": {},
     "output_type": "execute_result"
    }
   ],
   "source": [
    "# вероятность события \"произведение выпавших очков нечетно\"\n",
    "P(Eq(D1*D2 % 2, 1))  # 1/4"
   ]
  },
  {
   "cell_type": "markdown",
   "metadata": {},
   "source": [
    "_Какова вероятность события $C$ - \"сумма выпавших очков больше их произведения\"?_"
   ]
  },
  {
   "cell_type": "code",
   "execution_count": 35,
   "metadata": {},
   "outputs": [
    {
     "data": {
      "text/latex": [
       "$\\displaystyle \\frac{11}{36}$"
      ],
      "text/plain": [
       "11/36"
      ]
     },
     "execution_count": 35,
     "metadata": {},
     "output_type": "execute_result"
    }
   ],
   "source": [
    "# вероятность события C - \"сумма выпавших очков больше их произведения\"\n",
    "P(D1+D2 > D1*D2)  # 11/36"
   ]
  },
  {
   "cell_type": "markdown",
   "metadata": {},
   "source": [
    "***"
   ]
  },
  {
   "cell_type": "markdown",
   "metadata": {},
   "source": [
    "### __Комбинаторика__"
   ]
  },
  {
   "cell_type": "markdown",
   "metadata": {},
   "source": [
    "Комбинаторные функции и итераторы в стандартной библиотеке python:\n",
    "<br>[модуль __`math`__](https://docs.python.org/3/library/math.html#module-math)\n",
    "| [модуль __`itertools`__](https://docs.python.org/3/library/itertools.html#module-itertools)"
   ]
  },
  {
   "cell_type": "code",
   "execution_count": 36,
   "metadata": {},
   "outputs": [],
   "source": [
    "# from math import comb, perm, factorial\n",
    "# from itertools import product, permutations, combinations, combinations_with_replacement"
   ]
  },
  {
   "cell_type": "markdown",
   "metadata": {},
   "source": [
    "Обратите внимание на то, что объекты __`itertools`__ это итераторы. Итератор работает лишь до опустошения. Пустой итератор ничего не отдает, поэтому если в коде требуется переиспользование, дренируйте итератор коллекцией - например, списком. Более специфичные, в т.ч. комбинаторные, итераторы можно найти в библиотеке [__`more-itertools`__](https://more-itertools.readthedocs.io/en/stable/).\n",
    "\n",
    "Ввиду быстрого переполнения памяти и низкой скорости не стоит считать сочетания, они же биномиальные коэффициенты, с помощью __`math.factorial`__ - пожалуйста, используйте либо __`math.comb`__, либо [__`scipy.special.binom`__](https://scipy.github.io/devdocs/reference/generated/scipy.special.binom.html#scipy-special-binom).\n",
    "\n",
    "### __Разбор задач по комбинаторике__"
   ]
  },
  {
   "cell_type": "markdown",
   "metadata": {},
   "source": [
    "Для каждой задачи приведено два решения: комбинаторное и моделированием вероятностного пространства в python. Важно заметить, что подобное моделирование метод, безусловно, грубый по соображениям скорости и потребляемой памяти и потому вторичный по отношению к чистому комбинаторному решению, но может выручить, когда решить элегантно не удается. Достоинство метода его интуитивная простота: сконструируйте пространство так, как вы его себе представляете, и отсеките лишнее. На примере последней комбинаторной задачи читатель увидит, как пусть и долгий, 15-секундный, но очень простой расчет кодом избавляет от необходимости вникать в существенно разные случаи внутри одного пространства событий."
   ]
  },
  {
   "cell_type": "markdown",
   "metadata": {},
   "source": [
    "__Задача №1__. _Номер в электронной очереди банка состоит из буквы $A$, $B$ или $C$ и целого числа в диапазоне от 1 до 99 включительно. Сколько человек одновременно может находиться в очереди?_\n",
    "\n",
    "__Решение__. 3 буквы и 99 номеров. \"Каждый с каждым\". Это прямоугольная таблица, в которой если буквы идут по вертикали ($m=3$), то номера - по горизонтали ($n=3$), или наоборот, а элементы - номера в электронной очереди - стоят на пересечении строк и столбцов. Понятно, что количество элементов в таблице равно $m * n$.\n",
    "<br>Сформируем эти комбинации явно и посчитаем их количество. "
   ]
  },
  {
   "cell_type": "code",
   "execution_count": 86,
   "metadata": {},
   "outputs": [
    {
     "data": {
      "text/plain": [
       "['A1',\n",
       " 'A2',\n",
       " 'A3',\n",
       " 'A4',\n",
       " 'A5',\n",
       " 'A6',\n",
       " 'A7',\n",
       " 'A8',\n",
       " 'A9',\n",
       " 'A10',\n",
       " 'A11',\n",
       " 'A12',\n",
       " 'A13',\n",
       " 'A14',\n",
       " 'A15',\n",
       " 'A16',\n",
       " 'A17',\n",
       " 'A18',\n",
       " 'A19',\n",
       " 'A20',\n",
       " 'A21',\n",
       " 'A22',\n",
       " 'A23',\n",
       " 'A24',\n",
       " 'A25',\n",
       " 'A26',\n",
       " 'A27',\n",
       " 'A28',\n",
       " 'A29',\n",
       " 'A30',\n",
       " 'A31',\n",
       " 'A32',\n",
       " 'A33',\n",
       " 'A34',\n",
       " 'A35',\n",
       " 'A36',\n",
       " 'A37',\n",
       " 'A38',\n",
       " 'A39',\n",
       " 'A40',\n",
       " 'A41',\n",
       " 'A42',\n",
       " 'A43',\n",
       " 'A44',\n",
       " 'A45',\n",
       " 'A46',\n",
       " 'A47',\n",
       " 'A48',\n",
       " 'A49',\n",
       " 'A50',\n",
       " 'A51',\n",
       " 'A52',\n",
       " 'A53',\n",
       " 'A54',\n",
       " 'A55',\n",
       " 'A56',\n",
       " 'A57',\n",
       " 'A58',\n",
       " 'A59',\n",
       " 'A60',\n",
       " 'A61',\n",
       " 'A62',\n",
       " 'A63',\n",
       " 'A64',\n",
       " 'A65',\n",
       " 'A66',\n",
       " 'A67',\n",
       " 'A68',\n",
       " 'A69',\n",
       " 'A70',\n",
       " 'A71',\n",
       " 'A72',\n",
       " 'A73',\n",
       " 'A74',\n",
       " 'A75',\n",
       " 'A76',\n",
       " 'A77',\n",
       " 'A78',\n",
       " 'A79',\n",
       " 'A80',\n",
       " 'A81',\n",
       " 'A82',\n",
       " 'A83',\n",
       " 'A84',\n",
       " 'A85',\n",
       " 'A86',\n",
       " 'A87',\n",
       " 'A88',\n",
       " 'A89',\n",
       " 'A90',\n",
       " 'A91',\n",
       " 'A92',\n",
       " 'A93',\n",
       " 'A94',\n",
       " 'A95',\n",
       " 'A96',\n",
       " 'A97',\n",
       " 'A98',\n",
       " 'A99',\n",
       " 'B1',\n",
       " 'B2',\n",
       " 'B3',\n",
       " 'B4',\n",
       " 'B5',\n",
       " 'B6',\n",
       " 'B7',\n",
       " 'B8',\n",
       " 'B9',\n",
       " 'B10',\n",
       " 'B11',\n",
       " 'B12',\n",
       " 'B13',\n",
       " 'B14',\n",
       " 'B15',\n",
       " 'B16',\n",
       " 'B17',\n",
       " 'B18',\n",
       " 'B19',\n",
       " 'B20',\n",
       " 'B21',\n",
       " 'B22',\n",
       " 'B23',\n",
       " 'B24',\n",
       " 'B25',\n",
       " 'B26',\n",
       " 'B27',\n",
       " 'B28',\n",
       " 'B29',\n",
       " 'B30',\n",
       " 'B31',\n",
       " 'B32',\n",
       " 'B33',\n",
       " 'B34',\n",
       " 'B35',\n",
       " 'B36',\n",
       " 'B37',\n",
       " 'B38',\n",
       " 'B39',\n",
       " 'B40',\n",
       " 'B41',\n",
       " 'B42',\n",
       " 'B43',\n",
       " 'B44',\n",
       " 'B45',\n",
       " 'B46',\n",
       " 'B47',\n",
       " 'B48',\n",
       " 'B49',\n",
       " 'B50',\n",
       " 'B51',\n",
       " 'B52',\n",
       " 'B53',\n",
       " 'B54',\n",
       " 'B55',\n",
       " 'B56',\n",
       " 'B57',\n",
       " 'B58',\n",
       " 'B59',\n",
       " 'B60',\n",
       " 'B61',\n",
       " 'B62',\n",
       " 'B63',\n",
       " 'B64',\n",
       " 'B65',\n",
       " 'B66',\n",
       " 'B67',\n",
       " 'B68',\n",
       " 'B69',\n",
       " 'B70',\n",
       " 'B71',\n",
       " 'B72',\n",
       " 'B73',\n",
       " 'B74',\n",
       " 'B75',\n",
       " 'B76',\n",
       " 'B77',\n",
       " 'B78',\n",
       " 'B79',\n",
       " 'B80',\n",
       " 'B81',\n",
       " 'B82',\n",
       " 'B83',\n",
       " 'B84',\n",
       " 'B85',\n",
       " 'B86',\n",
       " 'B87',\n",
       " 'B88',\n",
       " 'B89',\n",
       " 'B90',\n",
       " 'B91',\n",
       " 'B92',\n",
       " 'B93',\n",
       " 'B94',\n",
       " 'B95',\n",
       " 'B96',\n",
       " 'B97',\n",
       " 'B98',\n",
       " 'B99',\n",
       " 'C1',\n",
       " 'C2',\n",
       " 'C3',\n",
       " 'C4',\n",
       " 'C5',\n",
       " 'C6',\n",
       " 'C7',\n",
       " 'C8',\n",
       " 'C9',\n",
       " 'C10',\n",
       " 'C11',\n",
       " 'C12',\n",
       " 'C13',\n",
       " 'C14',\n",
       " 'C15',\n",
       " 'C16',\n",
       " 'C17',\n",
       " 'C18',\n",
       " 'C19',\n",
       " 'C20',\n",
       " 'C21',\n",
       " 'C22',\n",
       " 'C23',\n",
       " 'C24',\n",
       " 'C25',\n",
       " 'C26',\n",
       " 'C27',\n",
       " 'C28',\n",
       " 'C29',\n",
       " 'C30',\n",
       " 'C31',\n",
       " 'C32',\n",
       " 'C33',\n",
       " 'C34',\n",
       " 'C35',\n",
       " 'C36',\n",
       " 'C37',\n",
       " 'C38',\n",
       " 'C39',\n",
       " 'C40',\n",
       " 'C41',\n",
       " 'C42',\n",
       " 'C43',\n",
       " 'C44',\n",
       " 'C45',\n",
       " 'C46',\n",
       " 'C47',\n",
       " 'C48',\n",
       " 'C49',\n",
       " 'C50',\n",
       " 'C51',\n",
       " 'C52',\n",
       " 'C53',\n",
       " 'C54',\n",
       " 'C55',\n",
       " 'C56',\n",
       " 'C57',\n",
       " 'C58',\n",
       " 'C59',\n",
       " 'C60',\n",
       " 'C61',\n",
       " 'C62',\n",
       " 'C63',\n",
       " 'C64',\n",
       " 'C65',\n",
       " 'C66',\n",
       " 'C67',\n",
       " 'C68',\n",
       " 'C69',\n",
       " 'C70',\n",
       " 'C71',\n",
       " 'C72',\n",
       " 'C73',\n",
       " 'C74',\n",
       " 'C75',\n",
       " 'C76',\n",
       " 'C77',\n",
       " 'C78',\n",
       " 'C79',\n",
       " 'C80',\n",
       " 'C81',\n",
       " 'C82',\n",
       " 'C83',\n",
       " 'C84',\n",
       " 'C85',\n",
       " 'C86',\n",
       " 'C87',\n",
       " 'C88',\n",
       " 'C89',\n",
       " 'C90',\n",
       " 'C91',\n",
       " 'C92',\n",
       " 'C93',\n",
       " 'C94',\n",
       " 'C95',\n",
       " 'C96',\n",
       " 'C97',\n",
       " 'C98',\n",
       " 'C99']"
      ]
     },
     "execution_count": 86,
     "metadata": {},
     "output_type": "execute_result"
    }
   ],
   "source": [
    "pool = []\n",
    "\n",
    "for letter in 'A', 'B', 'C':\n",
    "    for number in range(1, 100):\n",
    "        pool.append(f'{letter}{number}')\n",
    "\n",
    "pool  # ['A1', 'A2', ..., 'B1', 'B2', ..., 'C98', 'C99']    "
   ]
  },
  {
   "cell_type": "code",
   "execution_count": 87,
   "metadata": {},
   "outputs": [
    {
     "data": {
      "text/plain": [
       "297"
      ]
     },
     "execution_count": 87,
     "metadata": {},
     "output_type": "execute_result"
    }
   ],
   "source": [
    "# длина списка pool\n",
    "len(pool)  # 297"
   ]
  },
  {
   "cell_type": "markdown",
   "metadata": {},
   "source": [
    "Без циклов, итератором __`itertools.product`__:"
   ]
  },
  {
   "cell_type": "code",
   "execution_count": 96,
   "metadata": {},
   "outputs": [
    {
     "data": {
      "text/plain": [
       "['A1',\n",
       " 'A2',\n",
       " 'A3',\n",
       " 'A4',\n",
       " 'A5',\n",
       " 'A6',\n",
       " 'A7',\n",
       " 'A8',\n",
       " 'A9',\n",
       " 'A10',\n",
       " 'A11',\n",
       " 'A12',\n",
       " 'A13',\n",
       " 'A14',\n",
       " 'A15',\n",
       " 'A16',\n",
       " 'A17',\n",
       " 'A18',\n",
       " 'A19',\n",
       " 'A20',\n",
       " 'A21',\n",
       " 'A22',\n",
       " 'A23',\n",
       " 'A24',\n",
       " 'A25',\n",
       " 'A26',\n",
       " 'A27',\n",
       " 'A28',\n",
       " 'A29',\n",
       " 'A30',\n",
       " 'A31',\n",
       " 'A32',\n",
       " 'A33',\n",
       " 'A34',\n",
       " 'A35',\n",
       " 'A36',\n",
       " 'A37',\n",
       " 'A38',\n",
       " 'A39',\n",
       " 'A40',\n",
       " 'A41',\n",
       " 'A42',\n",
       " 'A43',\n",
       " 'A44',\n",
       " 'A45',\n",
       " 'A46',\n",
       " 'A47',\n",
       " 'A48',\n",
       " 'A49',\n",
       " 'A50',\n",
       " 'A51',\n",
       " 'A52',\n",
       " 'A53',\n",
       " 'A54',\n",
       " 'A55',\n",
       " 'A56',\n",
       " 'A57',\n",
       " 'A58',\n",
       " 'A59',\n",
       " 'A60',\n",
       " 'A61',\n",
       " 'A62',\n",
       " 'A63',\n",
       " 'A64',\n",
       " 'A65',\n",
       " 'A66',\n",
       " 'A67',\n",
       " 'A68',\n",
       " 'A69',\n",
       " 'A70',\n",
       " 'A71',\n",
       " 'A72',\n",
       " 'A73',\n",
       " 'A74',\n",
       " 'A75',\n",
       " 'A76',\n",
       " 'A77',\n",
       " 'A78',\n",
       " 'A79',\n",
       " 'A80',\n",
       " 'A81',\n",
       " 'A82',\n",
       " 'A83',\n",
       " 'A84',\n",
       " 'A85',\n",
       " 'A86',\n",
       " 'A87',\n",
       " 'A88',\n",
       " 'A89',\n",
       " 'A90',\n",
       " 'A91',\n",
       " 'A92',\n",
       " 'A93',\n",
       " 'A94',\n",
       " 'A95',\n",
       " 'A96',\n",
       " 'A97',\n",
       " 'A98',\n",
       " 'A99',\n",
       " 'B1',\n",
       " 'B2',\n",
       " 'B3',\n",
       " 'B4',\n",
       " 'B5',\n",
       " 'B6',\n",
       " 'B7',\n",
       " 'B8',\n",
       " 'B9',\n",
       " 'B10',\n",
       " 'B11',\n",
       " 'B12',\n",
       " 'B13',\n",
       " 'B14',\n",
       " 'B15',\n",
       " 'B16',\n",
       " 'B17',\n",
       " 'B18',\n",
       " 'B19',\n",
       " 'B20',\n",
       " 'B21',\n",
       " 'B22',\n",
       " 'B23',\n",
       " 'B24',\n",
       " 'B25',\n",
       " 'B26',\n",
       " 'B27',\n",
       " 'B28',\n",
       " 'B29',\n",
       " 'B30',\n",
       " 'B31',\n",
       " 'B32',\n",
       " 'B33',\n",
       " 'B34',\n",
       " 'B35',\n",
       " 'B36',\n",
       " 'B37',\n",
       " 'B38',\n",
       " 'B39',\n",
       " 'B40',\n",
       " 'B41',\n",
       " 'B42',\n",
       " 'B43',\n",
       " 'B44',\n",
       " 'B45',\n",
       " 'B46',\n",
       " 'B47',\n",
       " 'B48',\n",
       " 'B49',\n",
       " 'B50',\n",
       " 'B51',\n",
       " 'B52',\n",
       " 'B53',\n",
       " 'B54',\n",
       " 'B55',\n",
       " 'B56',\n",
       " 'B57',\n",
       " 'B58',\n",
       " 'B59',\n",
       " 'B60',\n",
       " 'B61',\n",
       " 'B62',\n",
       " 'B63',\n",
       " 'B64',\n",
       " 'B65',\n",
       " 'B66',\n",
       " 'B67',\n",
       " 'B68',\n",
       " 'B69',\n",
       " 'B70',\n",
       " 'B71',\n",
       " 'B72',\n",
       " 'B73',\n",
       " 'B74',\n",
       " 'B75',\n",
       " 'B76',\n",
       " 'B77',\n",
       " 'B78',\n",
       " 'B79',\n",
       " 'B80',\n",
       " 'B81',\n",
       " 'B82',\n",
       " 'B83',\n",
       " 'B84',\n",
       " 'B85',\n",
       " 'B86',\n",
       " 'B87',\n",
       " 'B88',\n",
       " 'B89',\n",
       " 'B90',\n",
       " 'B91',\n",
       " 'B92',\n",
       " 'B93',\n",
       " 'B94',\n",
       " 'B95',\n",
       " 'B96',\n",
       " 'B97',\n",
       " 'B98',\n",
       " 'B99',\n",
       " 'C1',\n",
       " 'C2',\n",
       " 'C3',\n",
       " 'C4',\n",
       " 'C5',\n",
       " 'C6',\n",
       " 'C7',\n",
       " 'C8',\n",
       " 'C9',\n",
       " 'C10',\n",
       " 'C11',\n",
       " 'C12',\n",
       " 'C13',\n",
       " 'C14',\n",
       " 'C15',\n",
       " 'C16',\n",
       " 'C17',\n",
       " 'C18',\n",
       " 'C19',\n",
       " 'C20',\n",
       " 'C21',\n",
       " 'C22',\n",
       " 'C23',\n",
       " 'C24',\n",
       " 'C25',\n",
       " 'C26',\n",
       " 'C27',\n",
       " 'C28',\n",
       " 'C29',\n",
       " 'C30',\n",
       " 'C31',\n",
       " 'C32',\n",
       " 'C33',\n",
       " 'C34',\n",
       " 'C35',\n",
       " 'C36',\n",
       " 'C37',\n",
       " 'C38',\n",
       " 'C39',\n",
       " 'C40',\n",
       " 'C41',\n",
       " 'C42',\n",
       " 'C43',\n",
       " 'C44',\n",
       " 'C45',\n",
       " 'C46',\n",
       " 'C47',\n",
       " 'C48',\n",
       " 'C49',\n",
       " 'C50',\n",
       " 'C51',\n",
       " 'C52',\n",
       " 'C53',\n",
       " 'C54',\n",
       " 'C55',\n",
       " 'C56',\n",
       " 'C57',\n",
       " 'C58',\n",
       " 'C59',\n",
       " 'C60',\n",
       " 'C61',\n",
       " 'C62',\n",
       " 'C63',\n",
       " 'C64',\n",
       " 'C65',\n",
       " 'C66',\n",
       " 'C67',\n",
       " 'C68',\n",
       " 'C69',\n",
       " 'C70',\n",
       " 'C71',\n",
       " 'C72',\n",
       " 'C73',\n",
       " 'C74',\n",
       " 'C75',\n",
       " 'C76',\n",
       " 'C77',\n",
       " 'C78',\n",
       " 'C79',\n",
       " 'C80',\n",
       " 'C81',\n",
       " 'C82',\n",
       " 'C83',\n",
       " 'C84',\n",
       " 'C85',\n",
       " 'C86',\n",
       " 'C87',\n",
       " 'C88',\n",
       " 'C89',\n",
       " 'C90',\n",
       " 'C91',\n",
       " 'C92',\n",
       " 'C93',\n",
       " 'C94',\n",
       " 'C95',\n",
       " 'C96',\n",
       " 'C97',\n",
       " 'C98',\n",
       " 'C99']"
      ]
     },
     "execution_count": 96,
     "metadata": {},
     "output_type": "execute_result"
    }
   ],
   "source": [
    "pairs = product(('A', 'B', 'C'), range(1, 100))\n",
    "pool = list(map(lambda pair: f'{pair[0]}{pair[1]}', pairs))\n",
    "pool  # ['A1', 'A2', ..., 'B1', 'B2', ..., 'C98', 'C99']"
   ]
  },
  {
   "cell_type": "code",
   "execution_count": 97,
   "metadata": {},
   "outputs": [
    {
     "data": {
      "text/plain": [
       "297"
      ]
     },
     "execution_count": 97,
     "metadata": {},
     "output_type": "execute_result"
    }
   ],
   "source": [
    "len(pool)  # 297"
   ]
  },
  {
   "cell_type": "markdown",
   "metadata": {},
   "source": [
    "__Задача №2__. _В урне 7 белых и 5 красных шаров. Наудачу извлекается два шара. Какова вероятность события $A$ - извлеченные шары одного цвета? $B$ - разных цветов?_\n",
    "\n",
    "__Решение__. Не будем учитывать порядок вытащенных шаров. Число способов вытащить 2 шара из 12 без возвращения и без учета порядка $\\binom {12}{2}$. Какие равновозможные исходы благоприятствуют событию $A$? Это либо два вытащенных белых шара, способов это сделать $\\binom {7}{2}$, либо два красных — способов это сделать $\\binom {5}{2}$. Вероятность события $A$:"
   ]
  },
  {
   "cell_type": "code",
   "execution_count": 193,
   "metadata": {},
   "outputs": [
    {
     "data": {
      "text/plain": [
       "0.4696969696969697"
      ]
     },
     "execution_count": 193,
     "metadata": {},
     "output_type": "execute_result"
    }
   ],
   "source": [
    "pA = (comb(7, 2) + comb(5, 2)) / comb(12, 2)\n",
    "pA  # 0.4696969696969697"
   ]
  },
  {
   "cell_type": "code",
   "execution_count": 194,
   "metadata": {},
   "outputs": [
    {
     "data": {
      "text/plain": [
       "Fraction(31, 66)"
      ]
     },
     "execution_count": 194,
     "metadata": {},
     "output_type": "execute_result"
    }
   ],
   "source": [
    "# в виде обыкновенной дроби\n",
    "Fraction(pA).limit_denominator()  # 31/66"
   ]
  },
  {
   "cell_type": "markdown",
   "metadata": {},
   "source": [
    "Событие $B$ - вытащенные шары разных цветов - противоположно событию $A$. Значит, вероятность события $B$: "
   ]
  },
  {
   "cell_type": "code",
   "execution_count": 195,
   "metadata": {},
   "outputs": [
    {
     "data": {
      "text/plain": [
       "0.5303030303030303"
      ]
     },
     "execution_count": 195,
     "metadata": {},
     "output_type": "execute_result"
    }
   ],
   "source": [
    "pB = 1 - pA\n",
    "pB  # 0.5303030303030303"
   ]
  },
  {
   "cell_type": "code",
   "execution_count": 196,
   "metadata": {},
   "outputs": [
    {
     "data": {
      "text/plain": [
       "True"
      ]
     },
     "execution_count": 196,
     "metadata": {},
     "output_type": "execute_result"
    }
   ],
   "source": [
    "pB == (66 - 31) / 66  # True"
   ]
  },
  {
   "cell_type": "markdown",
   "metadata": {},
   "source": [
    "Продемонстрируем и независимое решение. Всего имеется $\\binom {12}{2}$ способов вытащить 2 шара из 12 без возвращения и без учета порядка. Событию $B$ благоприятствуют исходы: один белый ($\\binom {1}{7}$ способов), один черный ($\\binom {1}{5}$ способов). Вероятность события $B$:"
   ]
  },
  {
   "cell_type": "code",
   "execution_count": 197,
   "metadata": {},
   "outputs": [
    {
     "data": {
      "text/plain": [
       "0.5303030303030303"
      ]
     },
     "execution_count": 197,
     "metadata": {},
     "output_type": "execute_result"
    }
   ],
   "source": [
    "comb(7, 1) * comb(5, 1) / comb(12, 2)  # 0.5303030303030303"
   ]
  },
  {
   "cell_type": "markdown",
   "metadata": {},
   "source": [
    "__Рассмотрим эмпирическое решение, приближающее точное выше__.\n",
    "<br>Из генеральной совокупности семи нулей, кодирующих белые шары, и пяти единиц, кодирующих красные шары, с помощью функции __`sample`__ (выбор без возвращения) модуля __`random`__ стандартной библиотеки будем многократно тянуть выборку из двух шаров и фиксировать цвета извлеченной пары в словаре-счетчике с целочисленным значением по умолчанию. При таком выборе обозначений событие __`event`__ - сумма пары равна 0 - соответствует паре белых шаров __`ww`__, сумма пары равна 2 - паре красных __`rr`__, сумма пары равна 1 - паре разноцветных шаров __`xy`__. Деление счетчиков событий на число итераций выбора даст вероятности соответствующих событий. Запустим функцию и посмотрим на результаты с ростом числа итераций."
   ]
  },
  {
   "cell_type": "code",
   "execution_count": 183,
   "metadata": {},
   "outputs": [],
   "source": [
    "# генеральная совокупность\n",
    "population = [0]*7 + [1]*5"
   ]
  },
  {
   "cell_type": "code",
   "execution_count": 191,
   "metadata": {},
   "outputs": [],
   "source": [
    "def draw_items(*, n_times: int) -> float:\n",
    "    results = defaultdict(int)\n",
    "    for _ in range(n_times):\n",
    "        event = sum(sample(population, 2))\n",
    "        if not event:\n",
    "            results['ww'] += 1\n",
    "        elif event == 2:\n",
    "            results['rr'] += 1\n",
    "        else:\n",
    "            results['xy'] += 1\n",
    "    for key, val in results.items():\n",
    "        results[key] = val / n_times\n",
    "    return results"
   ]
  },
  {
   "cell_type": "code",
   "execution_count": 198,
   "metadata": {},
   "outputs": [
    {
     "data": {
      "text/plain": [
       "defaultdict(int, {'xy': 0.56, 'ww': 0.35, 'rr': 0.09})"
      ]
     },
     "execution_count": 198,
     "metadata": {},
     "output_type": "execute_result"
    }
   ],
   "source": [
    "draw_items(n_times=100)"
   ]
  },
  {
   "cell_type": "code",
   "execution_count": 199,
   "metadata": {},
   "outputs": [
    {
     "data": {
      "text/plain": [
       "defaultdict(int, {'xy': 0.546, 'rr': 0.155, 'ww': 0.299})"
      ]
     },
     "execution_count": 199,
     "metadata": {},
     "output_type": "execute_result"
    }
   ],
   "source": [
    "draw_items(n_times=1000)"
   ]
  },
  {
   "cell_type": "code",
   "execution_count": 203,
   "metadata": {},
   "outputs": [
    {
     "data": {
      "text/plain": [
       "defaultdict(int, {'xy': 0.5301961, 'ww': 0.3182676, 'rr': 0.1515363})"
      ]
     },
     "execution_count": 203,
     "metadata": {},
     "output_type": "execute_result"
    }
   ],
   "source": [
    "pB_empirical = draw_items(n_times=10_000_000)\n",
    "pB_empirical"
   ]
  },
  {
   "cell_type": "markdown",
   "metadata": {},
   "source": [
    "При 10 млн итераций отклонение вероятности события $B$ от точного значения, вычисленного ранее, составляет:"
   ]
  },
  {
   "cell_type": "code",
   "execution_count": 206,
   "metadata": {},
   "outputs": [
    {
     "data": {
      "text/plain": [
       "0.00010693030303032813"
      ]
     },
     "execution_count": 206,
     "metadata": {},
     "output_type": "execute_result"
    }
   ],
   "source": [
    "abs(pB_empirical['xy'] - pB)"
   ]
  },
  {
   "cell_type": "markdown",
   "metadata": {},
   "source": [
    "Аналогичный расчет читатель может проделать для события $A$. "
   ]
  },
  {
   "cell_type": "markdown",
   "metadata": {},
   "source": [
    "__Задача №3__. _В магазине было продано 21 из 25 холодильников трех марок, имеющихся в количествах 5, 7 и 13 штук. Полагая, что вероятность быть проданым для холодильника каждой марки одна и та же, найти вероятность того, что остались нераспроданными холодильники: а) одной марки; б) трех разных марок_.\n",
    "\n",
    "__Решение__. а) Пусть событие $A$ - остались нераспроданными холодильники одной марки. Общее число способов, которыми можно получить 4 непроданных холодильника из 25, равно"
   ]
  },
  {
   "cell_type": "code",
   "execution_count": 37,
   "metadata": {},
   "outputs": [
    {
     "data": {
      "text/plain": [
       "12650"
      ]
     },
     "execution_count": 37,
     "metadata": {},
     "output_type": "execute_result"
    }
   ],
   "source": [
    "n = comb(25, 4)\n",
    "n  # 12650"
   ]
  },
  {
   "cell_type": "markdown",
   "metadata": {},
   "source": [
    "Число способов, которыми можно получить 4 холодильника первой марки из 5, второй марки из 7 и третьей марки из 13, соответственно равно"
   ]
  },
  {
   "cell_type": "code",
   "execution_count": 38,
   "metadata": {},
   "outputs": [
    {
     "name": "stdout",
     "output_type": "stream",
     "text": [
      "m1=5, m2=35, m3=715\n"
     ]
    }
   ],
   "source": [
    "m1 = comb(5, 4)   # 5\n",
    "m2 = comb(7, 4)   # 35\n",
    "m3 = comb(13, 4)  # 715\n",
    "print(f'{m1=}, {m2=}, {m3=}')"
   ]
  },
  {
   "cell_type": "markdown",
   "metadata": {},
   "source": [
    "Событию $A$ по _правилу суммы_ благоприятствует __`m1 + m2 + m3`__ случаев. Вероятность события $A$:"
   ]
  },
  {
   "cell_type": "code",
   "execution_count": 39,
   "metadata": {},
   "outputs": [
    {
     "data": {
      "text/plain": [
       "0.059683794466403164"
      ]
     },
     "execution_count": 39,
     "metadata": {},
     "output_type": "execute_result"
    }
   ],
   "source": [
    "(m1 + m2 + m3) / n  # 0.059683794466403164"
   ]
  },
  {
   "cell_type": "markdown",
   "metadata": {},
   "source": [
    "б) Пусть событие $B$ - остались нераспроданными холодильники трех разных марок. Событие $B$ может произойти по одному из трех вариантов. По первому варианту событие $B$ произойдет, если останутся нераспроданными 1, 1, 2 холодильников соответственно 1-ой, 2-ой и 3-ей марок; по второму варианту - 1, 2, 1 и по третьему  варианту останутся нераспроданными 2, 1, 1 холодильников соответственно 1-ой, 2-ой и 3-ей марок. Так как до продажи имелось 5 холодильников 1-ой марки, 7 - 2-ой и 13 - 3-ей марки, то по _правилу произведения_ число случаев, благоприятствующих первому, второму и третьему вариантам, соответственно равно"
   ]
  },
  {
   "cell_type": "code",
   "execution_count": 40,
   "metadata": {},
   "outputs": [
    {
     "name": "stdout",
     "output_type": "stream",
     "text": [
      "m1=2730, m2=1365, m3=910\n"
     ]
    }
   ],
   "source": [
    "m1 = comb(5, 1) * comb(7, 1) * comb(13, 2)  # 2730\n",
    "m2 = comb(5, 1) * comb(7, 2) * comb(13, 1)  # 1365\n",
    "m3 = comb(5, 2) * comb(7, 1) * comb(13, 1)  # 910\n",
    "print(f'{m1=}, {m2=}, {m3=}')"
   ]
  },
  {
   "cell_type": "markdown",
   "metadata": {},
   "source": [
    "Общее число случаев, благоприятствующих событию $B$, равно __`m1 + m2 + m3`__. Вероятность события $B$: "
   ]
  },
  {
   "cell_type": "code",
   "execution_count": 41,
   "metadata": {},
   "outputs": [
    {
     "data": {
      "text/plain": [
       "0.39565217391304347"
      ]
     },
     "execution_count": 41,
     "metadata": {},
     "output_type": "execute_result"
    }
   ],
   "source": [
    "(m1 + m2 + m3) / n  # 0.39565217391304347"
   ]
  },
  {
   "cell_type": "markdown",
   "metadata": {},
   "source": [
    "__Решение моделированием вероятностного пространства__\n",
    "<br>В задаче два события. Введем обобщающий характеристический признак события, __`event`__, и сведем решение к одной функции от данного признака как аргумента."
   ]
  },
  {
   "cell_type": "code",
   "execution_count": 42,
   "metadata": {},
   "outputs": [],
   "source": [
    "def task03(*, event: int) -> float:\n",
    "    stock = {'a': 5, 'b': 7, 'c': 13}\n",
    "    # ключи - марки/шильдики производителей, значения - начальные количества\n",
    "    labels = ''.join(label * qty for label, qty in stock.items())\n",
    "    # 'aaaaabbbbbbbccccccccccccc'    \n",
    "    items_sold = 21  # шт. продано\n",
    "    items_left = sum(stock.values()) - items_sold  # 4 шт. осталось    \n",
    "    omega = list(combinations(labels, items_left))    \n",
    "    valid = list(filter(lambda sequence: len(set(sequence)) == event, omega))\n",
    "    return len(valid) / len(omega)"
   ]
  },
  {
   "cell_type": "markdown",
   "metadata": {},
   "source": [
    "Пространство элементарных исходов __`omega`__ - список всевозможных четырехместных кортежей/комбинаций шильдиков из __`labels`__.\n",
    "<br>Выделим из __`omega`__ исходы, отвечающие событиям в условии: с помощью анонимной функции __`lambda`__ фильтр отбирает из __`omega`__ те кортежи, на которых __`lambda`__ возвращает __`True`__.\n",
    "<br>Что означает _среди нераспроданных четырех холодильников одна марка_? - это означает, что мощность (или длина) множества __`set`__, составленного из комбинации марок, равна единице. Аналогично _среди оставшихся три марки_: три уникальных элемента в комбинации и один, четвертый, дублирующий любой из первых трех.\n",
    "<br>Так мы обобщили события одним характеристическим признаком, __`event`__, который введем в функцию именованным аргументом. Искомая вероятность события - отношение длины списка благоприятствующих комбинаций, __`valid`__, к длине списка всевозможных, __`omega`__.\n",
    "<br>Сверимся с эталонным комбинаторным решением:"
   ]
  },
  {
   "cell_type": "code",
   "execution_count": 43,
   "metadata": {},
   "outputs": [
    {
     "data": {
      "text/plain": [
       "0.059683794466403164"
      ]
     },
     "execution_count": 43,
     "metadata": {},
     "output_type": "execute_result"
    }
   ],
   "source": [
    "task03(event=1)  # 0.059683794466403164"
   ]
  },
  {
   "cell_type": "code",
   "execution_count": 44,
   "metadata": {},
   "outputs": [
    {
     "data": {
      "text/plain": [
       "0.39565217391304347"
      ]
     },
     "execution_count": 44,
     "metadata": {},
     "output_type": "execute_result"
    }
   ],
   "source": [
    "task03(event=3)  # 0.39565217391304347"
   ]
  },
  {
   "cell_type": "markdown",
   "metadata": {},
   "source": [
    "__Задача №4__. _В партии 100 изделий, из которых 4 - бракованные. Партия произвольно разделена на две равные части, которые отправлены двум потребителям. Какова вероятность того, что все бракованные изделия достанутся: а) одному потребителю; б) обоим потребителям поровну?_\n",
    "\n",
    "__Решение__. а) Пусть событие $A$ - все бракованные изделия достанутся одному потребителю. Общее число способ, какими можно выбрать 50 изделий из 100, равно   "
   ]
  },
  {
   "cell_type": "code",
   "execution_count": 45,
   "metadata": {},
   "outputs": [
    {
     "data": {
      "text/plain": [
       "'100,891,344,545,564,193,334,812,497,256'"
      ]
     },
     "execution_count": 45,
     "metadata": {},
     "output_type": "execute_result"
    }
   ],
   "source": [
    "n = comb(100, 50)  # 100891344545564193334812497256\n",
    "'{:,}'.format(n)  # '100,891,344,545,564,193,334,812,497,256'"
   ]
  },
  {
   "cell_type": "markdown",
   "metadata": {},
   "source": [
    "Событию $A$ благоприятствуют случаи, когда из 50 изделий, отправленных одному потребителю, будет либо 46 стандартных из 96 (и все 4 бракованных) изделий, либо 50 стандартных из 96 (и 0 бракованных). Их число"
   ]
  },
  {
   "cell_type": "code",
   "execution_count": 46,
   "metadata": {},
   "outputs": [
    {
     "data": {
      "text/plain": [
       "11851029537373363540733989056"
      ]
     },
     "execution_count": 46,
     "metadata": {},
     "output_type": "execute_result"
    }
   ],
   "source": [
    "m = comb(96, 46) * comb(4, 4) + comb(96, 50) * comb(4, 0)\n",
    "m  # 11851029537373363540733989056"
   ]
  },
  {
   "cell_type": "markdown",
   "metadata": {},
   "source": [
    "Вероятность события $A$:"
   ]
  },
  {
   "cell_type": "code",
   "execution_count": 47,
   "metadata": {},
   "outputs": [
    {
     "data": {
      "text/plain": [
       "0.11746329272102468"
      ]
     },
     "execution_count": 47,
     "metadata": {},
     "output_type": "execute_result"
    }
   ],
   "source": [
    "m / n  # 0.11746329272102468"
   ]
  },
  {
   "cell_type": "markdown",
   "metadata": {},
   "source": [
    "б) Пусть событие $B$ - в каждой партии по 2 бракованных изделия. Теперь событию $B$ будут благоприятствовать случаи, когда из 50 изделий, отправленных одному потребителю, будут 48 стандартных из 96 и 2 бракованных из 4, их число"
   ]
  },
  {
   "cell_type": "code",
   "execution_count": 48,
   "metadata": {},
   "outputs": [
    {
     "data": {
      "text/plain": [
       "38610402083197793450529618600"
      ]
     },
     "execution_count": 48,
     "metadata": {},
     "output_type": "execute_result"
    }
   ],
   "source": [
    "m = comb(96, 48) * comb(4, 2)\n",
    "m  # 38610402083197793450529618600"
   ]
  },
  {
   "cell_type": "markdown",
   "metadata": {},
   "source": [
    "Вероятность события $B$:"
   ]
  },
  {
   "cell_type": "code",
   "execution_count": 49,
   "metadata": {},
   "outputs": [
    {
     "data": {
      "text/plain": [
       "0.3826929084661043"
      ]
     },
     "execution_count": 49,
     "metadata": {},
     "output_type": "execute_result"
    }
   ],
   "source": [
    "m / n  # 0.3826929084661043"
   ]
  },
  {
   "cell_type": "markdown",
   "metadata": {},
   "source": [
    "__Решение моделированием вероятностного пространства__"
   ]
  },
  {
   "cell_type": "code",
   "execution_count": 50,
   "metadata": {},
   "outputs": [],
   "source": [
    "def task04(*, event: tuple[int, ...]) -> float:\n",
    "    total = 100\n",
    "    defective = 4\n",
    "    mid = total / 2\n",
    "    omega = list(combinations(range(total), defective))\n",
    "    valid = list(filter(lambda sequence: \n",
    "        sum(element < mid for element in sequence) in event, omega))\n",
    "    return len(valid) / len(omega)"
   ]
  },
  {
   "cell_type": "markdown",
   "metadata": {},
   "source": [
    "Пространство элементарных исходов __`omega`__ - список четырехместных кортежей, всевозможных четверок изделий, занумерованных следующим образом: пусть первые 50, индексы [0, 49], попали к первому потребителю, оставшиеся 50, индексы [50, 99], - ко второму.\n",
    "<br>Анононимная функция отбирает из __`omega`__ те четверки, количество изделий в которых, отправленных первому потребителю, находится среди значений аргумента функции __`event`__ - характеристического признака события в данной задаче. По сути, мы ищем вероятность того, что любая четверка изделий, в т.ч. та, в которой все бракованные, может попасть в диапазон индексов изделий первого потребителя. Что означает __`event=(0, 4)`__? - это означает, что количество брака, попавшего к первому потребителю, равно либо 0 - и тогда весь брак у второго потребителя, либо наоборот, все 4 бракованные изделия у первого потребителя и 0 у второго: "
   ]
  },
  {
   "cell_type": "code",
   "execution_count": 51,
   "metadata": {},
   "outputs": [
    {
     "data": {
      "text/plain": [
       "0.11746329272102468"
      ]
     },
     "execution_count": 51,
     "metadata": {},
     "output_type": "execute_result"
    }
   ],
   "source": [
    "task04(event=(0, 4))  # 0.11746329272102468"
   ]
  },
  {
   "cell_type": "markdown",
   "metadata": {},
   "source": [
    "Два бракованных изделия у первого потребителя (и два, автоматически, у второго):"
   ]
  },
  {
   "cell_type": "code",
   "execution_count": 52,
   "metadata": {},
   "outputs": [
    {
     "data": {
      "text/plain": [
       "0.3826929084661043"
      ]
     },
     "execution_count": 52,
     "metadata": {},
     "output_type": "execute_result"
    }
   ],
   "source": [
    "task04(event=(2,))  # 0.3826929084661043"
   ]
  },
  {
   "cell_type": "markdown",
   "metadata": {},
   "source": [
    "__Задача №5__. _За круглым столом рассаживаются 5 мужчин и 5 женщин. Найти вероятность того, что: а) никакие два лица одного пола не сядут рядом; б) супруги сядут рядом, если эти мужчины и женщины образуют 5 супружеских пар_.\n",
    "\n",
    "__Решение__. а) Пусть событие $A$ - никакие два лица одного пола не сядут рядом. Общее число способов рассадки 10 лиц на 10 местах определяется числом перестановок"
   ]
  },
  {
   "cell_type": "code",
   "execution_count": 53,
   "metadata": {},
   "outputs": [
    {
     "data": {
      "text/plain": [
       "3628800"
      ]
     },
     "execution_count": 53,
     "metadata": {},
     "output_type": "execute_result"
    }
   ],
   "source": [
    "n = perm(10)\n",
    "n  # 3628800"
   ]
  },
  {
   "cell_type": "markdown",
   "metadata": {},
   "source": [
    "Если женщины займут четные места $5!$ способами, то мужчины будут занимать нечетные места также $5!$ способами, и наоборот, т.е. число случаев, благоприятствующих событию $A$, равно"
   ]
  },
  {
   "cell_type": "code",
   "execution_count": 54,
   "metadata": {},
   "outputs": [
    {
     "data": {
      "text/plain": [
       "28800"
      ]
     },
     "execution_count": 54,
     "metadata": {},
     "output_type": "execute_result"
    }
   ],
   "source": [
    "m = 2 * factorial(5)**2\n",
    "m  # 28800"
   ]
  },
  {
   "cell_type": "markdown",
   "metadata": {},
   "source": [
    "Вероятность события $A$:"
   ]
  },
  {
   "cell_type": "code",
   "execution_count": 55,
   "metadata": {},
   "outputs": [
    {
     "data": {
      "text/plain": [
       "0.007936507936507936"
      ]
     },
     "execution_count": 55,
     "metadata": {},
     "output_type": "execute_result"
    }
   ],
   "source": [
    "m / n  # 0.007936507936507936"
   ]
  },
  {
   "cell_type": "markdown",
   "metadata": {},
   "source": [
    "б) Пусть событие $B$ - супруги, образующие пять супружеских пар, сядут рядом. Теперь число случаев __`m`__, благоприятствующих событию $B$, определяется числом $5!$ всевозможных перестановок 5 супружеских пар, причем в каждой паре возможна перестановка мужа и жены. По правилу произведения"
   ]
  },
  {
   "cell_type": "code",
   "execution_count": 56,
   "metadata": {},
   "outputs": [
    {
     "data": {
      "text/plain": [
       "3840"
      ]
     },
     "execution_count": 56,
     "metadata": {},
     "output_type": "execute_result"
    }
   ],
   "source": [
    "m = factorial(5) * 2**5\n",
    "m  # 3840"
   ]
  },
  {
   "cell_type": "markdown",
   "metadata": {},
   "source": [
    "Вероятность события $B$:"
   ]
  },
  {
   "cell_type": "code",
   "execution_count": 57,
   "metadata": {},
   "outputs": [
    {
     "data": {
      "text/plain": [
       "0.0010582010582010583"
      ]
     },
     "execution_count": 57,
     "metadata": {},
     "output_type": "execute_result"
    }
   ],
   "source": [
    "m / n  # 0.0010582010582010583"
   ]
  },
  {
   "cell_type": "markdown",
   "metadata": {},
   "source": [
    "__Решение моделированием, случай а)__\n",
    "<br>На всех четных местах метка 0, тогда на всех нечетных - 1. И наоборот:"
   ]
  },
  {
   "cell_type": "code",
   "execution_count": 58,
   "metadata": {},
   "outputs": [
    {
     "data": {
      "text/plain": [
       "0.007936507936507936"
      ]
     },
     "execution_count": 58,
     "metadata": {},
     "output_type": "execute_result"
    }
   ],
   "source": [
    "omega = list(permutations([0]*5 + [1]*5, 10))\n",
    "valid = list(filter(lambda seq: sum(seq[::2]) in (0, 5), omega))\n",
    "len(valid) / len(omega)  # 0.007936507936507936"
   ]
  },
  {
   "cell_type": "markdown",
   "metadata": {},
   "source": [
    "__Решение моделированием, случай б)__\n",
    "<br>Пусть супруги это пары (0, 1), (2, 3), ..., (8, 9). Нас устраивают любые комбинации, в которых эти пары перемешиваются как единое целое, а также допустимы перестановки внутри пар. С точки зрения выбранной структуры это означает, что перестановки, в которых все элементы четных индексов отличаются от следующих за ними на 1 или -1, благоприятствуют интересующему случаю: муж и жена перемещаются вместе и могут следовать один за другим. Например,\n",
    "<br>__`(2, 3, 1, 0, 5, 4, 6, 7, 9, 8)`__ - OK, \n",
    "<br>__`(2, 1, 3, 0, 5, 4, 6, 7, 9, 8)`__ - NOK."
   ]
  },
  {
   "cell_type": "code",
   "execution_count": 59,
   "metadata": {},
   "outputs": [
    {
     "data": {
      "text/plain": [
       "0.0010582010582010583"
      ]
     },
     "execution_count": 59,
     "metadata": {},
     "output_type": "execute_result"
    }
   ],
   "source": [
    "omega = list(permutations(range(10), 10))\n",
    "valid = list(filter(lambda seq: \n",
    "    all(seq[i] - seq[i+1] in (-1, 1) for i in range(0, 10, 2)), omega))\n",
    "len(valid) / len(omega)  # 0.0010582010582010583"
   ]
  },
  {
   "cell_type": "markdown",
   "metadata": {},
   "source": [
    "__Задача №6__. _В купейный вагон (9 купе по 4 места) семи пассажирам продано 7 билетов. Найти вероятности того, что пассажиры попали: а) в два купе; б) в семь купе; в) в три купе_.\n",
    "\n",
    "__Решение__. Пусть событие $A$ - пассажиры попали в два купе. Общее число способов выбора 7 любых мест из имеющихся в вагоне 36 определяется числом сочетаний"
   ]
  },
  {
   "cell_type": "code",
   "execution_count": 60,
   "metadata": {},
   "outputs": [
    {
     "data": {
      "text/plain": [
       "8347680"
      ]
     },
     "execution_count": 60,
     "metadata": {},
     "output_type": "execute_result"
    }
   ],
   "source": [
    "n = comb(36, 7)\n",
    "n  # 8347680"
   ]
  },
  {
   "cell_type": "markdown",
   "metadata": {},
   "source": [
    "Для нахождения числа __`m`__ случаев, благоприятствующих событию $A$, учтем, что 2 купе из 9 можно выбрать ${9}\\choose{2}$ способами, а 7 мест из имеющихся в двух купе 8 мест - ${8}\\choose{7}$ способами. По правилу произведения"
   ]
  },
  {
   "cell_type": "code",
   "execution_count": 61,
   "metadata": {},
   "outputs": [
    {
     "data": {
      "text/plain": [
       "288"
      ]
     },
     "execution_count": 61,
     "metadata": {},
     "output_type": "execute_result"
    }
   ],
   "source": [
    "m = comb(9, 2) * comb(8, 7)\n",
    "m  # 288"
   ]
  },
  {
   "cell_type": "markdown",
   "metadata": {},
   "source": [
    "Вероятность события $A$:"
   ]
  },
  {
   "cell_type": "code",
   "execution_count": 62,
   "metadata": {},
   "outputs": [
    {
     "data": {
      "text/plain": [
       "3.450060376056581e-05"
      ]
     },
     "execution_count": 62,
     "metadata": {},
     "output_type": "execute_result"
    }
   ],
   "source": [
    "m / n  # 3.450060376056581e-05"
   ]
  },
  {
   "cell_type": "markdown",
   "metadata": {},
   "source": [
    "б) Пусть событие $B$ - пассажиры попали в семь купе. 7 купе из 9 можно выбрать ${9}\\choose{7}$ способами. Семь мест в семи купе можно получить, если в каждом купе выбрать по одному месту из четырех, что возможно $4^7$ способами. Общее число случаев, благоприятствующих событию $B$, по правилу произведения равно"
   ]
  },
  {
   "cell_type": "code",
   "execution_count": 63,
   "metadata": {},
   "outputs": [
    {
     "data": {
      "text/plain": [
       "589824"
      ]
     },
     "execution_count": 63,
     "metadata": {},
     "output_type": "execute_result"
    }
   ],
   "source": [
    "m = comb(9, 7) * 4**7\n",
    "m  # 589824"
   ]
  },
  {
   "cell_type": "markdown",
   "metadata": {},
   "source": [
    "Вероятность события $B$:"
   ]
  },
  {
   "cell_type": "code",
   "execution_count": 64,
   "metadata": {},
   "outputs": [
    {
     "data": {
      "text/plain": [
       "0.07065723650163878"
      ]
     },
     "execution_count": 64,
     "metadata": {},
     "output_type": "execute_result"
    }
   ],
   "source": [
    "m / n  # 0.07065723650163878"
   ]
  },
  {
   "cell_type": "markdown",
   "metadata": {},
   "source": [
    "в) Пусть событие $D$ - пассажиры попали в три купе. 3 купе из 9 можно выбрать ${9}\\choose{3}$ способами, а число способов выбора семи мест из 12 в трех купе определяется сложнее, чем в п. а) и б). Действительно, возможные варианты выбора 7 мест из 12 в трех купе следующие: 4 + 2 + 1, 3 + 3 + 1, 3 + 2 + 2, а за счет перестановок купе таких вариантов будет соответственно 6, 3 и 3. Каждый из этих вариантов по правилу произведения может быть получен числом способов соответственно"
   ]
  },
  {
   "cell_type": "code",
   "execution_count": 65,
   "metadata": {},
   "outputs": [
    {
     "name": "stdout",
     "output_type": "stream",
     "text": [
      "m1=24, m2=64, m3=144\n"
     ]
    }
   ],
   "source": [
    "m1 = comb(4, 4) * comb(4, 2) * comb(4, 1)  # 24\n",
    "m2 = comb(4, 3) * comb(4, 3) * comb(4, 1)  # 64\n",
    "m3 = comb(4, 3) * comb(4, 2) * comb(4, 2)  # 144\n",
    "print(f'{m1=}, {m2=}, {m3=}')"
   ]
  },
  {
   "cell_type": "markdown",
   "metadata": {},
   "source": [
    "В результате общее число случаев, благоприятствующих событию $D$, равно"
   ]
  },
  {
   "cell_type": "code",
   "execution_count": 66,
   "metadata": {},
   "outputs": [
    {
     "data": {
      "text/plain": [
       "64512"
      ]
     },
     "execution_count": 66,
     "metadata": {},
     "output_type": "execute_result"
    }
   ],
   "source": [
    "m = comb(9, 3) * (6*m1 + 3*m2 + 3*m3)\n",
    "m  # 64512"
   ]
  },
  {
   "cell_type": "markdown",
   "metadata": {},
   "source": [
    "Вероятность события $D$:"
   ]
  },
  {
   "cell_type": "code",
   "execution_count": 67,
   "metadata": {},
   "outputs": [
    {
     "data": {
      "text/plain": [
       "0.007728135242366742"
      ]
     },
     "execution_count": 67,
     "metadata": {},
     "output_type": "execute_result"
    }
   ],
   "source": [
    "m / n  # 0.007728135242366742"
   ]
  },
  {
   "cell_type": "markdown",
   "metadata": {},
   "source": [
    "__Решение моделированием, все случаи вместе__\n",
    "<br>Пространство элементарных исходов __`omega`__ - всевозможные семиместные кортежи посадочных мест вагона, пронумерованных от 1 до 36. Результаты будем складывать в словарь-счетчик __`summary`__ с целочисленным значением по умолчанию.\n",
    "Для каждой комбинации сформируем \"сумку\" __`bag`__ - множество всех номеров купе, в которых располагаются места из данной комбинации. Поскольку __`set`__ оставляет только уникальные значения, мощность (или длина) множества __`bag`__ это количество купе, в которых располагается данная комбинация посадочных мест. Вся операция, по сути, - раскладывание комбинаций по естественным бинам, которыми являются купе. Обновим счетчик __`summary`__ длиной __`bag`__."
   ]
  },
  {
   "cell_type": "code",
   "execution_count": 68,
   "metadata": {},
   "outputs": [
    {
     "data": {
      "text/plain": [
       "defaultdict(int,\n",
       "            {2: 288, 3: 64512, 4: 1048320, 5: 3548160, 6: 3096576, 7: 589824})"
      ]
     },
     "execution_count": 68,
     "metadata": {},
     "output_type": "execute_result"
    }
   ],
   "source": [
    "omega = combinations(range(1, 37), 7)\n",
    "summary = defaultdict(int)\n",
    "\n",
    "for combination in omega:\n",
    "    bag = set()\n",
    "    for element in combination:\n",
    "        bag.add(ceil(element / 4))\n",
    "    summary[len(bag)] += 1\n",
    "\n",
    "summary\n",
    "# defaultdict(int, \n",
    "# {2: 288, 3: 64512, 4: 1048320, 5: 3548160, 6: 3096576, 7: 589824})"
   ]
  },
  {
   "cell_type": "markdown",
   "metadata": {},
   "source": [
    "Мы получили словарь результатов, в котором ключи это количество купе _k_, а значения - количество исходов, благоприятствующих событию \"пассажиры попали в _k штук_ купе\", числители из предшествующего комбинаторного решения."
   ]
  },
  {
   "cell_type": "markdown",
   "metadata": {},
   "source": [
    "***"
   ]
  },
  {
   "cell_type": "markdown",
   "metadata": {},
   "source": [
    "### __Формула Бернулли. Биномиальное распределение__"
   ]
  },
  {
   "cell_type": "markdown",
   "metadata": {},
   "source": [
    "__Задача__. _Вероятность изготовления стандартной детали равна 0,8. Найти вероятности возможного числа появления бракованных деталей среди 10 отобранных_.\n",
    "\n",
    "__Решение__. Вероятность изготовления бракованной детали $p=1-0,8=0,2$. Искомые вероятности находятся по формуле Бернулли $\\binom{n}{k}p^k(1-p)^{n-k}$. Дискретная случайная величина, принимающая значения $0, 1, 2, ..., k, ..., n$ с вероятностями по формуле Бернулли, имеет биномиальный закон распределения с параметрами $n$ и $p$. Воспользуемся ее реализацией, [__`scipy.stats.binom`__](https://scipy.github.io/devdocs/reference/generated/scipy.stats.binom.html#scipy-stats-binom)."
   ]
  },
  {
   "cell_type": "code",
   "execution_count": 69,
   "metadata": {},
   "outputs": [],
   "source": [
    "sns.set_theme()"
   ]
  },
  {
   "cell_type": "code",
   "execution_count": 70,
   "metadata": {},
   "outputs": [
    {
     "data": {
      "text/plain": [
       "[0.10737418240000006,\n",
       " 0.26843545599999996,\n",
       " 0.30198988800000004,\n",
       " 0.20132659199999992,\n",
       " 0.0880803839999999,\n",
       " 0.026424115199999983,\n",
       " 0.005505024000000005,\n",
       " 0.000786432,\n",
       " 7.372800000000001e-05,\n",
       " 4.095999999999997e-06,\n",
       " 1.0240000000000006e-07]"
      ]
     },
     "execution_count": 70,
     "metadata": {},
     "output_type": "execute_result"
    }
   ],
   "source": [
    "n, p = 10, .2\n",
    "rv = binom(n, p)  # rv - random variable\n",
    "\n",
    "# pmf - probability mass function (функция вероятности)\n",
    "# искомые вероятности\n",
    "[rv.pmf(k) for k in range(n+1)]"
   ]
  },
  {
   "cell_type": "code",
   "execution_count": 71,
   "metadata": {},
   "outputs": [
    {
     "data": {
      "image/png": "[encoded data removed]",
      "text/plain": [
       "<Figure size 648x432 with 1 Axes>"
      ]
     },
     "metadata": {},
     "output_type": "display_data"
    }
   ],
   "source": [
    "# полигон распределения вероятностей\n",
    "k = range(n+1)\n",
    "plt.figure(figsize=(9, 6))\n",
    "sns.lineplot(data=rv.pmf(k), marker='o', ms=8)\n",
    "plt.show()"
   ]
  },
  {
   "cell_type": "markdown",
   "metadata": {},
   "source": [
    "Вывод: Вероятность появления 2 бракованных деталей максимальна при данных условиях и равна"
   ]
  },
  {
   "cell_type": "code",
   "execution_count": 72,
   "metadata": {},
   "outputs": [
    {
     "data": {
      "text/plain": [
       "0.30198988800000004"
      ]
     },
     "execution_count": 72,
     "metadata": {},
     "output_type": "execute_result"
    }
   ],
   "source": [
    "rv.pmf(2)  # 0.30198988800000004"
   ]
  },
  {
   "cell_type": "markdown",
   "metadata": {},
   "source": [
    "***"
   ]
  },
  {
   "cell_type": "markdown",
   "metadata": {},
   "source": [
    "### __Геометрическое распределение__\n",
    "\n",
    "__Задача__. _Два игрока поочередно бросают игральную кость. Выигрывает тот, к которого первым выпадает \"6 очков\". Какова вероятность выигрыша игрока, бросающего игральную кость первым? Вторым?_\n",
    "\n",
    "__Решение__. Число $k$ испытаний, проведенных по схеме Бернулли, с вероятностью $p$ наступления события в каждом испытании до первого положительного исхода представляет собой случайную величину ($X$), имеющую геометрическое распределение: она принимает значения $1, 2, ..., k, ...$ с вероятностями $P(X=k)=pq^{k-1}$, где $q=1-p$. Сумма ряда геометрического распределения $p+pq+...+pq^{k-1}+...=1$. Очевидно, что вероятность выигрыша игрока, бросающего игральную кость первым, равна сумме нечетных членов ряда ($k=1, 3,...$), вторым - четных. Посчитаем сумму рядов в __`sympy`__. "
   ]
  },
  {
   "cell_type": "markdown",
   "metadata": {},
   "source": [
    "Во-первых, убедимся, что $ \\sum_{k=1}^{\\infty} pq^{k-1} = 1$:"
   ]
  },
  {
   "cell_type": "code",
   "execution_count": 73,
   "metadata": {},
   "outputs": [
    {
     "data": {
      "text/latex": [
       "$\\displaystyle 1.0$"
      ],
      "text/plain": [
       "1.00000000000000"
      ]
     },
     "execution_count": 73,
     "metadata": {},
     "output_type": "execute_result"
    }
   ],
   "source": [
    "p = 1/6\n",
    "q = 1 - p\n",
    "k = Symbol('k')\n",
    "Sum(p * q**(k-1), (k, 1, oo)).doit()  # 1"
   ]
  },
  {
   "cell_type": "markdown",
   "metadata": {},
   "source": [
    "Чтобы просуммировать только нечетные элементы, умножим показатель степени при $q$ на 2:"
   ]
  },
  {
   "cell_type": "code",
   "execution_count": 74,
   "metadata": {},
   "outputs": [
    {
     "data": {
      "text/latex": [
       "$\\displaystyle 0.545454545454546$"
      ],
      "text/plain": [
       "0.545454545454546"
      ]
     },
     "execution_count": 74,
     "metadata": {},
     "output_type": "execute_result"
    }
   ],
   "source": [
    "# вероятность выигрыша игрока, бросающего игральную кость первым\n",
    "sum_odd = Sum(p * q**(2*k-2), (k, 1, oo)).doit()\n",
    "sum_odd  # 0.545454545454546"
   ]
  },
  {
   "cell_type": "code",
   "execution_count": 75,
   "metadata": {},
   "outputs": [
    {
     "data": {
      "text/plain": [
       "Fraction(6, 11)"
      ]
     },
     "execution_count": 75,
     "metadata": {},
     "output_type": "execute_result"
    }
   ],
   "source": [
    "# в виде обыкновенной дроби\n",
    "Fraction(float(sum_odd)).limit_denominator()  # 6/11"
   ]
  },
  {
   "cell_type": "code",
   "execution_count": 76,
   "metadata": {},
   "outputs": [
    {
     "data": {
      "text/latex": [
       "$\\displaystyle 0.454545454545454$"
      ],
      "text/plain": [
       "0.454545454545454"
      ]
     },
     "execution_count": 76,
     "metadata": {},
     "output_type": "execute_result"
    }
   ],
   "source": [
    "# вероятность выигрыша игрока, бросающего игральную кость вторым\n",
    "1 - sum_odd  # 0.454545454545454"
   ]
  },
  {
   "cell_type": "code",
   "execution_count": 77,
   "metadata": {},
   "outputs": [
    {
     "data": {
      "text/latex": [
       "$\\displaystyle 0.454545454545455$"
      ],
      "text/plain": [
       "0.454545454545455"
      ]
     },
     "execution_count": 77,
     "metadata": {},
     "output_type": "execute_result"
    }
   ],
   "source": [
    "# или сдвигом вдоль ряда\n",
    "sum_even = Sum(p * q**(2*k-1), (k, 1, oo)).doit()\n",
    "sum_even  # 0.454545454545455"
   ]
  },
  {
   "cell_type": "code",
   "execution_count": 78,
   "metadata": {},
   "outputs": [
    {
     "data": {
      "text/plain": [
       "True"
      ]
     },
     "execution_count": 78,
     "metadata": {},
     "output_type": "execute_result"
    }
   ],
   "source": [
    "sum_even == 5/11  # True"
   ]
  },
  {
   "cell_type": "markdown",
   "metadata": {},
   "source": [
    "***"
   ]
  }
 ],
 "metadata": {
  "kernelspec": {
   "display_name": "Python 3.10.4 64-bit",
   "language": "python",
   "name": "python3"
  },
  "language_info": {
   "codemirror_mode": {
    "name": "ipython",
    "version": 3
   },
   "file_extension": ".py",
   "mimetype": "text/x-python",
   "name": "python",
   "nbconvert_exporter": "python",
   "pygments_lexer": "ipython3",
   "version": "3.10.4"
  },
  "orig_nbformat": 4,
  "vscode": {
   "interpreter": {
    "hash": "2b7d1ed637790b5ec3de7c97104df404492ef6fce05ce8fb6d683ce6cc683c52"
   }
  }
 },
 "nbformat": 4,
 "nbformat_minor": 2
}
