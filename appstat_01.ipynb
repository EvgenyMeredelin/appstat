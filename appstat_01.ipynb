{
 "cells": [
  {
   "cell_type": "markdown",
   "metadata": {},
   "source": [
    "## __APPSTAT_01. <br>Простейшая теория вероятностей__\n",
    "***"
   ]
  },
  {
   "cell_type": "markdown",
   "metadata": {},
   "source": [
    "### __Базовые операции над множествами в python__\n",
    "На [диаграмме Венна](https://ru.wikipedia.org/wiki/%D0%94%D0%B8%D0%B0%D0%B3%D1%80%D0%B0%D0%BC%D0%BC%D0%B0_%D0%92%D0%B5%D0%BD%D0%BD%D0%B0) для 3 множеств занумеруйте сегменты, соотнесите их с соответствующими множествами и с помощью [операций над множествами в python](https://docs.python.org/3/library/stdtypes.html#set-types-set-frozenset) определите, какие из приведенных равенств являются верными."
   ]
  },
  {
   "cell_type": "markdown",
   "metadata": {},
   "source": [
    "$\n",
    "(A \\cup B) \\setminus C = (A \\setminus C) \\cup (B \\setminus C)\n",
    "\\\\ (A \\cap B) \\cup C = (A \\cap C) \\cup (B \\cap C)\n",
    "\\\\ (A \\cap B) \\setminus C = (A \\setminus C) \\cap B\n",
    "\\\\ (A \\cap B) \\cup C = (A \\cup C) \\cap (B \\cup C)\n",
    "$\n",
    "***"
   ]
  },
  {
   "cell_type": "markdown",
   "metadata": {},
   "source": [
    "### __Моделирование простейших вероятностных пространств__"
   ]
  },
  {
   "cell_type": "code",
   "execution_count": 1,
   "metadata": {},
   "outputs": [],
   "source": [
    "from itertools import product, combinations_with_replacement, chain\n",
    "from sympy import FiniteSet, PowerSet, Rational, Symbol, Eq\n",
    "from sympy.stats import Die, Coin, Binomial, density, P"
   ]
  },
  {
   "cell_type": "markdown",
   "metadata": {},
   "source": [
    "[Прямое (декартово) произведение](https://ru.wikipedia.org/wiki/%D0%9F%D1%80%D1%8F%D0%BC%D0%BE%D0%B5_%D0%BF%D1%80%D0%BE%D0%B8%D0%B7%D0%B2%D0%B5%D0%B4%D0%B5%D0%BD%D0%B8%D0%B5)"
   ]
  },
  {
   "cell_type": "code",
   "execution_count": 2,
   "metadata": {},
   "outputs": [
    {
     "data": {
      "text/plain": [
       "{(1, 1),\n",
       " (1, 2),\n",
       " (1, 3),\n",
       " (1, 4),\n",
       " (2, 1),\n",
       " (2, 2),\n",
       " (2, 3),\n",
       " (2, 4),\n",
       " (3, 1),\n",
       " (3, 2),\n",
       " (3, 3),\n",
       " (3, 4),\n",
       " (4, 1),\n",
       " (4, 2),\n",
       " (4, 3),\n",
       " (4, 4)}"
      ]
     },
     "execution_count": 2,
     "metadata": {},
     "output_type": "execute_result"
    }
   ],
   "source": [
    "# пространство элементарных исходов эксперимента 2-кратного подбрасывания\n",
    "# правильного тетраэдра, в вершинах которого написаны числа 1, 2, 3, 4\n",
    "set(product(range(1, 5), range(1, 5)))  # заменяет конструкцию \"цикл в цикле\""
   ]
  },
  {
   "cell_type": "code",
   "execution_count": 3,
   "metadata": {},
   "outputs": [
    {
     "data": {
      "text/plain": [
       "{(1, 1),\n",
       " (1, 2),\n",
       " (1, 3),\n",
       " (1, 4),\n",
       " (2, 1),\n",
       " (2, 2),\n",
       " (2, 3),\n",
       " (2, 4),\n",
       " (3, 1),\n",
       " (3, 2),\n",
       " (3, 3),\n",
       " (3, 4),\n",
       " (4, 1),\n",
       " (4, 2),\n",
       " (4, 3),\n",
       " (4, 4)}"
      ]
     },
     "execution_count": 3,
     "metadata": {},
     "output_type": "execute_result"
    }
   ],
   "source": [
    "# то же средствами sympy\n",
    "tetrahedron = FiniteSet(*range(1, 5))\n",
    "set(tetrahedron**2)"
   ]
  },
  {
   "cell_type": "code",
   "execution_count": 4,
   "metadata": {},
   "outputs": [
    {
     "data": {
      "text/plain": [
       "{(1, 1),\n",
       " (1, 2),\n",
       " (1, 3),\n",
       " (1, 4),\n",
       " (2, 2),\n",
       " (2, 3),\n",
       " (2, 4),\n",
       " (3, 3),\n",
       " (3, 4),\n",
       " (4, 4)}"
      ]
     },
     "execution_count": 4,
     "metadata": {},
     "output_type": "execute_result"
    }
   ],
   "source": [
    "# если важен только состав элементов\n",
    "set(combinations_with_replacement(range(1, 5), 2))"
   ]
  },
  {
   "cell_type": "markdown",
   "metadata": {},
   "source": [
    "[Булеан](https://ru.wikipedia.org/wiki/%D0%91%D1%83%D0%BB%D0%B5%D0%B0%D0%BD)"
   ]
  },
  {
   "cell_type": "code",
   "execution_count": 5,
   "metadata": {},
   "outputs": [],
   "source": [
    "# итератор средствами стандартной библиотеки\n",
    "def powerset(iterable):\n",
    "    \"powerset([1,2,3]) --> () (1,) (2,) (3,) (1,2) (1,3) (2,3) (1,2,3)\"\n",
    "    s = list(iterable)\n",
    "    return chain.from_iterable(combinations(s, r) for r in range(len(s)+1))"
   ]
  },
  {
   "cell_type": "code",
   "execution_count": 6,
   "metadata": {},
   "outputs": [
    {
     "data": {
      "text/latex": [
       "$\\displaystyle \\left\\{\\emptyset, \\left\\{1\\right\\}, \\left\\{2\\right\\}, \\left\\{3\\right\\}, \\left\\{1, 2\\right\\}, \\left\\{1, 3\\right\\}, \\left\\{2, 3\\right\\}, \\left\\{1, 2, 3\\right\\}\\right\\}$"
      ],
      "text/plain": [
       "FiniteSet(EmptySet, {1}, {2}, {3}, {1, 2}, {1, 3}, {2, 3}, {1, 2, 3})"
      ]
     },
     "execution_count": 6,
     "metadata": {},
     "output_type": "execute_result"
    }
   ],
   "source": [
    "# то же средствами sympy\n",
    "PowerSet(FiniteSet(*range(1, 4))).rewrite(FiniteSet)"
   ]
  },
  {
   "cell_type": "code",
   "execution_count": 7,
   "metadata": {},
   "outputs": [
    {
     "data": {
      "text/plain": [
       "{T: 1/2, H: 1/2}"
      ]
     },
     "execution_count": 7,
     "metadata": {},
     "output_type": "execute_result"
    }
   ],
   "source": [
    "# fair/честные/правильные монеты готовым классом sympy\n",
    "# H - heads/орел, T - tails/решка\n",
    "C1, C2 = Coin('C1'), Coin('C2')\n",
    "density(C1).dict  # {T: 1/2, H: 1/2}, словарь \"исход: вероятность исхода\""
   ]
  },
  {
   "cell_type": "code",
   "execution_count": 8,
   "metadata": {},
   "outputs": [
    {
     "data": {
      "text/plain": [
       "{2*H: 1/4, H + T: 1/2, 2*T: 1/4}"
      ]
     },
     "execution_count": 8,
     "metadata": {},
     "output_type": "execute_result"
    }
   ],
   "source": [
    "# симуляция 2-кратного подбрасывания правильной монеты готовым классом sympy\n",
    "density(C1+C2).dict  # {2*H: 1/4, H + T: 1/2, 2*T: 1/4}"
   ]
  },
  {
   "cell_type": "code",
   "execution_count": 9,
   "metadata": {},
   "outputs": [
    {
     "data": {
      "text/plain": [
       "{T: 1/4, H: 3/4}"
      ]
     },
     "execution_count": 9,
     "metadata": {},
     "output_type": "execute_result"
    }
   ],
   "source": [
    "# unfair coin/нечестная/неправильная монета готовым классом sympy\n",
    "C3 = Coin('C3', Rational(3, 4))\n",
    "density(C3).dict  # {T: 1/4, H: 3/4}"
   ]
  },
  {
   "cell_type": "code",
   "execution_count": 10,
   "metadata": {},
   "outputs": [
    {
     "data": {
      "text/plain": [
       "{5*Решка: 1/32,\n",
       " Орел + 4*Решка: 5/32,\n",
       " 2*Орел + 3*Решка: 5/16,\n",
       " 3*Орел + 2*Решка: 5/16,\n",
       " 4*Орел + Решка: 5/32,\n",
       " 5*Орел: 1/32}"
      ]
     },
     "execution_count": 10,
     "metadata": {},
     "output_type": "execute_result"
    }
   ],
   "source": [
    "# симуляция 5-кратного подбрасывания правильной монеты биномиальным распределением\n",
    "n = Symbol('n', positive=True, integer=True)\n",
    "X = Binomial('X', n, Rational(1, 2), 'Орел', 'Решка')\n",
    "density(X).dict.subs(n, 5).doit()\n",
    "# {5*Решка: 1/32,\n",
    "#  Орел + 4*Решка: 5/32,\n",
    "#  2*Орел + 3*Решка: 5/16,\n",
    "#  3*Орел + 2*Решка: 5/16,\n",
    "#  4*Орел + Решка: 5/32,\n",
    "#  5*Орел: 1/32}"
   ]
  },
  {
   "cell_type": "code",
   "execution_count": 11,
   "metadata": {},
   "outputs": [
    {
     "data": {
      "text/plain": [
       "{1: 1/6, 2: 1/6, 3: 1/6, 4: 1/6, 5: 1/6, 6: 1/6}"
      ]
     },
     "execution_count": 11,
     "metadata": {},
     "output_type": "execute_result"
    }
   ],
   "source": [
    "# классические игральные кости\n",
    "D1, D2 = Die('D1', 6), Die('D2', 6)\n",
    "density(D1).dict  # {1: 1/6, 2: 1/6, 3: 1/6, 4: 1/6, 5: 1/6, 6: 1/6}"
   ]
  },
  {
   "cell_type": "code",
   "execution_count": 12,
   "metadata": {},
   "outputs": [
    {
     "data": {
      "text/plain": [
       "{2: 1/36,\n",
       " 3: 1/18,\n",
       " 4: 1/12,\n",
       " 5: 1/9,\n",
       " 6: 5/36,\n",
       " 7: 1/6,\n",
       " 8: 5/36,\n",
       " 9: 1/9,\n",
       " 10: 1/12,\n",
       " 11: 1/18,\n",
       " 12: 1/36}"
      ]
     },
     "execution_count": 12,
     "metadata": {},
     "output_type": "execute_result"
    }
   ],
   "source": [
    "# распределение вероятностей дискретной случайной величины - \n",
    "# суммы выпавших очков:\n",
    "# {2: 1/36, 3: 1/18, 4: 1/12, 5: 1/9, 6: 5/36, 7: 1/6, \n",
    "#  8: 5/36, 9: 1/9, 10: 1/12, 11: 1/18, 12: 1/36}\n",
    "dens = density(D1+D2).dict\n",
    "dens"
   ]
  },
  {
   "cell_type": "code",
   "execution_count": 13,
   "metadata": {},
   "outputs": [
    {
     "data": {
      "text/latex": [
       "$\\displaystyle \\frac{5}{36}$"
      ],
      "text/plain": [
       "5/36"
      ]
     },
     "execution_count": 13,
     "metadata": {},
     "output_type": "execute_result"
    }
   ],
   "source": [
    "# вероятность события \"сумма выпавших очков равна 8\"\n",
    "dens[8]  # 5/36, обращение по ключу"
   ]
  },
  {
   "cell_type": "code",
   "execution_count": 14,
   "metadata": {},
   "outputs": [
    {
     "data": {
      "text/latex": [
       "$\\displaystyle \\frac{5}{18}$"
      ],
      "text/plain": [
       "5/18"
      ]
     },
     "execution_count": 14,
     "metadata": {},
     "output_type": "execute_result"
    }
   ],
   "source": [
    "# вероятность события \"сумма выпавших очков больше 8\"\n",
    "P(D1+D2 > 8)  # 5/18"
   ]
  },
  {
   "cell_type": "code",
   "execution_count": 15,
   "metadata": {},
   "outputs": [
    {
     "data": {
      "text/latex": [
       "$\\displaystyle \\frac{1}{4}$"
      ],
      "text/plain": [
       "1/4"
      ]
     },
     "execution_count": 15,
     "metadata": {},
     "output_type": "execute_result"
    }
   ],
   "source": [
    "# вероятность события \"произведение выпавших очков нечетно\"\n",
    "P(Eq(D1*D2 % 2, 1))  # 1/4"
   ]
  },
  {
   "cell_type": "markdown",
   "metadata": {},
   "source": [
    "***"
   ]
  },
  {
   "cell_type": "markdown",
   "metadata": {},
   "source": [
    "### __Комбинаторика__"
   ]
  },
  {
   "cell_type": "markdown",
   "metadata": {},
   "source": [
    "Комбинаторные функции и итераторы в стандартной библиотеке python:\n",
    "<br>[модуль __`math`__](https://docs.python.org/3/library/math.html#module-math)\n",
    "| [модуль __`itertools`__](https://docs.python.org/3/library/itertools.html#module-itertools)"
   ]
  },
  {
   "cell_type": "code",
   "execution_count": 16,
   "metadata": {},
   "outputs": [],
   "source": [
    "# from math import comb, perm, factorial\n",
    "# from itertools import product, permutations, combinations, combinations_with_replacement"
   ]
  },
  {
   "cell_type": "markdown",
   "metadata": {},
   "source": [
    "Обратите внимание на то, что объекты __`itertools`__ это итераторы. Итератор работает лишь до опустошения. Пустой итератор ничего не отдает, поэтому если в коде требуется переиспользование, дренируйте итератор коллекцией - например, списком. Более специфичные, в т.ч. комбинаторные, итераторы можно найти в библиотеке [__`more-itertools`__](https://more-itertools.readthedocs.io/en/stable/).\n",
    "\n",
    "Ввиду быстрого переполнения памяти и низкой скорости не стоит считать сочетания, они же биномиальные коэффициенты, с помощью __`math.factorial`__ - пожалуйста, используйте либо __`math.comb`__, либо [__`scipy.special.binom`__](https://scipy.github.io/devdocs/reference/generated/scipy.special.binom.html#scipy-special-binom).\n",
    "\n",
    "### __Разбор задач по комбинаторике__"
   ]
  },
  {
   "cell_type": "code",
   "execution_count": 17,
   "metadata": {},
   "outputs": [],
   "source": [
    "from math import comb, perm, factorial, ceil\n",
    "from itertools import combinations, permutations\n",
    "from collections import defaultdict"
   ]
  },
  {
   "cell_type": "markdown",
   "metadata": {},
   "source": [
    "__Задача №1__. _В магазине было продано 21 из 25 холодильников трех марок, имеющихся в количествах 5, 7 и 13 штук. Полагая, что вероятность быть проданым для холодильника каждой марки одна и та же, найти вероятность того, что остались нераспроданными холодильники: а) одной марки; б) трех разных марок_.\n",
    "\n",
    "__Решение__. а) Пусть событие $A$ - остались нераспроданными холодильники одной марки. Общее число способов, которыми можно получить 4 непроданных холодильника из 25, равно"
   ]
  },
  {
   "cell_type": "code",
   "execution_count": 18,
   "metadata": {},
   "outputs": [
    {
     "data": {
      "text/plain": [
       "12650"
      ]
     },
     "execution_count": 18,
     "metadata": {},
     "output_type": "execute_result"
    }
   ],
   "source": [
    "n = comb(25, 4)\n",
    "n  # 12650"
   ]
  },
  {
   "cell_type": "markdown",
   "metadata": {},
   "source": [
    "Число способов, которыми можно получить 4 холодильника первой марки из 5, второй марки из 7 и третьей марки из 13, соответственно равно"
   ]
  },
  {
   "cell_type": "code",
   "execution_count": 19,
   "metadata": {},
   "outputs": [
    {
     "name": "stdout",
     "output_type": "stream",
     "text": [
      "m1=5, m2=35, m3=715\n"
     ]
    }
   ],
   "source": [
    "m1 = comb(5, 4)   # 5\n",
    "m2 = comb(7, 4)   # 35\n",
    "m3 = comb(13, 4)  # 715\n",
    "print(f'{m1=}, {m2=}, {m3=}')"
   ]
  },
  {
   "cell_type": "markdown",
   "metadata": {},
   "source": [
    "Событию $A$ по _правилу суммы_ благоприятствует __`m1 + m2 + m3`__ случаев. Вероятность события $A$:"
   ]
  },
  {
   "cell_type": "code",
   "execution_count": 20,
   "metadata": {},
   "outputs": [
    {
     "data": {
      "text/plain": [
       "0.059683794466403164"
      ]
     },
     "execution_count": 20,
     "metadata": {},
     "output_type": "execute_result"
    }
   ],
   "source": [
    "(m1 + m2 + m3) / n  # 0.059683794466403164"
   ]
  },
  {
   "cell_type": "markdown",
   "metadata": {},
   "source": [
    "б) Пусть событие $B$ - остались нераспроданными холодильники трех разных марок. Событие $B$ может произойти по одному из трех вариантов. По первому варианту событие $B$ произойдет, если останутся нераспроданными 1, 1, 2 холодильников соответственно 1-ой, 2-ой и 3-ей марок; по второму варианту - 1, 2, 1 и по третьему  варианту останутся нераспроданными 2, 1, 1 холодильников соответственно 1-ой, 2-ой и 3-ей марок. Так как до продажи имелось 5 холодильников 1-ой марки, 7 - 2-ой и 13 - 3-ей марки, то по _правилу произведения_ число случаев, благоприятствующих первому, второму и третьему вариантам, соответственно равно"
   ]
  },
  {
   "cell_type": "code",
   "execution_count": 21,
   "metadata": {},
   "outputs": [
    {
     "name": "stdout",
     "output_type": "stream",
     "text": [
      "m1=2730, m2=1365, m3=910\n"
     ]
    }
   ],
   "source": [
    "m1 = comb(5, 1) * comb(7, 1) * comb(13, 2)  # 2730\n",
    "m2 = comb(5, 1) * comb(7, 2) * comb(13, 1)  # 1365\n",
    "m3 = comb(5, 2) * comb(7, 1) * comb(13, 1)  # 910\n",
    "print(f'{m1=}, {m2=}, {m3=}')"
   ]
  },
  {
   "cell_type": "markdown",
   "metadata": {},
   "source": [
    "Общее число случаев, благоприятствующих событию $B$, равно __`m1 + m2 + m3`__. Вероятность события $B$: "
   ]
  },
  {
   "cell_type": "code",
   "execution_count": 22,
   "metadata": {},
   "outputs": [
    {
     "data": {
      "text/plain": [
       "0.39565217391304347"
      ]
     },
     "execution_count": 22,
     "metadata": {},
     "output_type": "execute_result"
    }
   ],
   "source": [
    "(m1 + m2 + m3) / n  # 0.39565217391304347"
   ]
  },
  {
   "cell_type": "markdown",
   "metadata": {},
   "source": [
    "__Решение моделированием вероятностного пространства в python__ <br>Метод, безусловно, грубый по соображениям скорости и потребляемой памяти и потому вторичный по отношению к чистому комбинаторному решению, но может выручить, когда решить элегантно не удается. Достоинство метода его интуитивная простота: сконструируйте пространство так, как вы его себе представляете, и отсеките лишнее. На примере последней комбинаторной задачи читатель увидит, как пусть и долгий, 15-секундный, но очень простой расчет кодом избавляет от необходимости вникать в существенно разные случаи внутри одного пространства событий.\n",
    "\n",
    "Итак, в задаче два события. Введем обобщающий характеристический признак события, __`event`__, и сведем решение к одной функции от данного признака как аргумента."
   ]
  },
  {
   "cell_type": "code",
   "execution_count": 23,
   "metadata": {},
   "outputs": [],
   "source": [
    "def task01(*, event: int) -> float:\n",
    "    stock = {'a': 5, 'b': 7, 'c': 13}\n",
    "    # ключи - марки/шильдики производителей, значения - начальные количества\n",
    "    labels = ''.join(label * qty for label, qty in stock.items())\n",
    "    # 'aaaaabbbbbbbccccccccccccc'    \n",
    "    items_sold = 21  # шт. продано\n",
    "    items_left = sum(stock.values()) - items_sold  # 4 шт. осталось    \n",
    "    omega = list(combinations(labels, items_left))    \n",
    "    valid = list(filter(lambda sequence: len(set(sequence)) == event, omega))\n",
    "    return len(valid) / len(omega)"
   ]
  },
  {
   "cell_type": "markdown",
   "metadata": {},
   "source": [
    "Пространство элементарных исходов __`omega`__ - список всевозможных четырехместных кортежей/комбинаций шильдиков из __`labels`__.\n",
    "<br>Выделим из __`omega`__ исходы, отвечающие событиям в условии: с помощью анонимной функции __`lambda`__ фильтр отбирает из __`omega`__ те кортежи, на которых __`lambda`__ возвращает __`True`__.\n",
    "<br>Что означает _среди нераспроданных четырех холодильников одна марка_? - это означает, что мощность (или длина) множества __`set`__, составленного из комбинации марок, равна единице. Аналогично _среди оставшихся три марки_: три уникальных элемента в комбинации и один, четвертый, дублирующий любой из первых трех.\n",
    "<br>Так мы обобщили события одним характеристическим признаком, __`event`__, который введем в функцию именованным аргументом. Искомая вероятность события - отношение длины списка благоприятствующих комбинаций, __`valid`__, к длине списка всевозможных, __`omega`__.\n",
    "<br>Сверимся с эталонным комбинаторным решением:"
   ]
  },
  {
   "cell_type": "code",
   "execution_count": 24,
   "metadata": {},
   "outputs": [
    {
     "data": {
      "text/plain": [
       "0.059683794466403164"
      ]
     },
     "execution_count": 24,
     "metadata": {},
     "output_type": "execute_result"
    }
   ],
   "source": [
    "task01(event=1)  # 0.059683794466403164"
   ]
  },
  {
   "cell_type": "code",
   "execution_count": 25,
   "metadata": {},
   "outputs": [
    {
     "data": {
      "text/plain": [
       "0.39565217391304347"
      ]
     },
     "execution_count": 25,
     "metadata": {},
     "output_type": "execute_result"
    }
   ],
   "source": [
    "task01(event=3)  # 0.39565217391304347"
   ]
  },
  {
   "cell_type": "markdown",
   "metadata": {},
   "source": [
    "__Задача №2__. _В партии 100 изделий, из которых 4 - бракованные. Партия произвольно разделена на две равные части, которые отправлены двум потребителям. Какова вероятность того, что все бракованные изделия достанутся: а) одному потребителю; б) обоим потребителям поровну?_\n",
    "\n",
    "__Решение__. а) Пусть событие $A$ - все бракованные изделия достанутся одному потребителю. Общее число способ, какими можно выбрать 50 изделий из 100, равно   "
   ]
  },
  {
   "cell_type": "code",
   "execution_count": 26,
   "metadata": {},
   "outputs": [
    {
     "data": {
      "text/plain": [
       "'100,891,344,545,564,193,334,812,497,256'"
      ]
     },
     "execution_count": 26,
     "metadata": {},
     "output_type": "execute_result"
    }
   ],
   "source": [
    "n = comb(100, 50)  # 100891344545564193334812497256\n",
    "'{:,}'.format(n)  # '100,891,344,545,564,193,334,812,497,256'"
   ]
  },
  {
   "cell_type": "markdown",
   "metadata": {},
   "source": [
    "Событию $A$ благоприятствуют случаи, когда из 50 изделий, отправленных одному потребителю, будет либо 46 стандартных из 96 (и все 4 бракованных) изделий, либо 50 стандартных из 96 (и 0 бракованных). Их число"
   ]
  },
  {
   "cell_type": "code",
   "execution_count": 27,
   "metadata": {},
   "outputs": [
    {
     "data": {
      "text/plain": [
       "11851029537373363540733989056"
      ]
     },
     "execution_count": 27,
     "metadata": {},
     "output_type": "execute_result"
    }
   ],
   "source": [
    "m = comb(96, 46) * comb(4, 4) + comb(96, 50) * comb(4, 0)\n",
    "m  # 11851029537373363540733989056"
   ]
  },
  {
   "cell_type": "markdown",
   "metadata": {},
   "source": [
    "Вероятность события $A$:"
   ]
  },
  {
   "cell_type": "code",
   "execution_count": 28,
   "metadata": {},
   "outputs": [
    {
     "data": {
      "text/plain": [
       "0.11746329272102468"
      ]
     },
     "execution_count": 28,
     "metadata": {},
     "output_type": "execute_result"
    }
   ],
   "source": [
    "m / n  # 0.11746329272102468"
   ]
  },
  {
   "cell_type": "markdown",
   "metadata": {},
   "source": [
    "б) Пусть событие $B$ - в каждой партии по 2 бракованных изделия. Теперь событию $B$ будут благоприятствовать случаи, когда из 50 изделий, отправленных одному потребителю, будут 48 стандартных из 96 и 2 бракованных из 4, их число"
   ]
  },
  {
   "cell_type": "code",
   "execution_count": 29,
   "metadata": {},
   "outputs": [
    {
     "data": {
      "text/plain": [
       "38610402083197793450529618600"
      ]
     },
     "execution_count": 29,
     "metadata": {},
     "output_type": "execute_result"
    }
   ],
   "source": [
    "m = comb(96, 48) * comb(4, 2)\n",
    "m  # 38610402083197793450529618600"
   ]
  },
  {
   "cell_type": "markdown",
   "metadata": {},
   "source": [
    "Вероятность события $B$:"
   ]
  },
  {
   "cell_type": "code",
   "execution_count": 30,
   "metadata": {},
   "outputs": [
    {
     "data": {
      "text/plain": [
       "0.3826929084661043"
      ]
     },
     "execution_count": 30,
     "metadata": {},
     "output_type": "execute_result"
    }
   ],
   "source": [
    "m / n  # 0.3826929084661043"
   ]
  },
  {
   "cell_type": "markdown",
   "metadata": {},
   "source": [
    "__Решение моделированием вероятностного пространства__"
   ]
  },
  {
   "cell_type": "code",
   "execution_count": 31,
   "metadata": {},
   "outputs": [],
   "source": [
    "def task02(*, event: tuple[int, ...]) -> float:\n",
    "    total = 100\n",
    "    defective = 4\n",
    "    mid = total / 2\n",
    "    omega = list(combinations(range(total), defective))\n",
    "    valid = list(filter(lambda sequence: \n",
    "        sum(element < mid for element in sequence) in event, omega))\n",
    "    return len(valid) / len(omega)"
   ]
  },
  {
   "cell_type": "markdown",
   "metadata": {},
   "source": [
    "Пространство элементарных исходов __`omega`__ - список четырехместных кортежей, всевозможных четверок изделий, занумерованных следующим образом: пусть первые 50, индексы [0, 49], попали к первому потребителю, оставшиеся 50, индексы [50, 99], - ко второму.\n",
    "<br>Анононимная функция отбирает из __`omega`__ те четверки, количество изделий в которых, отправленных первому потребителю, находится среди значений аргумента функции __`event`__ - характеристического признака события в данной задаче. По сути, мы ищем вероятность того, что любая четверка изделий, в т.ч. та, в которой все бракованные, может попасть в диапазон индексов изделий первого потребителя. Что означает __`event=(0, 4)`__? - это означает, что количество брака, попавшего к первому потребителю, равно либо 0 - и тогда весь брак у второго потребителя, либо наоборот, все 4 бракованные изделия у первого потребителя и 0 у второго: "
   ]
  },
  {
   "cell_type": "code",
   "execution_count": 32,
   "metadata": {},
   "outputs": [
    {
     "data": {
      "text/plain": [
       "0.11746329272102468"
      ]
     },
     "execution_count": 32,
     "metadata": {},
     "output_type": "execute_result"
    }
   ],
   "source": [
    "task02(event=(0, 4))  # 0.11746329272102468"
   ]
  },
  {
   "cell_type": "markdown",
   "metadata": {},
   "source": [
    "Два бракованных изделия у первого потребителя (и два, автоматически, у второго):"
   ]
  },
  {
   "cell_type": "code",
   "execution_count": 33,
   "metadata": {},
   "outputs": [
    {
     "data": {
      "text/plain": [
       "0.3826929084661043"
      ]
     },
     "execution_count": 33,
     "metadata": {},
     "output_type": "execute_result"
    }
   ],
   "source": [
    "task02(event=(2,))  # 0.3826929084661043"
   ]
  },
  {
   "cell_type": "markdown",
   "metadata": {},
   "source": [
    "__Задача №3__. _За круглым столом рассаживаются 5 мужчин и 5 женщин. Найти вероятность того, что: а) никакие два лица одного пола не сядут рядом; б) супруги сядут рядом, если эти мужчины и женщины образуют 5 супружеских пар_.\n",
    "\n",
    "__Решение__. а) Пусть событие $A$ - никакие два лица одного пола не сядут рядом. Общее число способов рассадки 10 лиц на 10 местах определяется числом перестановок"
   ]
  },
  {
   "cell_type": "code",
   "execution_count": 34,
   "metadata": {},
   "outputs": [
    {
     "data": {
      "text/plain": [
       "3628800"
      ]
     },
     "execution_count": 34,
     "metadata": {},
     "output_type": "execute_result"
    }
   ],
   "source": [
    "n = perm(10)\n",
    "n  # 3628800"
   ]
  },
  {
   "cell_type": "markdown",
   "metadata": {},
   "source": [
    "Если женщины займут четные места $5!$ способами, то мужчины будут занимать нечетные места также $5!$ способами, и наоборот, т.е. число случаев, благоприятствующих событию $A$, равно"
   ]
  },
  {
   "cell_type": "code",
   "execution_count": 35,
   "metadata": {},
   "outputs": [
    {
     "data": {
      "text/plain": [
       "28800"
      ]
     },
     "execution_count": 35,
     "metadata": {},
     "output_type": "execute_result"
    }
   ],
   "source": [
    "m = 2 * factorial(5)**2\n",
    "m  # 28800"
   ]
  },
  {
   "cell_type": "markdown",
   "metadata": {},
   "source": [
    "Вероятность события $A$:"
   ]
  },
  {
   "cell_type": "code",
   "execution_count": 36,
   "metadata": {},
   "outputs": [
    {
     "data": {
      "text/plain": [
       "0.007936507936507936"
      ]
     },
     "execution_count": 36,
     "metadata": {},
     "output_type": "execute_result"
    }
   ],
   "source": [
    "m / n  # 0.007936507936507936"
   ]
  },
  {
   "cell_type": "markdown",
   "metadata": {},
   "source": [
    "б) Пусть событие $B$ - супруги, образующие пять супружеских пар, сядут рядом. Теперь число случаев __`m`__, благоприятствующих событию $B$, определяется числом $5!$ всевозможных перестановок 5 супружеских пар, причем в каждой паре возможна перестановка мужа и жены. По правилу произведения"
   ]
  },
  {
   "cell_type": "code",
   "execution_count": 37,
   "metadata": {},
   "outputs": [
    {
     "data": {
      "text/plain": [
       "3840"
      ]
     },
     "execution_count": 37,
     "metadata": {},
     "output_type": "execute_result"
    }
   ],
   "source": [
    "m = factorial(5) * 2**5\n",
    "m  # 3840"
   ]
  },
  {
   "cell_type": "markdown",
   "metadata": {},
   "source": [
    "Вероятность события $B$:"
   ]
  },
  {
   "cell_type": "code",
   "execution_count": 38,
   "metadata": {},
   "outputs": [
    {
     "data": {
      "text/plain": [
       "0.0010582010582010583"
      ]
     },
     "execution_count": 38,
     "metadata": {},
     "output_type": "execute_result"
    }
   ],
   "source": [
    "m / n  # 0.0010582010582010583"
   ]
  },
  {
   "cell_type": "markdown",
   "metadata": {},
   "source": [
    "__Решение моделированием, случай а)__\n",
    "<br>На всех четных местах метка 0, тогда на всех нечетных - 1. И наоборот:"
   ]
  },
  {
   "cell_type": "code",
   "execution_count": 39,
   "metadata": {},
   "outputs": [
    {
     "data": {
      "text/plain": [
       "0.007936507936507936"
      ]
     },
     "execution_count": 39,
     "metadata": {},
     "output_type": "execute_result"
    }
   ],
   "source": [
    "omega = list(permutations([0]*5 + [1]*5, 10))\n",
    "valid = list(filter(lambda seq: sum(seq[::2]) in (0, 5), omega))\n",
    "len(valid) / len(omega)  # 0.007936507936507936"
   ]
  },
  {
   "cell_type": "markdown",
   "metadata": {},
   "source": [
    "__Решение моделированием, случай б)__\n",
    "<br>Пусть супруги это пары (0, 1), (2, 3), ..., (8, 9). Нас устраивают любые комбинации, в которых эти пары перемешиваются как единое целое, а также допустимы перестановки внутри пар. С точки зрения выбранной структуры это означает, что перестановки, в которых все элементы четных индексов отличаются от следующих за ними на 1 или -1, благоприятствуют интересующему случаю: муж и жена перемещаются вместе и могут следовать один за другим. Например,\n",
    "<br>__`(2, 3, 1, 0, 5, 4, 6, 7, 9, 8)`__ - OK, \n",
    "<br>__`(2, 1, 3, 0, 5, 4, 6, 7, 9, 8)`__ - NOK."
   ]
  },
  {
   "cell_type": "code",
   "execution_count": 40,
   "metadata": {},
   "outputs": [
    {
     "data": {
      "text/plain": [
       "0.0010582010582010583"
      ]
     },
     "execution_count": 40,
     "metadata": {},
     "output_type": "execute_result"
    }
   ],
   "source": [
    "omega = list(permutations(range(10), 10))\n",
    "valid = list(filter(lambda seq: \n",
    "    all(seq[i] - seq[i+1] in (-1, 1) for i in range(0, 10, 2)), omega))\n",
    "len(valid) / len(omega)  # 0.0010582010582010583"
   ]
  },
  {
   "cell_type": "markdown",
   "metadata": {},
   "source": [
    "__Задача №4__. _В купейный вагон (9 купе по 4 места) семи пассажирам продано 7 билетов. Найти вероятности того, что пассажиры попали: а) в два купе; б) в семь купе; в) в три купе_.\n",
    "\n",
    "__Решение__. Пусть событие $A$ - пассажиры попали в два купе. Общее число способов выбора 7 любых мест из имеющихся в вагоне 36 определяется числом сочетаний"
   ]
  },
  {
   "cell_type": "code",
   "execution_count": 41,
   "metadata": {},
   "outputs": [
    {
     "data": {
      "text/plain": [
       "8347680"
      ]
     },
     "execution_count": 41,
     "metadata": {},
     "output_type": "execute_result"
    }
   ],
   "source": [
    "n = comb(36, 7)\n",
    "n  # 8347680"
   ]
  },
  {
   "cell_type": "markdown",
   "metadata": {},
   "source": [
    "Для нахождения числа __`m`__ случаев, благоприятствующих событию $A$, учтем, что 2 купе из 9 можно выбрать ${9}\\choose{2}$ способами, а 7 мест из имеющихся в двух купе 8 мест - ${8}\\choose{7}$ способами. По правилу произведения"
   ]
  },
  {
   "cell_type": "code",
   "execution_count": 42,
   "metadata": {},
   "outputs": [
    {
     "data": {
      "text/plain": [
       "288"
      ]
     },
     "execution_count": 42,
     "metadata": {},
     "output_type": "execute_result"
    }
   ],
   "source": [
    "m = comb(9, 2) * comb(8, 7)\n",
    "m  # 288"
   ]
  },
  {
   "cell_type": "markdown",
   "metadata": {},
   "source": [
    "Вероятность события $A$:"
   ]
  },
  {
   "cell_type": "code",
   "execution_count": 43,
   "metadata": {},
   "outputs": [
    {
     "data": {
      "text/plain": [
       "3.450060376056581e-05"
      ]
     },
     "execution_count": 43,
     "metadata": {},
     "output_type": "execute_result"
    }
   ],
   "source": [
    "m / n  # 3.450060376056581e-05"
   ]
  },
  {
   "cell_type": "markdown",
   "metadata": {},
   "source": [
    "б) Пусть событие $B$ - пассажиры попали в семь купе. 7 купе из 9 можно выбрать ${9}\\choose{7}$ способами. Семь мест в семи купе можно получить, если в каждом купе выбрать по одному месту из четырех, что возможно $4^7$ способами. Общее число случаев, благоприятствующих событию $B$, по правилу произведения равно"
   ]
  },
  {
   "cell_type": "code",
   "execution_count": 44,
   "metadata": {},
   "outputs": [
    {
     "data": {
      "text/plain": [
       "589824"
      ]
     },
     "execution_count": 44,
     "metadata": {},
     "output_type": "execute_result"
    }
   ],
   "source": [
    "m = comb(9, 7) * 4**7\n",
    "m  # 589824"
   ]
  },
  {
   "cell_type": "markdown",
   "metadata": {},
   "source": [
    "Вероятность события $B$:"
   ]
  },
  {
   "cell_type": "code",
   "execution_count": 45,
   "metadata": {},
   "outputs": [
    {
     "data": {
      "text/plain": [
       "0.07065723650163878"
      ]
     },
     "execution_count": 45,
     "metadata": {},
     "output_type": "execute_result"
    }
   ],
   "source": [
    "m / n  # 0.07065723650163878"
   ]
  },
  {
   "cell_type": "markdown",
   "metadata": {},
   "source": [
    "в) Пусть событие $D$ - пассажиры попали в три купе. 3 купе из 9 можно выбрать ${9}\\choose{3}$ способами, а число способов выбора семи мест из 12 в трех купе определяется сложнее, чем в п. а) и б). Действительно, возможные варианты выбора 7 мест из 12 в трех купе следующие: 4 + 2 + 1, 3 + 3 + 1, 3 + 2 + 2, а за счет перестановок купе таких вариантов будет соответственно 6, 3 и 3. Каждый из этих вариантов по правилу произведения может быть получен числом способов соответственно"
   ]
  },
  {
   "cell_type": "code",
   "execution_count": 46,
   "metadata": {},
   "outputs": [
    {
     "name": "stdout",
     "output_type": "stream",
     "text": [
      "m1=24, m2=64, m3=144\n"
     ]
    }
   ],
   "source": [
    "m1 = comb(4, 4) * comb(4, 2) * comb(4, 1)  # 24\n",
    "m2 = comb(4, 3) * comb(4, 3) * comb(4, 1)  # 64\n",
    "m3 = comb(4, 3) * comb(4, 2) * comb(4, 2)  # 144\n",
    "print(f'{m1=}, {m2=}, {m3=}')"
   ]
  },
  {
   "cell_type": "markdown",
   "metadata": {},
   "source": [
    "В результате общее число случаев, благоприятствующих событию $D$, равно"
   ]
  },
  {
   "cell_type": "code",
   "execution_count": 47,
   "metadata": {},
   "outputs": [
    {
     "data": {
      "text/plain": [
       "64512"
      ]
     },
     "execution_count": 47,
     "metadata": {},
     "output_type": "execute_result"
    }
   ],
   "source": [
    "m = comb(9, 3) * (6*m1 + 3*m2 + 3*m3)\n",
    "m  # 64512"
   ]
  },
  {
   "cell_type": "markdown",
   "metadata": {},
   "source": [
    "Вероятность события $D$:"
   ]
  },
  {
   "cell_type": "code",
   "execution_count": 48,
   "metadata": {},
   "outputs": [
    {
     "data": {
      "text/plain": [
       "0.007728135242366742"
      ]
     },
     "execution_count": 48,
     "metadata": {},
     "output_type": "execute_result"
    }
   ],
   "source": [
    "m / n  # 0.007728135242366742"
   ]
  },
  {
   "cell_type": "markdown",
   "metadata": {},
   "source": [
    "__Решение моделированием, все случаи вместе__\n",
    "<br>Пространство элементарных исходов __`omega`__ - всевозможные семиместные кортежи посадочных мест вагона, пронумерованных от 1 до 36. Результаты будем складывать в словарь-счетчик __`summary`__ с целочисленным значением по умолчанию.\n",
    "Для каждой комбинации сформируем \"сумку\" __`bag`__ - множество всех номеров купе, в которых располагаются места из данной комбинации. Поскольку __`set`__ оставляет только уникальные значения, мощность (или длина) множества __`bag`__ это количество купе, в которых располагается данная комбинация посадочных мест. Вся операция, по сути, - раскладывание комбинаций по естественным бинам, которыми являются купе. Обновим счетчик __`summary`__ длиной __`bag`__."
   ]
  },
  {
   "cell_type": "code",
   "execution_count": 49,
   "metadata": {},
   "outputs": [
    {
     "data": {
      "text/plain": [
       "defaultdict(int,\n",
       "            {2: 288, 3: 64512, 4: 1048320, 5: 3548160, 6: 3096576, 7: 589824})"
      ]
     },
     "execution_count": 49,
     "metadata": {},
     "output_type": "execute_result"
    }
   ],
   "source": [
    "omega = combinations(range(1, 37), 7)\n",
    "summary = defaultdict(int)\n",
    "\n",
    "for combination in omega:\n",
    "    bag = set()\n",
    "    for element in combination:\n",
    "        bag.add(ceil(element / 4))\n",
    "    summary[len(bag)] += 1\n",
    "\n",
    "summary\n",
    "# defaultdict(int, \n",
    "# {2: 288, 3: 64512, 4: 1048320, 5: 3548160, 6: 3096576, 7: 589824})"
   ]
  },
  {
   "cell_type": "markdown",
   "metadata": {},
   "source": [
    "Мы получили словарь результатов, в котором ключи это количество купе _k_, а значения - количество исходов, благоприятствующих событию \"пассажиры попали в _k штук_ купе\", числители из предшествующего комбинаторного решения."
   ]
  },
  {
   "cell_type": "markdown",
   "metadata": {},
   "source": [
    "***"
   ]
  },
  {
   "cell_type": "markdown",
   "metadata": {},
   "source": [
    "### __Формула Бернулли. Биномиальное распределение__"
   ]
  },
  {
   "cell_type": "markdown",
   "metadata": {},
   "source": [
    "__Задача__. _Вероятность изготовления стандартной детали равна 0,8. Найти вероятности возможного числа появления бракованных деталей среди 10 отобранных_.\n",
    "\n",
    "__Решение__. Вероятность изготовления бракованной детали $p=1-0,8=0,2$. Искомые вероятности находятся по формуле Бернулли $\\binom{n}{k}p^k(1-p)^{n-k}$. Дискретная случайная величина, принимающая значения $0, 1, 2, ..., k, ..., n$ с вероятностями по формуле Бернулли, имеет биномиальный закон распределения с параметрами $n$ и $p$. Воспользуемся ее реализацией, [__`scipy.stats.binom`__](https://scipy.github.io/devdocs/reference/generated/scipy.stats.binom.html#scipy-stats-binom)."
   ]
  },
  {
   "cell_type": "code",
   "execution_count": 23,
   "metadata": {},
   "outputs": [],
   "source": [
    "from scipy.stats import binom\n",
    "import matplotlib.pyplot as plt\n",
    "import seaborn as sns"
   ]
  },
  {
   "cell_type": "code",
   "execution_count": null,
   "metadata": {},
   "outputs": [],
   "source": [
    "sns.set_theme()"
   ]
  },
  {
   "cell_type": "code",
   "execution_count": 24,
   "metadata": {},
   "outputs": [
    {
     "data": {
      "text/plain": [
       "[0.10737418240000006,\n",
       " 0.26843545599999996,\n",
       " 0.30198988800000004,\n",
       " 0.20132659199999992,\n",
       " 0.0880803839999999,\n",
       " 0.026424115199999983,\n",
       " 0.005505024000000005,\n",
       " 0.000786432,\n",
       " 7.372800000000001e-05,\n",
       " 4.095999999999997e-06,\n",
       " 1.0240000000000006e-07]"
      ]
     },
     "execution_count": 24,
     "metadata": {},
     "output_type": "execute_result"
    }
   ],
   "source": [
    "n, p = 10, .2\n",
    "rv = binom(n, p)  # rv - random variable\n",
    "\n",
    "# pmf - probability mass function (функция вероятности)\n",
    "# искомые вероятности\n",
    "[rv.pmf(k) for k in range(n+1)]"
   ]
  },
  {
   "cell_type": "code",
   "execution_count": 25,
   "metadata": {},
   "outputs": [
    {
     "data": {
      "image/png": "[encoded data removed]",
      "text/plain": [
       "<Figure size 648x432 with 1 Axes>"
      ]
     },
     "metadata": {
      "needs_background": "light"
     },
     "output_type": "display_data"
    }
   ],
   "source": [
    "# полигон распределения вероятностей\n",
    "k = range(n+1)\n",
    "plt.figure(figsize=(9, 6))\n",
    "sns.lineplot(data=rv.pmf(k), marker='o', ms=8)\n",
    "plt.show()"
   ]
  },
  {
   "cell_type": "markdown",
   "metadata": {},
   "source": [
    "Вывод: Вероятность появления 2 бракованных деталей максимальна при данных условиях и равна"
   ]
  },
  {
   "cell_type": "code",
   "execution_count": 26,
   "metadata": {},
   "outputs": [
    {
     "data": {
      "text/plain": [
       "0.30198988800000004"
      ]
     },
     "execution_count": 26,
     "metadata": {},
     "output_type": "execute_result"
    }
   ],
   "source": [
    "rv.pmf(2)  # 0.30198988800000004"
   ]
  },
  {
   "cell_type": "markdown",
   "metadata": {},
   "source": [
    "***"
   ]
  },
  {
   "cell_type": "markdown",
   "metadata": {},
   "source": [
    "### __Геометрическое распределение__\n",
    "\n",
    "__Задача__. _Два игрока поочередно бросают игральную кость. Выигрывает тот, к которого первым выпадает \"6 очков\". Какова вероятность выигрыша игрока, бросающего игральную кость первым? Вторым?_\n",
    "\n",
    "__Решение__. Число $k$ испытаний, проведенных по схеме Бернулли, с вероятностью $p$ наступления события в каждом испытании до первого положительного исхода представляет собой случайную величину ($X$), имеющую геометрическое распределение: она принимает значения $1, 2, ..., k, ...$ с вероятностями $P(X=k)=pq^{k-1}$, где $q=1-p$. Сумма ряда геометрического распределения $p+pq+...+pq^{k-1}+...=1$. Очевидно, что вероятность выигрыша игрока, бросающего игральную кость первым, равна сумме нечетных членов ряда ($k=1, 3,...$), вторым - четных. Посчитаем сумму рядов в __`sympy`__. "
   ]
  },
  {
   "cell_type": "code",
   "execution_count": 27,
   "metadata": {},
   "outputs": [],
   "source": [
    "from fractions import Fraction\n",
    "from sympy import Symbol, Sum, oo"
   ]
  },
  {
   "cell_type": "markdown",
   "metadata": {},
   "source": [
    "Во-первых, убедимся, что $ \\sum_{k=1}^{\\infty} pq^{k-1} = 1$:"
   ]
  },
  {
   "cell_type": "code",
   "execution_count": 28,
   "metadata": {},
   "outputs": [
    {
     "data": {
      "text/latex": [
       "$\\displaystyle 1.0$"
      ],
      "text/plain": [
       "1.00000000000000"
      ]
     },
     "execution_count": 28,
     "metadata": {},
     "output_type": "execute_result"
    }
   ],
   "source": [
    "p = 1/6\n",
    "q = 1 - p\n",
    "k = Symbol('k')\n",
    "Sum(p * q**(k-1), (k, 1, oo)).doit()  # 1"
   ]
  },
  {
   "cell_type": "markdown",
   "metadata": {},
   "source": [
    "Чтобы просуммировать только нечетные элементы, умножим показатель степени при $q$ на 2:"
   ]
  },
  {
   "cell_type": "code",
   "execution_count": 29,
   "metadata": {},
   "outputs": [
    {
     "data": {
      "text/latex": [
       "$\\displaystyle 0.545454545454546$"
      ],
      "text/plain": [
       "0.545454545454546"
      ]
     },
     "execution_count": 29,
     "metadata": {},
     "output_type": "execute_result"
    }
   ],
   "source": [
    "# вероятность выигрыша игрока, бросающего игральную кость первым\n",
    "sum_odd = Sum(p * q**(2*k-2), (k, 1, oo)).doit()\n",
    "sum_odd  # 0.545454545454546"
   ]
  },
  {
   "cell_type": "code",
   "execution_count": 30,
   "metadata": {},
   "outputs": [
    {
     "data": {
      "text/plain": [
       "Fraction(6, 11)"
      ]
     },
     "execution_count": 30,
     "metadata": {},
     "output_type": "execute_result"
    }
   ],
   "source": [
    "# в виде обыкновенной дроби\n",
    "Fraction(float(sum_odd)).limit_denominator()  # 6/11"
   ]
  },
  {
   "cell_type": "code",
   "execution_count": 31,
   "metadata": {},
   "outputs": [
    {
     "data": {
      "text/latex": [
       "$\\displaystyle 0.454545454545454$"
      ],
      "text/plain": [
       "0.454545454545454"
      ]
     },
     "execution_count": 31,
     "metadata": {},
     "output_type": "execute_result"
    }
   ],
   "source": [
    "# вероятность выигрыша игрока, бросающего игральную кость вторым\n",
    "1 - sum_odd  # 0.454545454545454"
   ]
  },
  {
   "cell_type": "code",
   "execution_count": 32,
   "metadata": {},
   "outputs": [
    {
     "data": {
      "text/latex": [
       "$\\displaystyle 0.454545454545455$"
      ],
      "text/plain": [
       "0.454545454545455"
      ]
     },
     "execution_count": 32,
     "metadata": {},
     "output_type": "execute_result"
    }
   ],
   "source": [
    "# или сдвигом вдоль ряда\n",
    "sum_even = Sum(p * q**(2*k-1), (k, 1, oo)).doit()\n",
    "sum_even  # 0.454545454545455"
   ]
  },
  {
   "cell_type": "code",
   "execution_count": 33,
   "metadata": {},
   "outputs": [
    {
     "data": {
      "text/plain": [
       "True"
      ]
     },
     "execution_count": 33,
     "metadata": {},
     "output_type": "execute_result"
    }
   ],
   "source": [
    "sum_even == 5/11  # True"
   ]
  },
  {
   "cell_type": "markdown",
   "metadata": {},
   "source": [
    "***"
   ]
  }
 ],
 "metadata": {
  "kernelspec": {
   "display_name": "Python 3.10.4 64-bit",
   "language": "python",
   "name": "python3"
  },
  "language_info": {
   "codemirror_mode": {
    "name": "ipython",
    "version": 3
   },
   "file_extension": ".py",
   "mimetype": "text/x-python",
   "name": "python",
   "nbconvert_exporter": "python",
   "pygments_lexer": "ipython3",
   "version": "3.10.4"
  },
  "orig_nbformat": 4,
  "vscode": {
   "interpreter": {
    "hash": "2b7d1ed637790b5ec3de7c97104df404492ef6fce05ce8fb6d683ce6cc683c52"
   }
  }
 },
 "nbformat": 4,
 "nbformat_minor": 2
}
