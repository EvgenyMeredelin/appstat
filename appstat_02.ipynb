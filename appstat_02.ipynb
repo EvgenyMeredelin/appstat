{
 "cells": [
  {
   "cell_type": "markdown",
   "metadata": {},
   "source": [
    "## __APPSTAT_02. <br>Простейшие случайные величины__\n",
    "***"
   ]
  },
  {
   "cell_type": "code",
   "execution_count": 9,
   "metadata": {},
   "outputs": [],
   "source": [
    "from itertools import product, combinations_with_replacement\n",
    "from operator import add, mul\n",
    "from fractions import Fraction\n",
    "from statistics import covariance, correlation\n",
    "from random import choice\n",
    "from math import factorial\n",
    "from sympy.stats import Die, FiniteRV, density, E, variance\n",
    "import numpy as np\n",
    "import pandas as pd\n",
    "from scipy import stats\n",
    "from scipy.special import binom\n",
    "from scipy.integrate import quad\n",
    "import matplotlib.pyplot as plt\n",
    "import seaborn as sns"
   ]
  },
  {
   "cell_type": "markdown",
   "metadata": {},
   "source": [
    "### __Совместное распределение случайных величин__"
   ]
  },
  {
   "cell_type": "markdown",
   "metadata": {},
   "source": [
    "Сквозной пример данной лекции - эксперимент двукратного бросания правильного тетраэдра, в вершинах которого написаны числа 1, 2, 3, 4. Пространство элементарных исходов состоит из 16 равновозможных исходов, означающих, что при первом бросании выпало число $i$, а при втором - $j$. Тогда __`x`__ в __`numpy`__ (__`X`__ в __`sympy`__) - случайная величина, обозначающая сумму выпавших очков, __`y`__ в __`numpy`__ (__`Y`__ в __`sympy`__) - случайная величина, обозначающая произведение выпавших очков. \n",
    "<br>В __`sympy`__ реализуем это двумя одинаковыми условными тетраэдрами - объектами класса __`Die`__ (игральная кость, мн. ч. _dice_) библиотеки __`sympy`__. В __`numpy`__ - суммированием и умножением элементов пар из итератора __`product`__ модуля __`itertools`__ стандартной библиотеки."
   ]
  },
  {
   "cell_type": "code",
   "execution_count": 4,
   "metadata": {},
   "outputs": [],
   "source": [
    "# инициализация тетраэдров \n",
    "n = 4\n",
    "t1, t2 = Die('t1', n), Die('t2', n)"
   ]
  },
  {
   "cell_type": "code",
   "execution_count": 119,
   "metadata": {},
   "outputs": [
    {
     "data": {
      "text/latex": [
       "$\\displaystyle \\left\\{ 2 : \\frac{1}{16}, \\  3 : \\frac{1}{8}, \\  4 : \\frac{3}{16}, \\  5 : \\frac{1}{4}, \\  6 : \\frac{3}{16}, \\  7 : \\frac{1}{8}, \\  8 : \\frac{1}{16}\\right\\}$"
      ],
      "text/plain": [
       "{2: 1/16, 3: 1/8, 4: 3/16, 5: 1/4, 6: 3/16, 7: 1/8, 8: 1/16}"
      ]
     },
     "execution_count": 119,
     "metadata": {},
     "output_type": "execute_result"
    }
   ],
   "source": [
    "# распределение случайной величины X\n",
    "X = FiniteRV('X', density(t1+t2))\n",
    "dX = density(X).dict\n",
    "dX"
   ]
  },
  {
   "cell_type": "code",
   "execution_count": 120,
   "metadata": {},
   "outputs": [
    {
     "data": {
      "text/latex": [
       "$\\displaystyle \\left\\{ 1 : \\frac{1}{16}, \\  2 : \\frac{1}{8}, \\  3 : \\frac{1}{8}, \\  4 : \\frac{3}{16}, \\  6 : \\frac{1}{8}, \\  8 : \\frac{1}{8}, \\  9 : \\frac{1}{16}, \\  12 : \\frac{1}{8}, \\  16 : \\frac{1}{16}\\right\\}$"
      ],
      "text/plain": [
       "{1: 1/16, 2: 1/8, 3: 1/8, 4: 3/16, 6: 1/8, 8: 1/8, 9: 1/16, 12: 1/8, 16: 1/16}"
      ]
     },
     "execution_count": 120,
     "metadata": {},
     "output_type": "execute_result"
    }
   ],
   "source": [
    "# распределение случайной величины Y\n",
    "Y = FiniteRV('Y', density(t1*t2))\n",
    "dY = density(Y).dict\n",
    "dY"
   ]
  },
  {
   "cell_type": "code",
   "execution_count": 121,
   "metadata": {},
   "outputs": [
    {
     "data": {
      "text/html": [
       "<div>\n",
       "<style scoped>\n",
       "    .dataframe tbody tr th:only-of-type {\n",
       "        vertical-align: middle;\n",
       "    }\n",
       "\n",
       "    .dataframe tbody tr th {\n",
       "        vertical-align: top;\n",
       "    }\n",
       "\n",
       "    .dataframe thead th {\n",
       "        text-align: right;\n",
       "    }\n",
       "</style>\n",
       "<table border=\"1\" class=\"dataframe\">\n",
       "  <thead>\n",
       "    <tr style=\"text-align: right;\">\n",
       "      <th></th>\n",
       "      <th>1</th>\n",
       "      <th>2</th>\n",
       "      <th>3</th>\n",
       "      <th>4</th>\n",
       "      <th>6</th>\n",
       "      <th>8</th>\n",
       "      <th>9</th>\n",
       "      <th>12</th>\n",
       "      <th>16</th>\n",
       "    </tr>\n",
       "  </thead>\n",
       "  <tbody>\n",
       "    <tr>\n",
       "      <th>2</th>\n",
       "      <td>0.0625</td>\n",
       "      <td>0.000</td>\n",
       "      <td>0.000</td>\n",
       "      <td>0.0000</td>\n",
       "      <td>0.000</td>\n",
       "      <td>0.000</td>\n",
       "      <td>0.0000</td>\n",
       "      <td>0.000</td>\n",
       "      <td>0.0000</td>\n",
       "    </tr>\n",
       "    <tr>\n",
       "      <th>3</th>\n",
       "      <td>0.0000</td>\n",
       "      <td>0.125</td>\n",
       "      <td>0.000</td>\n",
       "      <td>0.0000</td>\n",
       "      <td>0.000</td>\n",
       "      <td>0.000</td>\n",
       "      <td>0.0000</td>\n",
       "      <td>0.000</td>\n",
       "      <td>0.0000</td>\n",
       "    </tr>\n",
       "    <tr>\n",
       "      <th>4</th>\n",
       "      <td>0.0000</td>\n",
       "      <td>0.000</td>\n",
       "      <td>0.125</td>\n",
       "      <td>0.0625</td>\n",
       "      <td>0.000</td>\n",
       "      <td>0.000</td>\n",
       "      <td>0.0000</td>\n",
       "      <td>0.000</td>\n",
       "      <td>0.0000</td>\n",
       "    </tr>\n",
       "    <tr>\n",
       "      <th>5</th>\n",
       "      <td>0.0000</td>\n",
       "      <td>0.000</td>\n",
       "      <td>0.000</td>\n",
       "      <td>0.1250</td>\n",
       "      <td>0.125</td>\n",
       "      <td>0.000</td>\n",
       "      <td>0.0000</td>\n",
       "      <td>0.000</td>\n",
       "      <td>0.0000</td>\n",
       "    </tr>\n",
       "    <tr>\n",
       "      <th>6</th>\n",
       "      <td>0.0000</td>\n",
       "      <td>0.000</td>\n",
       "      <td>0.000</td>\n",
       "      <td>0.0000</td>\n",
       "      <td>0.000</td>\n",
       "      <td>0.125</td>\n",
       "      <td>0.0625</td>\n",
       "      <td>0.000</td>\n",
       "      <td>0.0000</td>\n",
       "    </tr>\n",
       "    <tr>\n",
       "      <th>7</th>\n",
       "      <td>0.0000</td>\n",
       "      <td>0.000</td>\n",
       "      <td>0.000</td>\n",
       "      <td>0.0000</td>\n",
       "      <td>0.000</td>\n",
       "      <td>0.000</td>\n",
       "      <td>0.0000</td>\n",
       "      <td>0.125</td>\n",
       "      <td>0.0000</td>\n",
       "    </tr>\n",
       "    <tr>\n",
       "      <th>8</th>\n",
       "      <td>0.0000</td>\n",
       "      <td>0.000</td>\n",
       "      <td>0.000</td>\n",
       "      <td>0.0000</td>\n",
       "      <td>0.000</td>\n",
       "      <td>0.000</td>\n",
       "      <td>0.0000</td>\n",
       "      <td>0.000</td>\n",
       "      <td>0.0625</td>\n",
       "    </tr>\n",
       "  </tbody>\n",
       "</table>\n",
       "</div>"
      ],
      "text/plain": [
       "        1      2      3       4      6      8       9     12      16\n",
       "2  0.0625  0.000  0.000  0.0000  0.000  0.000  0.0000  0.000  0.0000\n",
       "3  0.0000  0.125  0.000  0.0000  0.000  0.000  0.0000  0.000  0.0000\n",
       "4  0.0000  0.000  0.125  0.0625  0.000  0.000  0.0000  0.000  0.0000\n",
       "5  0.0000  0.000  0.000  0.1250  0.125  0.000  0.0000  0.000  0.0000\n",
       "6  0.0000  0.000  0.000  0.0000  0.000  0.125  0.0625  0.000  0.0000\n",
       "7  0.0000  0.000  0.000  0.0000  0.000  0.000  0.0000  0.125  0.0000\n",
       "8  0.0000  0.000  0.000  0.0000  0.000  0.000  0.0000  0.000  0.0625"
      ]
     },
     "execution_count": 121,
     "metadata": {},
     "output_type": "execute_result"
    }
   ],
   "source": [
    "# составим совместное распределение X и Y\n",
    "\n",
    "holder = []\n",
    "\n",
    "for x, y in product(dX.keys(), dY.keys()):\n",
    "    counter = 0\n",
    "    for i, j in combinations_with_replacement(range(1, n+1), 2):\n",
    "        if i + j == x and i * j == y:\n",
    "            if i == j:\n",
    "                counter += 1\n",
    "            else:\n",
    "                counter += 2  # если пара (i,j) OK, где i!=j, то (j,i) также OK \n",
    "    holder.append(counter)\n",
    "\n",
    "X_Y = np.array(holder).reshape(len(dX), len(dY)) / n**2\n",
    "df = pd.DataFrame(X_Y, index=dX.keys(), columns=dY.keys())\n",
    "df  # значения X - по вертикали, Y - по горизонтали"
   ]
  },
  {
   "cell_type": "code",
   "execution_count": 122,
   "metadata": {},
   "outputs": [
    {
     "data": {
      "text/plain": [
       "2    0.0625\n",
       "3    0.1250\n",
       "4    0.1875\n",
       "5    0.2500\n",
       "6    0.1875\n",
       "7    0.1250\n",
       "8    0.0625\n",
       "dtype: float64"
      ]
     },
     "execution_count": 122,
     "metadata": {},
     "output_type": "execute_result"
    }
   ],
   "source": [
    "# маргинальное (одномерное) распределение X\n",
    "# axis=1 - операция _вдоль_ горизонтальной оси \n",
    "df.sum(axis=1)"
   ]
  },
  {
   "cell_type": "code",
   "execution_count": 123,
   "metadata": {},
   "outputs": [
    {
     "data": {
      "text/plain": [
       "1     0.0625\n",
       "2     0.1250\n",
       "3     0.1250\n",
       "4     0.1875\n",
       "6     0.1250\n",
       "8     0.1250\n",
       "9     0.0625\n",
       "12    0.1250\n",
       "16    0.0625\n",
       "dtype: float64"
      ]
     },
     "execution_count": 123,
     "metadata": {},
     "output_type": "execute_result"
    }
   ],
   "source": [
    "# маргинальное (одномерное) распределение Y\n",
    "# axis=0 - операция _вдоль_ вертикальной оси\n",
    "# в pandas axis=0 - параметр по умолчанию \n",
    "df.sum()"
   ]
  },
  {
   "cell_type": "code",
   "execution_count": 124,
   "metadata": {},
   "outputs": [
    {
     "data": {
      "text/plain": [
       "1.0"
      ]
     },
     "execution_count": 124,
     "metadata": {},
     "output_type": "execute_result"
    }
   ],
   "source": [
    "# в numpy, в отличие от pandas, \n",
    "# суммирование без указания оси даст результат по всему массиву (2D в данном сл.)\n",
    "X_Y.sum()"
   ]
  },
  {
   "cell_type": "code",
   "execution_count": 125,
   "metadata": {},
   "outputs": [
    {
     "data": {
      "text/plain": [
       "array([0.0625, 0.125 , 0.1875, 0.25  , 0.1875, 0.125 , 0.0625])"
      ]
     },
     "execution_count": 125,
     "metadata": {},
     "output_type": "execute_result"
    }
   ],
   "source": [
    "# укажем ось явно\n",
    "# маргинальное (одномерное) распределение X\n",
    "X_Y.sum(axis=1)"
   ]
  },
  {
   "cell_type": "code",
   "execution_count": 126,
   "metadata": {},
   "outputs": [
    {
     "data": {
      "text/plain": [
       "array([0.0625, 0.125 , 0.125 , 0.1875, 0.125 , 0.125 , 0.0625, 0.125 ,\n",
       "       0.0625])"
      ]
     },
     "execution_count": 126,
     "metadata": {},
     "output_type": "execute_result"
    }
   ],
   "source": [
    "# укажем ось явно\n",
    "# маргинальное (одномерное) распределение Y\n",
    "X_Y.sum(axis=0)"
   ]
  },
  {
   "cell_type": "code",
   "execution_count": 127,
   "metadata": {},
   "outputs": [
    {
     "data": {
      "text/latex": [
       "$\\displaystyle \\left\\{ 2 : \\frac{1}{16}, \\  3 : \\frac{1}{8}, \\  4 : \\frac{3}{16}, \\  5 : \\frac{1}{4}, \\  6 : \\frac{3}{16}, \\  7 : \\frac{1}{8}, \\  8 : \\frac{1}{16}\\right\\}$"
      ],
      "text/plain": [
       "{2: 1/16, 3: 1/8, 4: 3/16, 5: 1/4, 6: 3/16, 7: 1/8, 8: 1/16}"
      ]
     },
     "execution_count": 127,
     "metadata": {},
     "output_type": "execute_result"
    }
   ],
   "source": [
    "# альтернативный способ вытягивания маргинального распределения X,\n",
    "# читается: распределение X при условии Y (при данных значениях Y)\n",
    "density(X, Y).dict"
   ]
  },
  {
   "cell_type": "code",
   "execution_count": 128,
   "metadata": {},
   "outputs": [
    {
     "data": {
      "text/latex": [
       "$\\displaystyle \\left\\{ 1 : \\frac{1}{16}, \\  2 : \\frac{1}{8}, \\  3 : \\frac{1}{8}, \\  4 : \\frac{3}{16}, \\  6 : \\frac{1}{8}, \\  8 : \\frac{1}{8}, \\  9 : \\frac{1}{16}, \\  12 : \\frac{1}{8}, \\  16 : \\frac{1}{16}\\right\\}$"
      ],
      "text/plain": [
       "{1: 1/16, 2: 1/8, 3: 1/8, 4: 3/16, 6: 1/8, 8: 1/8, 9: 1/16, 12: 1/8, 16: 1/16}"
      ]
     },
     "execution_count": 128,
     "metadata": {},
     "output_type": "execute_result"
    }
   ],
   "source": [
    "# альтернативный способ вытягивания маргинального распределения Y,\n",
    "# читается: распределение Y при условии X (при данных значениях X)\n",
    "density(Y, X).dict"
   ]
  },
  {
   "cell_type": "markdown",
   "metadata": {},
   "source": [
    "Получим те же распределения в __`numpy`__. Обратите внимание на параметр __`return_counts`__ у [__`numpy.unique`__](https://numpy.org/doc/stable/reference/generated/numpy.unique.html)."
   ]
  },
  {
   "cell_type": "code",
   "execution_count": 5,
   "metadata": {},
   "outputs": [],
   "source": [
    "x_orig = []\n",
    "y_orig = []\n",
    "\n",
    "for pair in product(range(1, n+1), range(1, n+1)):\n",
    "    x_orig.append(add(*pair))\n",
    "    y_orig.append(mul(*pair))\n",
    "    \n",
    "x, Px = np.unique(x_orig, return_counts=True)\n",
    "y, Py = np.unique(y_orig, return_counts=True)\n",
    "Px, Py = map(lambda p: p / n**2, (Px, Py))"
   ]
  },
  {
   "cell_type": "code",
   "execution_count": 6,
   "metadata": {},
   "outputs": [
    {
     "data": {
      "text/plain": [
       "array([2, 3, 4, 5, 6, 7, 8])"
      ]
     },
     "execution_count": 6,
     "metadata": {},
     "output_type": "execute_result"
    }
   ],
   "source": [
    "# значения случайной величины x (аналог X для sympy), сумма очков\n",
    "x  # array([2, 3, 4, 5, 6, 7, 8])"
   ]
  },
  {
   "cell_type": "code",
   "execution_count": 131,
   "metadata": {},
   "outputs": [
    {
     "data": {
      "text/plain": [
       "array([0.0625, 0.125 , 0.1875, 0.25  , 0.1875, 0.125 , 0.0625])"
      ]
     },
     "execution_count": 131,
     "metadata": {},
     "output_type": "execute_result"
    }
   ],
   "source": [
    "# соответствующие вероятности исходов x\n",
    "Px"
   ]
  },
  {
   "cell_type": "code",
   "execution_count": 7,
   "metadata": {},
   "outputs": [
    {
     "data": {
      "text/plain": [
       "array([ 1,  2,  3,  4,  6,  8,  9, 12, 16])"
      ]
     },
     "execution_count": 7,
     "metadata": {},
     "output_type": "execute_result"
    }
   ],
   "source": [
    "# значения случайной величины y (аналог Y для sympy), произведение очков\n",
    "y  # array([ 1,  2,  3,  4,  6,  8,  9, 12, 16])"
   ]
  },
  {
   "cell_type": "code",
   "execution_count": 133,
   "metadata": {},
   "outputs": [
    {
     "data": {
      "text/plain": [
       "array([0.0625, 0.125 , 0.125 , 0.1875, 0.125 , 0.125 , 0.0625, 0.125 ,\n",
       "       0.0625])"
      ]
     },
     "execution_count": 133,
     "metadata": {},
     "output_type": "execute_result"
    }
   ],
   "source": [
    "# соответствующие вероятности исходов y\n",
    "Py"
   ]
  },
  {
   "cell_type": "markdown",
   "metadata": {},
   "source": [
    "***\n",
    "### __Медиана__"
   ]
  },
  {
   "cell_type": "markdown",
   "metadata": {},
   "source": [
    "Медиана в __`numpy`__ определена как центральный элемент сортированного массива при нечетном количестве элементов и полусумма центральной пары - при четном."
   ]
  },
  {
   "cell_type": "code",
   "execution_count": 134,
   "metadata": {},
   "outputs": [
    {
     "data": {
      "text/plain": [
       "array([2, 3, 4, 5, 6, 7, 8])"
      ]
     },
     "execution_count": 134,
     "metadata": {},
     "output_type": "execute_result"
    }
   ],
   "source": [
    "x  # array([2, 3, 4, 5, 6, 7, 8])"
   ]
  },
  {
   "cell_type": "code",
   "execution_count": 135,
   "metadata": {},
   "outputs": [
    {
     "data": {
      "text/plain": [
       "5.0"
      ]
     },
     "execution_count": 135,
     "metadata": {},
     "output_type": "execute_result"
    }
   ],
   "source": [
    "np.median(x)  # 5.0"
   ]
  },
  {
   "cell_type": "code",
   "execution_count": 136,
   "metadata": {},
   "outputs": [
    {
     "data": {
      "text/plain": [
       "3.5"
      ]
     },
     "execution_count": 136,
     "metadata": {},
     "output_type": "execute_result"
    }
   ],
   "source": [
    "arr = np.array([-4, -2, 0, 3, 4, 6, 7, 9])\n",
    "np.median(arr)  # 3.5"
   ]
  },
  {
   "cell_type": "markdown",
   "metadata": {},
   "source": [
    "Другую стратегию работы с медианой можно выбрать, если вспомнить, что медиана это 50-ый процентиль и посмотреть на параметры [__`numpy.percentile`__](https://numpy.org/doc/stable/reference/generated/numpy.percentile#numpy-percentile):"
   ]
  },
  {
   "cell_type": "code",
   "execution_count": 137,
   "metadata": {},
   "outputs": [
    {
     "name": "stdout",
     "output_type": "stream",
     "text": [
      "lower: 3\n",
      "higher: 4\n",
      "midpoint: 3.5\n",
      "nearest: 4\n"
     ]
    }
   ],
   "source": [
    "for method in 'lower', 'higher', 'midpoint', 'nearest':\n",
    "    print(f'{method}: {np.percentile(arr, 50, method=method)}')\n",
    "    \n",
    "# lower: 3\n",
    "# higher: 4\n",
    "# midpoint: 3.5\n",
    "# nearest: 4"
   ]
  },
  {
   "cell_type": "markdown",
   "metadata": {},
   "source": [
    "Второй вариант - отдельные функции __`median`__, __`median_low`__, __`median_high`__, __`median_grouped`__ из модуля [__`statistics`__](https://docs.python.org/3/library/statistics.html) стандартной библиотеки. "
   ]
  },
  {
   "cell_type": "markdown",
   "metadata": {},
   "source": [
    "***\n",
    "### __Математическое ожидание__"
   ]
  },
  {
   "cell_type": "markdown",
   "metadata": {},
   "source": [
    "Если все $n$ значений случайной величины равновозможны, то есть их вероятности равны $\\frac{1}{n}$, то математическое ожидание становится средним арифметическим:\n",
    "$\\mathbb{E}X=x_{1}p_{1}+x_{2}p_{2}+...+x_{n}p_{n}=x_{1}p+x_{2}p+...+x_{n}p=p(x_{1}+x_{2}+...+x_{n})=\\frac{1}{n}\\sum_{i=1}^{n}x_{i}=\\overline x$. В этом случае работает метод массива [__`numpy.ndarray.mean`__](https://numpy.org/doc/stable/reference/generated/numpy.ndarray.mean.html) или его функциональный эквивалент [__`numpy.mean`__](https://numpy.org/doc/stable/reference/generated/numpy.mean.html):"
   ]
  },
  {
   "cell_type": "code",
   "execution_count": 138,
   "metadata": {},
   "outputs": [
    {
     "data": {
      "text/plain": [
       "3.5"
      ]
     },
     "execution_count": 138,
     "metadata": {},
     "output_type": "execute_result"
    }
   ],
   "source": [
    "# математическое ожидание выпавших очков на правильной игральной кости\n",
    "np.arange(1, 7).mean()  # 3.5"
   ]
  },
  {
   "cell_type": "code",
   "execution_count": 139,
   "metadata": {},
   "outputs": [
    {
     "data": {
      "text/latex": [
       "$\\displaystyle \\frac{7}{2}$"
      ],
      "text/plain": [
       "7/2"
      ]
     },
     "execution_count": 139,
     "metadata": {},
     "output_type": "execute_result"
    }
   ],
   "source": [
    "# то же, sympy\n",
    "D = Die('D', 6)\n",
    "E(D)  # 7/2"
   ]
  },
  {
   "cell_type": "markdown",
   "metadata": {},
   "source": [
    "Если значения случайной величины не равновозможны, удобно использовать матричное произведение [__`numpy.matmul`__](https://numpy.org/doc/stable/reference/generated/numpy.matmul.html#numpy-matmul) и его короткую запись _at_, __`@`__:"
   ]
  },
  {
   "cell_type": "code",
   "execution_count": 140,
   "metadata": {},
   "outputs": [
    {
     "data": {
      "text/plain": [
       "5.0"
      ]
     },
     "execution_count": 140,
     "metadata": {},
     "output_type": "execute_result"
    }
   ],
   "source": [
    "# математическое ожидание x, numpy\n",
    "# \"сумма произведений соответствующих координат\"\n",
    "x @ Px  # 5.0"
   ]
  },
  {
   "cell_type": "code",
   "execution_count": 141,
   "metadata": {},
   "outputs": [
    {
     "data": {
      "text/latex": [
       "$\\displaystyle 5$"
      ],
      "text/plain": [
       "5"
      ]
     },
     "execution_count": 141,
     "metadata": {},
     "output_type": "execute_result"
    }
   ],
   "source": [
    "# математическое ожидание X (аналог x), sympy\n",
    "E(X)  # 5"
   ]
  },
  {
   "cell_type": "code",
   "execution_count": 142,
   "metadata": {},
   "outputs": [
    {
     "data": {
      "text/plain": [
       "6.25"
      ]
     },
     "execution_count": 142,
     "metadata": {},
     "output_type": "execute_result"
    }
   ],
   "source": [
    "# математическое ожидание y, numpy\n",
    "y @ Py  # 6.25"
   ]
  },
  {
   "cell_type": "code",
   "execution_count": 143,
   "metadata": {},
   "outputs": [
    {
     "data": {
      "text/latex": [
       "$\\displaystyle 6.25$"
      ],
      "text/plain": [
       "6.25000000000000"
      ]
     },
     "execution_count": 143,
     "metadata": {},
     "output_type": "execute_result"
    }
   ],
   "source": [
    "# математическое ожидание Y (аналог y), sympy\n",
    "E(Y).evalf()  # 6.25"
   ]
  },
  {
   "cell_type": "code",
   "execution_count": 144,
   "metadata": {},
   "outputs": [
    {
     "data": {
      "text/latex": [
       "$\\displaystyle 40$"
      ],
      "text/plain": [
       "40"
      ]
     },
     "execution_count": 144,
     "metadata": {},
     "output_type": "execute_result"
    }
   ],
   "source": [
    "# математическое ожидание случайной величины 3*X + 4*Y, sympy\n",
    "E(3*X + 4*Y)  # 40"
   ]
  },
  {
   "cell_type": "code",
   "execution_count": 145,
   "metadata": {},
   "outputs": [
    {
     "data": {
      "text/latex": [
       "$\\displaystyle \\left\\{ 2 : \\frac{1}{16}, \\  6 : \\frac{1}{8}, \\  12 : \\frac{1}{8}, \\  16 : \\frac{1}{16}, \\  20 : \\frac{1}{8}, \\  30 : \\frac{1}{8}, \\  48 : \\frac{1}{8}, \\  54 : \\frac{1}{16}, \\  84 : \\frac{1}{8}, \\  128 : \\frac{1}{16}\\right\\}$"
      ],
      "text/plain": [
       "{2: 1/16, 6: 1/8, 12: 1/8, 16: 1/16, 20: 1/8, 30: 1/8, 48: 1/8, 54: 1/16, 84: 1/8, 128: 1/16}"
      ]
     },
     "execution_count": 145,
     "metadata": {},
     "output_type": "execute_result"
    }
   ],
   "source": [
    "# случайная величина X*Y\n",
    "XY = FiniteRV('XY', density(t1*t2 * (t1+t2)))\n",
    "density(XY).dict"
   ]
  },
  {
   "cell_type": "markdown",
   "metadata": {},
   "source": [
    "Обратите внимание на то, что перемножаются не сами случайные величины, а их \"плотности\": _pmf_, _probability mass function_, или функция вероятности для дискретных случайных величин, и _pdf_, _probability density function_, или плотность вероятности (плотность распределения) - для непрерывных."
   ]
  },
  {
   "cell_type": "code",
   "execution_count": 146,
   "metadata": {},
   "outputs": [
    {
     "data": {
      "text/latex": [
       "$\\displaystyle 37.5$"
      ],
      "text/plain": [
       "37.5000000000000"
      ]
     },
     "execution_count": 146,
     "metadata": {},
     "output_type": "execute_result"
    }
   ],
   "source": [
    "# математическое ожидание случайной величины X*Y\n",
    "E(XY).evalf()  # 37.5"
   ]
  },
  {
   "cell_type": "code",
   "execution_count": 147,
   "metadata": {},
   "outputs": [
    {
     "data": {
      "text/plain": [
       "False"
      ]
     },
     "execution_count": 147,
     "metadata": {},
     "output_type": "execute_result"
    }
   ],
   "source": [
    "E(XY) == E(X) * E(Y)  # False, вывод: X и Y зависимы"
   ]
  },
  {
   "cell_type": "markdown",
   "metadata": {},
   "source": [
    "***\n",
    "### __Дисперсия. Стандартное отклонение__"
   ]
  },
  {
   "cell_type": "markdown",
   "metadata": {},
   "source": [
    "Если все $n$ значений случайной величины равновозможны, для расчета дисперсии пригоден метод массива [__`numpy.ndarray.var`__](https://numpy.org/doc/stable/reference/generated/numpy.ndarray.var.html) или его функциональный эквивалент [__`numpy.var`__](https://numpy.org/doc/stable/reference/generated/numpy.var):"
   ]
  },
  {
   "cell_type": "code",
   "execution_count": 148,
   "metadata": {},
   "outputs": [
    {
     "data": {
      "text/plain": [
       "2.9166666666666665"
      ]
     },
     "execution_count": 148,
     "metadata": {},
     "output_type": "execute_result"
    }
   ],
   "source": [
    "# правильная игральная кость, дисперсия, numpy\n",
    "fair_die_variance = np.arange(1, 7).var()\n",
    "fair_die_variance  # 2.9166666666666665"
   ]
  },
  {
   "cell_type": "code",
   "execution_count": 149,
   "metadata": {},
   "outputs": [
    {
     "data": {
      "text/plain": [
       "Fraction(35, 12)"
      ]
     },
     "execution_count": 149,
     "metadata": {},
     "output_type": "execute_result"
    }
   ],
   "source": [
    "# в виде дроби\n",
    "Fraction(fair_die_variance).limit_denominator()  # 35/12"
   ]
  },
  {
   "cell_type": "code",
   "execution_count": 150,
   "metadata": {},
   "outputs": [
    {
     "data": {
      "text/latex": [
       "$\\displaystyle \\frac{35}{12}$"
      ],
      "text/plain": [
       "35/12"
      ]
     },
     "execution_count": 150,
     "metadata": {},
     "output_type": "execute_result"
    }
   ],
   "source": [
    "# то же, sympy\n",
    "variance(D)  # 35/12, D = Die('D', 6)"
   ]
  },
  {
   "cell_type": "code",
   "execution_count": 151,
   "metadata": {},
   "outputs": [
    {
     "data": {
      "text/plain": [
       "1.707825127659933"
      ]
     },
     "execution_count": 151,
     "metadata": {},
     "output_type": "execute_result"
    }
   ],
   "source": [
    "# стандартное отклонение, numpy\n",
    "fair_die_std_deviation = np.arange(1, 7).std()\n",
    "fair_die_std_deviation"
   ]
  },
  {
   "cell_type": "code",
   "execution_count": 152,
   "metadata": {},
   "outputs": [
    {
     "data": {
      "text/plain": [
       "True"
      ]
     },
     "execution_count": 152,
     "metadata": {},
     "output_type": "execute_result"
    }
   ],
   "source": [
    "# определение стандартного отклонения\n",
    "fair_die_std_deviation == np.sqrt(fair_die_variance)  # True"
   ]
  },
  {
   "cell_type": "markdown",
   "metadata": {},
   "source": [
    "[__`numpy.ndarray.std`__](https://numpy.org/doc/stable/reference/generated/numpy.ndarray.std.html) | [__`numpy.std`__](https://numpy.org/doc/stable/reference/generated/numpy.std.html)"
   ]
  },
  {
   "cell_type": "markdown",
   "metadata": {},
   "source": [
    "Если значения случайной величины не равновозможны, то, пользуясь определением дисперсии как _математического ожидания квадрата отклонения случайной величины от ее математического ожидания_:"
   ]
  },
  {
   "cell_type": "code",
   "execution_count": 153,
   "metadata": {},
   "outputs": [
    {
     "data": {
      "text/plain": [
       "2.5"
      ]
     },
     "execution_count": 153,
     "metadata": {},
     "output_type": "execute_result"
    }
   ],
   "source": [
    "# дисперсия x, numpy\n",
    "x_var = (x - x @ Px)**2 @ Px  # 2.5\n",
    "x_var"
   ]
  },
  {
   "cell_type": "code",
   "execution_count": 154,
   "metadata": {},
   "outputs": [
    {
     "data": {
      "text/plain": [
       "2.5"
      ]
     },
     "execution_count": 154,
     "metadata": {},
     "output_type": "execute_result"
    }
   ],
   "source": [
    "# или как разница между матожиданием квадрата и квадратом матожидания, numpy\n",
    "x**2 @ Px - (x @ Px)**2  # 2.5"
   ]
  },
  {
   "cell_type": "code",
   "execution_count": 155,
   "metadata": {},
   "outputs": [
    {
     "data": {
      "text/latex": [
       "$\\displaystyle 2.5$"
      ],
      "text/plain": [
       "2.50000000000000"
      ]
     },
     "execution_count": 155,
     "metadata": {},
     "output_type": "execute_result"
    }
   ],
   "source": [
    "# дисперсия X (аналог x), sympy\n",
    "variance(X).evalf()  # 2.5"
   ]
  },
  {
   "cell_type": "code",
   "execution_count": 156,
   "metadata": {},
   "outputs": [
    {
     "data": {
      "text/plain": [
       "17.1875"
      ]
     },
     "execution_count": 156,
     "metadata": {},
     "output_type": "execute_result"
    }
   ],
   "source": [
    "# дисперсия y, numpy\n",
    "y_var = (y - y @ Py)**2 @ Py  # 17.1875\n",
    "y_var"
   ]
  },
  {
   "cell_type": "code",
   "execution_count": 157,
   "metadata": {},
   "outputs": [
    {
     "data": {
      "text/latex": [
       "$\\displaystyle 17.1875$"
      ],
      "text/plain": [
       "17.1875000000000"
      ]
     },
     "execution_count": 157,
     "metadata": {},
     "output_type": "execute_result"
    }
   ],
   "source": [
    "# дисперсия Y (аналог y), sympy\n",
    "variance(Y).evalf()  # 17.1875"
   ]
  },
  {
   "cell_type": "code",
   "execution_count": 158,
   "metadata": {},
   "outputs": [
    {
     "data": {
      "text/plain": [
       "1.5811388300841898"
      ]
     },
     "execution_count": 158,
     "metadata": {},
     "output_type": "execute_result"
    }
   ],
   "source": [
    "# стандартное отклонение x, numpy\n",
    "x_std = np.sqrt(x_var)\n",
    "x_std  # 1.5811388300841898"
   ]
  },
  {
   "cell_type": "code",
   "execution_count": 159,
   "metadata": {},
   "outputs": [
    {
     "data": {
      "text/plain": [
       "4.14578098794425"
      ]
     },
     "execution_count": 159,
     "metadata": {},
     "output_type": "execute_result"
    }
   ],
   "source": [
    "# стандартное отклонение y, numpy\n",
    "y_std = np.sqrt(y_var)\n",
    "y_std  # 4.14578098794425"
   ]
  },
  {
   "cell_type": "markdown",
   "metadata": {},
   "source": [
    "***\n",
    "### __Ковариация. Коэффициент корреляции__"
   ]
  },
  {
   "cell_type": "markdown",
   "metadata": {},
   "source": [
    "Ковариацией двух случайных величин $X$ и $Y$ называется математическое ожидание произведения отклонений этих величин от своих математических ожиданий: $\\textbf{cov}(X,Y)=\\mathbb E[(X-\\mathbb EX)(Y-\\mathbb EY)]$. Для дискретных случайных величин в общем случае $\\textbf{cov}(X,Y)=\\sum_{i=1}^{n}\\sum_{j=1}^{m}(x_{i}-\\mathbb EX)(y_{j}-\\mathbb EY)p_{ij}$. Если пара дискретных случайных величин $X$ и $Y$ имеет $n$ равновозможных реализаций $(x_{i},y_{i})$, т.е. $p_{i}=1/n$, то $\\textbf{cov}(X,Y)=\\frac{1}{n}\\sum_{i=1}^{n}(x_{i}-\\mathbb EX)(y_{j}-\\mathbb EY)$. В  случае, если мы работаем не со всей генеральной совокупностью, а с выборкой объема $N$, неизвестные матожидания заменяются на выборочные средние, а усреднение производится не по $n$, а по $(N-1)$: $\\textbf{cov}(X,Y)=\\frac{1}{N-1}\\sum_{i=1}^{N}(x_{i}-\\overline x)(y_{j}-\\overline y)$.\n",
    "Именно из такого предположения выборочности по умолчанию и считает [ковариационную матрицу](https://ru.wikipedia.org/wiki/%D0%9A%D0%BE%D0%B2%D0%B0%D1%80%D0%B8%D0%B0%D1%86%D0%B8%D0%BE%D0%BD%D0%BD%D0%B0%D1%8F_%D0%BC%D0%B0%D1%82%D1%80%D0%B8%D1%86%D0%B0) [__`numpy.cov`__](https://numpy.org/doc/stable/reference/generated/numpy.cov.html). В нашем конкретном случае с двукратным бросанием тетраэдра мы имеем доступ ко всей генеральной совокупности реализаций случайных величин $X$ и $Y$ - по шестнадцать равновозможных, частично повторяющихся исходов:"
   ]
  },
  {
   "cell_type": "code",
   "execution_count": 160,
   "metadata": {},
   "outputs": [
    {
     "data": {
      "text/plain": [
       "[2, 3, 4, 5, 3, 4, 5, 6, 4, 5, 6, 7, 5, 6, 7, 8]"
      ]
     },
     "execution_count": 160,
     "metadata": {},
     "output_type": "execute_result"
    }
   ],
   "source": [
    "x_orig\n",
    "# суммы выпавших очков: [2, 3, 4, 5, 3, 4, 5, 6, 4, 5, 6, 7, 5, 6, 7, 8]"
   ]
  },
  {
   "cell_type": "code",
   "execution_count": 161,
   "metadata": {},
   "outputs": [
    {
     "data": {
      "text/plain": [
       "[1, 2, 3, 4, 2, 4, 6, 8, 3, 6, 9, 12, 4, 8, 12, 16]"
      ]
     },
     "execution_count": 161,
     "metadata": {},
     "output_type": "execute_result"
    }
   ],
   "source": [
    "y_orig\n",
    "# произведения выпавших очков: [1, 2, 3, 4, 2, 4, 6, 8, 3, 6, 9, 12, 4, 8, 12, 16]"
   ]
  },
  {
   "cell_type": "code",
   "execution_count": 162,
   "metadata": {},
   "outputs": [
    {
     "data": {
      "text/plain": [
       "True"
      ]
     },
     "execution_count": 162,
     "metadata": {},
     "output_type": "execute_result"
    }
   ],
   "source": [
    "len(x_orig) == len(y_orig) == 16  # True"
   ]
  },
  {
   "cell_type": "markdown",
   "metadata": {},
   "source": [
    "Чтобы избавиться от единицы в усредняющем множителе и тем самым показать, что мы работаем не с выборкой, а с генеральной совокупностью, нужно в __`numpy.cov`__ указать либо параметр __`bias=True`__, либо __`ddof=0`__:  "
   ]
  },
  {
   "cell_type": "code",
   "execution_count": 163,
   "metadata": {},
   "outputs": [
    {
     "data": {
      "text/plain": [
       "array([[ 2.5   ,  6.25  ],\n",
       "       [ 6.25  , 17.1875]])"
      ]
     },
     "execution_count": 163,
     "metadata": {},
     "output_type": "execute_result"
    }
   ],
   "source": [
    "xy_cov = np.cov(x_orig, y_orig, bias=True)\n",
    "xy_cov\n",
    "# array([[ 2.5   ,  6.25  ],\n",
    "#        [ 6.25  , 17.1875]])"
   ]
  },
  {
   "cell_type": "code",
   "execution_count": 164,
   "metadata": {},
   "outputs": [
    {
     "data": {
      "text/plain": [
       "array([[ 2.5   ,  6.25  ],\n",
       "       [ 6.25  , 17.1875]])"
      ]
     },
     "execution_count": 164,
     "metadata": {},
     "output_type": "execute_result"
    }
   ],
   "source": [
    "np.cov(x_orig, y_orig, ddof=0)\n",
    "# array([[ 2.5   ,  6.25  ],\n",
    "#        [ 6.25  , 17.1875]])"
   ]
  },
  {
   "cell_type": "markdown",
   "metadata": {},
   "source": [
    "Параметр __`ddof`__ это _delta degrees of freedom_. Важно помнить, что это не число степеней свободы, а отклонение от него - _дельта_. Смещенность/несмещенность оценок регулируется именно им.\n",
    "\n",
    "Обратите внимание на элементы главной диагонали: ковариация случайной величины с самой собой есть ее дисперсия. А поскольку порядок следования случайных величин для ковариации неважен, на побочной диагонали стоят одинаковые значения ковариации __`x`__ и __`y`__:"
   ]
  },
  {
   "cell_type": "code",
   "execution_count": 165,
   "metadata": {},
   "outputs": [
    {
     "data": {
      "text/plain": [
       "6.25"
      ]
     },
     "execution_count": 165,
     "metadata": {},
     "output_type": "execute_result"
    }
   ],
   "source": [
    "xy_cov[0][1]  # 6.25"
   ]
  },
  {
   "cell_type": "code",
   "execution_count": 166,
   "metadata": {},
   "outputs": [
    {
     "data": {
      "text/plain": [
       "True"
      ]
     },
     "execution_count": 166,
     "metadata": {},
     "output_type": "execute_result"
    }
   ],
   "source": [
    "# сверка с решением sympy\n",
    "xy_cov[0][1] == E(XY) - E(X)*E(Y)  # True"
   ]
  },
  {
   "cell_type": "markdown",
   "metadata": {},
   "source": [
    "\"Выборочный несмещенный\" случай можно рассчитать появившейся в python 3.10 функцией __`covariance`__ из модуля __`statistics`__:"
   ]
  },
  {
   "cell_type": "code",
   "execution_count": 167,
   "metadata": {},
   "outputs": [
    {
     "data": {
      "text/plain": [
       "True"
      ]
     },
     "execution_count": 167,
     "metadata": {},
     "output_type": "execute_result"
    }
   ],
   "source": [
    "covariance(x_orig, y_orig) == np.cov(x_orig, y_orig, ddof=1)[0][1]  # True"
   ]
  },
  {
   "cell_type": "code",
   "execution_count": 168,
   "metadata": {},
   "outputs": [
    {
     "data": {
      "text/plain": [
       "6.666666666666667"
      ]
     },
     "execution_count": 168,
     "metadata": {},
     "output_type": "execute_result"
    }
   ],
   "source": [
    "covariance(x_orig, y_orig)  # 6.666666666666667"
   ]
  },
  {
   "cell_type": "code",
   "execution_count": 169,
   "metadata": {},
   "outputs": [
    {
     "data": {
      "text/plain": [
       "0.9534625892455922"
      ]
     },
     "execution_count": 169,
     "metadata": {},
     "output_type": "execute_result"
    }
   ],
   "source": [
    "# коэффициент корреляции, statistics.correlation, станд. библиотека \n",
    "xy_corr = correlation(x_orig, y_orig)\n",
    "xy_corr  # 0.9534625892455922"
   ]
  },
  {
   "cell_type": "code",
   "execution_count": 170,
   "metadata": {},
   "outputs": [
    {
     "data": {
      "text/plain": [
       "0.9534625892455921"
      ]
     },
     "execution_count": 170,
     "metadata": {},
     "output_type": "execute_result"
    }
   ],
   "source": [
    "# коэффициент корреляции (Пирсона), scipy.stats\n",
    "stats.pearsonr(x_orig, y_orig)[0]  # 0.9534625892455921"
   ]
  },
  {
   "cell_type": "code",
   "execution_count": 171,
   "metadata": {},
   "outputs": [
    {
     "data": {
      "text/plain": [
       "True"
      ]
     },
     "execution_count": 171,
     "metadata": {},
     "output_type": "execute_result"
    }
   ],
   "source": [
    "# определение коэффициента корреляции\n",
    "xy_corr == xy_cov[0][1] / x_std / y_std  # True"
   ]
  },
  {
   "cell_type": "markdown",
   "metadata": {},
   "source": [
    "***\n",
    "### __Иллюстрация Закона больших чисел__"
   ]
  },
  {
   "cell_type": "markdown",
   "metadata": {},
   "source": [
    "Напишем функцию для __`n_times`__ сессий подбрасывания монеты по __`n_times`__ раз каждая. Пусть $1$ условно кодирует решку, а $0$ - орла. Тогда среднее значение по сессии это доля решек в данной сессии. Построим гистограмму распределения этих долей, нормализованную (масштабированную) таким образом, что суммарная площадь столбиков равна единице. В настройках гистограммы воспользуемся также опцией [оценки ядерной плотности](https://ru.wikipedia.org/wiki/%D0%AF%D0%B4%D0%B5%D1%80%D0%BD%D0%B0%D1%8F_%D0%BE%D1%86%D0%B5%D0%BD%D0%BA%D0%B0_%D0%BF%D0%BB%D0%BE%D1%82%D0%BD%D0%BE%D1%81%D1%82%D0%B8) (KDE, _kernel density estimation_) - толстая синия линия.\n",
    "<br>Сделаем предположение о том, что распределение долей решек стремится к нормальному распределению с ростом числа подбрасываний. По массиву долей решек, с помощью метода __`fit`__ нормально распределенной случайной величины __`scipy.stats.norm`__, оценим параметры этого нормального распределения __`loc`__ и __`scale`__, или $\\mu$ и $\\sigma$ - матожидание и стандартное отклонение соответственно. По данным оценкам инициализируем нормально распределенную случайную величину __`rv`__ и построим график ее плотности распределения для значений от квантиля уровня $0,001$ $(0,1\\%)$ до квантиля уровня $0,999$ $(99,9\\%)$ - тонкая красная линия.\n",
    "<br>Как видно, с ростом числа подбрасываний графики все больше накладываются друг на друга, а среднее значение, или доля решек в сессии, все ближе к $0,5$ - вероятности выпадения решки при однократном подбрасывании.   "
   ]
  },
  {
   "cell_type": "code",
   "execution_count": 12,
   "metadata": {},
   "outputs": [],
   "source": [
    "sns.set_theme()"
   ]
  },
  {
   "cell_type": "code",
   "execution_count": 138,
   "metadata": {},
   "outputs": [],
   "source": [
    "def flip_coin(*, n_times: int) -> None:\n",
    "    arr = [np.array([choice([0, 1]) for _ in range(n_times)]).mean()\n",
    "           for _ in range(n_times)]\n",
    "    loc, scale = stats.norm.fit(arr)\n",
    "    rv = stats.norm(loc, scale)\n",
    "    x = np.linspace(rv.ppf(.001), rv.ppf(.999), 999)\n",
    "    plt.figure(figsize=(9, 6))\n",
    "    sns.histplot(arr, stat='density', kde=True, \n",
    "                 line_kws={'lw': 5, 'alpha': .75})\n",
    "    sns.lineplot(x=x, y=rv.pdf(x), color='red')\n",
    "    plt.show()"
   ]
  },
  {
   "cell_type": "code",
   "execution_count": 139,
   "metadata": {},
   "outputs": [
    {
     "data": {
      "image/png": "[encoded data removed]",
      "text/plain": [
       "<Figure size 648x432 with 1 Axes>"
      ]
     },
     "metadata": {},
     "output_type": "display_data"
    }
   ],
   "source": [
    "flip_coin(n_times=100)"
   ]
  },
  {
   "cell_type": "code",
   "execution_count": 140,
   "metadata": {},
   "outputs": [
    {
     "data": {
      "image/png": "[encoded data removed]",
      "text/plain": [
       "<Figure size 648x432 with 1 Axes>"
      ]
     },
     "metadata": {},
     "output_type": "display_data"
    }
   ],
   "source": [
    "flip_coin(n_times=1000)"
   ]
  },
  {
   "cell_type": "code",
   "execution_count": 141,
   "metadata": {},
   "outputs": [
    {
     "data": {
      "image/png": "[encoded data removed]",
      "text/plain": [
       "<Figure size 648x432 with 1 Axes>"
      ]
     },
     "metadata": {},
     "output_type": "display_data"
    }
   ],
   "source": [
    "flip_coin(n_times=10_000)"
   ]
  },
  {
   "cell_type": "markdown",
   "metadata": {},
   "source": [
    "***\n",
    "### __Предельные теоремы для схемы Бернулли__"
   ]
  },
  {
   "cell_type": "markdown",
   "metadata": {},
   "source": [
    "__Пример__. _Найти вероятность события $A$, заключающегося в том, что произошло не менее $k=5$ успехов в серии из $n=100$ испытаний по схеме Бернулли, где вероятность успеха в каждом испытании постоянна и равна $p=0,03$._\n",
    "\n",
    "Посчитаем вычитанием из единицы вероятности противоположного события - вычтем в цикле последовательно вероятности ровно 0, 1, ..., 4 успехов, посчитанные последовательно: по формуле Бернулли вручную, как pmf биномиальной случайной величины __`scipy.stats.binom`__, по теореме Пуассона вручную, как pmf пуассоновской случайной величины __`scipy.stats.poisson`__, по локальной теореме Муавра-Лапласа:"
   ]
  },
  {
   "cell_type": "code",
   "execution_count": 126,
   "metadata": {},
   "outputs": [
    {
     "name": "stdout",
     "output_type": "stream",
     "text": [
      "p_bernoulli_handm=0.18214519392435996\n",
      "p_bernoulli_stats=0.1821451939243579\n",
      "p_poisson_handm=0.18473675547622792\n",
      "p_poisson_stats=0.1847367554762279\n",
      "p_ml_loc=0.2048119738911829\n"
     ]
    }
   ],
   "source": [
    "n = 100\n",
    "k = 5\n",
    "p = .03\n",
    "\n",
    "p_bernoulli_handm = p_bernoulli_stats = \\\n",
    "    p_poisson_handm = p_poisson_stats = \\\n",
    "        p_ml_loc = 1\n",
    "\n",
    "rv_binom = stats.binom(n, p)\n",
    "rv_poisson = stats.poisson(n*p)\n",
    "\n",
    "for i in range(k):\n",
    "    p_bernoulli_handm -= binom(n, i) * p**i * (1-p)**(n-i)\n",
    "    p_bernoulli_stats -= rv_binom.pmf(i)\n",
    "    p_poisson_handm -= (n*p)**i * np.exp(-n*p) / factorial(i)\n",
    "    p_poisson_stats -= rv_poisson.pmf(i)\n",
    "    p_ml_loc -= np.exp(-(i-n*p)**2/(2*n*p*(1-p))) / np.sqrt(2*np.pi*n*p*(1-p))\n",
    "\n",
    "print(\n",
    "    f'{p_bernoulli_handm=}\\n'\n",
    "    f'{p_bernoulli_stats=}\\n'\n",
    "    f'{p_poisson_handm=}\\n'\n",
    "    f'{p_poisson_stats=}\\n'\n",
    "    f'{p_ml_loc=}'\n",
    ")\n",
    "\n",
    "# p_bernoulli_handm=0.18214519392435996\n",
    "# p_bernoulli_stats=0.1821451939243579\n",
    "# p_poisson_handm=0.18473675547622792\n",
    "# p_poisson_stats=0.1847367554762279\n",
    "# p_ml_loc=0.2048119738911829"
   ]
  },
  {
   "cell_type": "markdown",
   "metadata": {},
   "source": [
    "Обратите внимание, что суммирование вероятностей по локальной теореме Муавра-Лапласа от 5 до 100 дает более точный результат:"
   ]
  },
  {
   "cell_type": "code",
   "execution_count": 127,
   "metadata": {},
   "outputs": [
    {
     "data": {
      "text/plain": [
       "0.1861240501530454"
      ]
     },
     "execution_count": 127,
     "metadata": {},
     "output_type": "execute_result"
    }
   ],
   "source": [
    "p_ml_loc = 0\n",
    "\n",
    "for i in range(k, n+1):\n",
    "    p_ml_loc += np.exp(-(i-n*p)**2/(2*n*p*(1-p))) / np.sqrt(2*np.pi*n*p*(1-p))\n",
    "    \n",
    "p_ml_loc  # 0.1861240501530454"
   ]
  },
  {
   "cell_type": "markdown",
   "metadata": {},
   "source": [
    "Расчет по интегральной теореме Муавра-Лапласа с помощью [__`scipy.integrate.quad`__](https://scipy.github.io/devdocs/reference/generated/scipy.integrate.quad.html):"
   ]
  },
  {
   "cell_type": "code",
   "execution_count": 128,
   "metadata": {},
   "outputs": [
    {
     "data": {
      "text/plain": [
       "0.120514083632216"
      ]
     },
     "execution_count": 128,
     "metadata": {},
     "output_type": "execute_result"
    }
   ],
   "source": [
    "bound = lambda x: (x - n*p) / np.sqrt(n*p*(1-p))\n",
    "Phi = lambda x: np.exp(-x**2/2)\n",
    "p_ml_int = quad(Phi, bound(k), bound(n))[0] / np.sqrt(2*np.pi)\n",
    "p_ml_int  # 0.120514083632216"
   ]
  },
  {
   "cell_type": "markdown",
   "metadata": {},
   "source": [
    "***"
   ]
  }
 ],
 "metadata": {
  "kernelspec": {
   "display_name": "Python 3.10.4 64-bit",
   "language": "python",
   "name": "python3"
  },
  "language_info": {
   "codemirror_mode": {
    "name": "ipython",
    "version": 3
   },
   "file_extension": ".py",
   "mimetype": "text/x-python",
   "name": "python",
   "nbconvert_exporter": "python",
   "pygments_lexer": "ipython3",
   "version": "3.10.4"
  },
  "orig_nbformat": 4,
  "vscode": {
   "interpreter": {
    "hash": "2b7d1ed637790b5ec3de7c97104df404492ef6fce05ce8fb6d683ce6cc683c52"
   }
  }
 },
 "nbformat": 4,
 "nbformat_minor": 2
}
